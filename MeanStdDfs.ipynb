{
 "cells": [
  {
   "cell_type": "code",
   "execution_count": 1,
   "id": "c1759cbd-0bcb-400a-b30e-1493654802fd",
   "metadata": {},
   "outputs": [],
   "source": [
    "import os\n",
    "import pandas as pd\n",
    "import numpy as np"
   ]
  },
  {
   "cell_type": "code",
   "execution_count": 2,
   "id": "a397e706-42dc-48a5-92eb-dfb7819e2c8e",
   "metadata": {},
   "outputs": [],
   "source": [
    "os.makedirs(\"./results/processed_results\", exist_ok=True)"
   ]
  },
  {
   "cell_type": "code",
   "execution_count": 3,
   "id": "845681fe-aceb-45ca-a64b-f3fe76048580",
   "metadata": {},
   "outputs": [],
   "source": [
    "files = os.listdir(\"./results\")\n",
    "files.sort()\n",
    "exp_dict_to_df_array = dict()\n",
    "for file in files:\n",
    "    if \".csv\" not in file: continue\n",
    "    exp_prefix = \"_\".join(file.split(\"_\")[:-1])\n",
    "    df = pd.read_csv(\"results/\" + file, index_col = 0)\n",
    "    if exp_prefix not in exp_dict_to_df_array:\n",
    "        exp_dict_to_df_array[exp_prefix] = []\n",
    "\n",
    "    df.index = df.pop(\"name\")\n",
    "    exp_dict_to_df_array[exp_prefix].append(df.iloc[-15:, :]) ## I made a mistake in my DBMS EValuator class which is why all pandas dataframes are concatenated per experiment"
   ]
  },
  {
   "cell_type": "code",
   "execution_count": 4,
   "id": "94f75008-70c8-4804-a0ae-819019d3c0ed",
   "metadata": {},
   "outputs": [
    {
     "name": "stdout",
     "output_type": "stream",
     "text": [
      "mysql_col\n",
      "23\n",
      "mysql_mysql_list\n",
      "23\n",
      "neo4j_col\n",
      "24\n",
      "neo4j_neo4j_list\n",
      "24\n",
      "postgres_col\n",
      "23\n",
      "postgres_postgres_list\n",
      "23\n"
     ]
    }
   ],
   "source": [
    "for key in exp_dict_to_df_array:\n",
    "    print(key)\n",
    "    print(len(exp_dict_to_df_array[key]))"
   ]
  },
  {
   "cell_type": "code",
   "execution_count": 5,
   "id": "5a2a9777-33f6-4d74-9719-ff684677f036",
   "metadata": {},
   "outputs": [
    {
     "name": "stdout",
     "output_type": "stream",
     "text": [
      "mysql_col\n",
      "mysql_mysql_list\n",
      "neo4j_col\n",
      "neo4j_neo4j_list\n",
      "postgres_col\n",
      "postgres_postgres_list\n"
     ]
    }
   ],
   "source": [
    "for exp_prefix in exp_dict_to_df_array:\n",
    "    # if \"neo4j\" in exp_prefix: continue\n",
    "    print(exp_prefix)\n",
    "    mean_df = pd.DataFrame(np.mean(exp_dict_to_df_array[exp_prefix], axis = 0), index = exp_dict_to_df_array[exp_prefix][0].index, columns = exp_dict_to_df_array[exp_prefix][0].columns)\n",
    "    std_df = pd.DataFrame(np.std(exp_dict_to_df_array[exp_prefix], axis = 0), index = exp_dict_to_df_array[exp_prefix][0].index, columns = exp_dict_to_df_array[exp_prefix][0].columns)\n",
    "    mean_df[\"name\"] = mean_df.index\n",
    "    mean_df = mean_df.reset_index(drop = True)\n",
    "    std_df[\"name\"] = std_df.index\n",
    "    std_df = std_df.reset_index(drop = True)\n",
    "    mean_df.to_csv(f\"./results/processed_results/{exp_prefix}_mean.csv\")\n",
    "    std_df.to_csv(f\"./results/processed_results/{exp_prefix}_std.csv\")"
   ]
  },
  {
   "cell_type": "code",
   "execution_count": null,
   "id": "23b3d949-8259-44d6-8b0f-e9a117115a6d",
   "metadata": {},
   "outputs": [],
   "source": []
  }
 ],
 "metadata": {
  "kernelspec": {
   "display_name": "Python 3 (ipykernel)",
   "language": "python",
   "name": "python3"
  },
  "language_info": {
   "codemirror_mode": {
    "name": "ipython",
    "version": 3
   },
   "file_extension": ".py",
   "mimetype": "text/x-python",
   "name": "python",
   "nbconvert_exporter": "python",
   "pygments_lexer": "ipython3",
   "version": "3.10.12"
  }
 },
 "nbformat": 4,
 "nbformat_minor": 5
}
