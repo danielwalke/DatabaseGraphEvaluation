{
 "cells": [
  {
   "cell_type": "code",
   "execution_count": 1,
   "id": "8810b6cb-fc77-4cd8-9bd8-b58dc7133366",
   "metadata": {},
   "outputs": [
    {
     "ename": "NameError",
     "evalue": "name 'Evaluator' is not defined",
     "output_type": "error",
     "traceback": [
      "\u001b[0;31m---------------------------------------------------------------------------\u001b[0m",
      "\u001b[0;31mNameError\u001b[0m                                 Traceback (most recent call last)",
      "Cell \u001b[0;32mIn[1], line 3\u001b[0m\n\u001b[1;32m      1\u001b[0m \u001b[38;5;66;03m##### from Evaluator import Evaluator\u001b[39;00m\n\u001b[0;32m----> 3\u001b[0m evaluator \u001b[38;5;241m=\u001b[39m \u001b[43mEvaluator\u001b[49m()\n\u001b[1;32m      4\u001b[0m evaluator\u001b[38;5;241m.\u001b[39mevaluate()\n",
      "\u001b[0;31mNameError\u001b[0m: name 'Evaluator' is not defined"
     ]
    }
   ],
   "source": [
    "##### from Evaluator import Evaluator\n",
    "\n",
    "evaluator = Evaluator()\n",
    "evaluator.evaluate()"
   ]
  },
  {
   "cell_type": "code",
   "execution_count": 2,
   "id": "b1f3bc84-cd75-44ff-b941-2151329b8e66",
   "metadata": {},
   "outputs": [
    {
     "name": "stderr",
     "output_type": "stream",
     "text": [
      "/home/dwalke/.local/lib/python3.10/site-packages/transformers/utils/generic.py:441: UserWarning: torch.utils._pytree._register_pytree_node is deprecated. Please use torch.utils._pytree.register_pytree_node instead.\n",
      "  _torch_pytree._register_pytree_node(\n"
     ]
    }
   ],
   "source": [
    "from DBMSEvaluator import DBMSEvaluator\n",
    "from MySQLList import MySQLList\n",
    "from PostgresList import PostgresList\n",
    "from Neo4jList import Neo4jList\n",
    "from MySQLCol import MySQLCol\n",
    "from PostgresCol import PostgresCol\n",
    "from Neo4jCol import Neo4jCol\n",
    "\n",
    "# print(\"Evaluate MySQL (all features and labels in columns)\")\n",
    "# mysql_col_evaluator = DBMSEvaluator(MySQLCol)\n",
    "# mysql_col_evaluator.evaluate()\n",
    "\n",
    "# print(\"Evaluate MySQL (all features and labels in lists)\")\n",
    "# mysql_list_evaluator = DBMSEvaluator(MySQLList)\n",
    "# mysql_list_evaluator.evaluate()"
   ]
  },
  {
   "cell_type": "code",
   "execution_count": 2,
   "id": "edf26f03-1b83-4124-91c6-51543d719219",
   "metadata": {},
   "outputs": [],
   "source": [
    "# print(\"Evaluate Postgres (all features and labels in lists)\")\n",
    "# postgres_list_evaluator = DBMSEvaluator(PostgresList)\n",
    "# postgres_list_evaluator.evaluate()"
   ]
  },
  {
   "cell_type": "code",
   "execution_count": 3,
   "id": "3a4cb2d9-818b-4451-a6af-f780c0db87df",
   "metadata": {},
   "outputs": [],
   "source": [
    "# from DBMSEvaluator import DBMSEvaluator\n",
    "# from MySQLList import MySQLList\n",
    "# from PostgresList import PostgresList\n",
    "# from Neo4jList import Neo4jList\n",
    "# from MySQLCol import MySQLCol\n",
    "# from PostgresCol import PostgresCol\n",
    "# from Neo4jCol import Neo4jCol\n",
    "# print(\"Evaluate Postgres (all features and labels in columns)\")\n",
    "# postgres_col_evaluator = DBMSEvaluator(PostgresCol)\n",
    "# postgres_col_evaluator.evaluate()"
   ]
  },
  {
   "cell_type": "code",
   "execution_count": null,
   "id": "cd1395ba-8ac2-4639-8fd6-109b90855816",
   "metadata": {},
   "outputs": [],
   "source": []
  },
  {
   "cell_type": "code",
   "execution_count": 1,
   "id": "537ec6c9-7dc7-44fb-9cad-6b68f68aeded",
   "metadata": {},
   "outputs": [
    {
     "name": "stderr",
     "output_type": "stream",
     "text": [
      "/home/dwalke/.local/lib/python3.10/site-packages/transformers/utils/generic.py:441: UserWarning: torch.utils._pytree._register_pytree_node is deprecated. Please use torch.utils._pytree.register_pytree_node instead.\n",
      "  _torch_pytree._register_pytree_node(\n"
     ]
    }
   ],
   "source": [
    "from CRUD import CRUD_Evaluator\n",
    "from DBMSEvaluator import DBMSEvaluator\n",
    "from MySQLList import MySQLList\n",
    "from PostgresList import PostgresList\n",
    "from Neo4jList import Neo4jList\n",
    "from MySQLCol import MySQLCol\n",
    "from PostgresCol import PostgresCol\n",
    "from Neo4jCol import Neo4jCol\n",
    "import pandas as pd"
   ]
  },
  {
   "cell_type": "code",
   "execution_count": 2,
   "id": "b8e11a81-13aa-499c-94c2-f234e52cf13e",
   "metadata": {
    "scrolled": true
   },
   "outputs": [
    {
     "name": "stdout",
     "output_type": "stream",
     "text": [
      "Create\n"
     ]
    }
   ],
   "source": [
    "num_nodes = 1000\n",
    "num_edges = \"5_edges\" #\"scale_free\"\n",
    "crud_evaluator = CRUD_Evaluator(Neo4jList, f\"X_{str(num_nodes)}_nodes_{num_edges}.csv\", f\"y_{str(num_nodes)}_nodes_{num_edges}.csv\", f\"edge_index_{str(num_nodes)}_nodes_{num_edges}.csv\", f\"X_and_y_{str(num_nodes)}_nodes_{num_edges}_neo4j_list.csv\")\n",
    "create_time = crud_evaluator.create()"
   ]
  },
  {
   "cell_type": "code",
   "execution_count": 3,
   "id": "93745099-bd04-451d-a10b-09a975e3ade6",
   "metadata": {
    "scrolled": true
   },
   "outputs": [
    {
     "name": "stdout",
     "output_type": "stream",
     "text": [
      "Read\n"
     ]
    },
    {
     "name": "stderr",
     "output_type": "stream",
     "text": [
      "Reading subgraphs of order 1:   2%|▉                                                  | 18/1000 [00:05<05:18,  3.09it/s]\n"
     ]
    },
    {
     "ename": "KeyboardInterrupt",
     "evalue": "",
     "output_type": "error",
     "traceback": [
      "\u001b[0;31m---------------------------------------------------------------------------\u001b[0m",
      "\u001b[0;31mKeyboardInterrupt\u001b[0m                         Traceback (most recent call last)",
      "Cell \u001b[0;32mIn[3], line 1\u001b[0m\n\u001b[0;32m----> 1\u001b[0m read_time, test_time \u001b[38;5;241m=\u001b[39m \u001b[43mcrud_evaluator\u001b[49m\u001b[38;5;241;43m.\u001b[39;49m\u001b[43mread\u001b[49m\u001b[43m(\u001b[49m\u001b[38;5;241;43m1\u001b[39;49m\u001b[43m,\u001b[49m\u001b[43m \u001b[49m\u001b[43massert_labels\u001b[49m\u001b[43m \u001b[49m\u001b[38;5;241;43m=\u001b[39;49m\u001b[43m \u001b[49m\u001b[38;5;28;43;01mTrue\u001b[39;49;00m\u001b[43m,\u001b[49m\u001b[43m \u001b[49m\u001b[43massert_features\u001b[49m\u001b[43m \u001b[49m\u001b[38;5;241;43m=\u001b[39;49m\u001b[43m \u001b[49m\u001b[38;5;28;43;01mTrue\u001b[39;49;00m\u001b[43m)\u001b[49m\n",
      "File \u001b[0;32m~/git/db_eval/CRUD.py:43\u001b[0m, in \u001b[0;36mCRUD_Evaluator.read\u001b[0;34m(self, hops, assert_ids, assert_edge_index, assert_features, assert_labels, random_sample_size)\u001b[0m\n\u001b[1;32m     41\u001b[0m     \u001b[38;5;28;01mdel\u001b[39;00m test_subgraph\u001b[38;5;241m.\u001b[39medge_index\n\u001b[1;32m     42\u001b[0m     \u001b[38;5;28;01mdel\u001b[39;00m subgraph\u001b[38;5;241m.\u001b[39medge_index\n\u001b[0;32m---> 43\u001b[0m     \u001b[43mgc\u001b[49m\u001b[38;5;241;43m.\u001b[39;49m\u001b[43mcollect\u001b[49m\u001b[43m(\u001b[49m\u001b[43m)\u001b[49m\n\u001b[1;32m     44\u001b[0m \u001b[38;5;28;01mif\u001b[39;00m assert_features:\n\u001b[1;32m     45\u001b[0m     \u001b[38;5;28;01massert\u001b[39;00m np\u001b[38;5;241m.\u001b[39mallclose(subgraph\u001b[38;5;241m.\u001b[39mfeatures\u001b[38;5;241m.\u001b[39mastype(np\u001b[38;5;241m.\u001b[39mfloat32), test_subgraph\u001b[38;5;241m.\u001b[39mfeatures\u001b[38;5;241m.\u001b[39mastype(np\u001b[38;5;241m.\u001b[39mfloat32)), \u001b[38;5;124m\"\u001b[39m\u001b[38;5;124mFeatures does not match\u001b[39m\u001b[38;5;124m\"\u001b[39m\n",
      "\u001b[0;31mKeyboardInterrupt\u001b[0m: "
     ]
    }
   ],
   "source": [
    "read_time, test_time = crud_evaluator.read(1, assert_labels = True, assert_features = True)"
   ]
  },
  {
   "cell_type": "code",
   "execution_count": 4,
   "id": "f2841548-9914-487f-b66d-8c81c55d9b47",
   "metadata": {},
   "outputs": [
    {
     "name": "stdout",
     "output_type": "stream",
     "text": [
      "Delete\n"
     ]
    }
   ],
   "source": [
    "delete_time = crud_evaluator.delete()"
   ]
  },
  {
   "cell_type": "code",
   "execution_count": 1,
   "id": "1425d80f-c562-4da1-8af5-a06436bd763f",
   "metadata": {},
   "outputs": [],
   "source": [
    "from Neo4jConnector import Neo4jConnector axis 0 with siz\n",
    "connector = Neo4jConnector()\n",
    "connector.connect()"
   ]
  },
  {
   "cell_type": "code",
   "execution_count": 8,
   "id": "65829c84-9f3a-4fe9-a947-e3938b66e419",
   "metadata": {},
   "outputs": [
    {
     "ename": "TypeError",
     "evalue": "'NoneType' object is not subscriptable",
     "output_type": "error",
     "traceback": [
      "\u001b[0;31m---------------------------------------------------------------------------\u001b[0m",
      "\u001b[0;31mTypeError\u001b[0m                                 Traceback (most recent call last)",
      "Cell \u001b[0;32mIn[8], line 1\u001b[0m\n\u001b[0;32m----> 1\u001b[0m \u001b[38;5;28mprint\u001b[39m(\u001b[43mres\u001b[49m\u001b[38;5;241;43m.\u001b[39;49m\u001b[43msingle\u001b[49m\u001b[43m(\u001b[49m\u001b[43m)\u001b[49m\u001b[43m[\u001b[49m\u001b[38;5;124;43m\"\u001b[39;49m\u001b[38;5;124;43mvalue\u001b[39;49m\u001b[38;5;124;43m\"\u001b[39;49m\u001b[43m]\u001b[49m)\n",
      "\u001b[0;31mTypeError\u001b[0m: 'NoneType' object is not subscriptable"
     ]
    }
   ],
   "source": [
    "\n",
    "    print(res.single()[\"value\"])"
   ]
  },
  {
   "cell_type": "code",
   "execution_count": 12,
   "id": "0dccb768-a2c7-4f89-9cba-ae13162b6ff7",
   "metadata": {},
   "outputs": [
    {
     "name": "stdout",
     "output_type": "stream",
     "text": [
      "True\n"
     ]
    }
   ],
   "source": [
    "import os\n",
    "\n",
    "with connector.driver.session() as session:\n",
    "    res = session.run(\"\"\"CALL dbms.listConfig('server.directories.import');\"\"\")\n",
    "    print(os.path.isfile(res.single()[\"value\"] + \"/X_and_y_1000_nodes_scale_free_col.csv\"))\n",
    "    "
   ]
  },
  {
   "cell_type": "code",
   "execution_count": 30,
   "id": "5a3f1803-2048-44ac-86cc-e64577a39e20",
   "metadata": {},
   "outputs": [
    {
     "data": {
      "text/plain": [
       "EagerResult(records=[<Record COUNT(DISTINCT r)=0>], summary=<neo4j._work.summary.ResultSummary object at 0x7f44318ab010>, keys=['COUNT(DISTINCT r)'])"
      ]
     },
     "execution_count": 30,
     "metadata": {},
     "output_type": "execute_result"
    }
   ],
   "source": [
    "connector.driver.execute_query(\"MATCH (n)-[r]->(s) RETURN COUNT(DISTINCT r);\")"
   ]
  },
  {
   "cell_type": "code",
   "execution_count": 31,
   "id": "46bbe2ed-30a1-4051-93d0-476b82bc1bd5",
   "metadata": {},
   "outputs": [
    {
     "data": {
      "text/plain": [
       "EagerResult(records=[<Record COUNT(n)=0>], summary=<neo4j._work.summary.ResultSummary object at 0x7f443189a080>, keys=['COUNT(n)'])"
      ]
     },
     "execution_count": 31,
     "metadata": {},
     "output_type": "execute_result"
    }
   ],
   "source": [
    "connector.driver.execute_query(\"MATCH (n) RETURN COUNT(n);\")"
   ]
  },
  {
   "cell_type": "code",
   "execution_count": 22,
   "id": "381b193b-cb2c-4936-a7d1-719f532761ca",
   "metadata": {},
   "outputs": [],
   "source": [
    "from Neo4jQuery import Neo4jQuery\n",
    "neo_query = Neo4jQuery(f\"X_{str(num_nodes)}_nodes_{num_edges}.csv\", f\"y_{str(num_nodes)}_nodes_{num_edges}.csv\", f\"edge_index_{str(num_nodes)}_nodes_{num_edges}.csv\", f\"X_and_y_{str(num_nodes)}_nodes_{num_edges}_col.csv\")\n",
    "neo_query.intialize_column_data(f\"X_{str(num_nodes)}_nodes_{num_edges}.csv\", f\"y_{str(num_nodes)}_nodes_{num_edges}.csv\", f\"edge_index_{str(num_nodes)}_nodes_{num_edges}.csv\", f\"X_and_y_{str(num_nodes)}_nodes_{num_edges}_col.csv\")\n",
    "neo_query.initialize_all_queries_columns(3)"
   ]
  },
  {
   "cell_type": "code",
   "execution_count": 32,
   "id": "07f51831-0c1b-473d-abc0-082228add62e",
   "metadata": {},
   "outputs": [],
   "source": [
    "import numpy as np\n",
    "np.random.seed(42)\n",
    "seed_node_ids = np.random.choice(np.arange(neo_query.X_and_y.shape[0]), size = 1000, replace = False)"
   ]
  },
  {
   "cell_type": "code",
   "execution_count": 33,
   "id": "ea752d03-f6f1-4497-9176-b658989fb70a",
   "metadata": {},
   "outputs": [
    {
     "name": "stdout",
     "output_type": "stream",
     "text": [
      "                                               edges  \\\n",
      "0  [[41987, 987231], [568917, 987231], [960759, 9...   \n",
      "\n",
      "                                      idCollection  \\\n",
      "0  [41987, 492599, 568917, 755495, 960759, 987231]   \n",
      "\n",
      "                           labels  \\\n",
      "0  [[0], [0], [0], [0], [0], [0]]   \n",
      "\n",
      "                                            features  \n",
      "0  [[0.8048236, 0.448808, 0.37314403, 0.99551404,...  \n"
     ]
    }
   ],
   "source": [
    "with connector.driver.session() as session:\n",
    "    res = session.run(neo_query.read_subgraph_query_dict[1], seed_node_id = seed_node_ids[0])\n",
    "    print(res.to_df())"
   ]
  },
  {
   "cell_type": "code",
   "execution_count": 35,
   "id": "e15b059c-6527-4d08-b3c7-485e3c784251",
   "metadata": {},
   "outputs": [],
   "source": [
    "from InMemorySubgraphReader import InMemSubGraphReader\n",
    "inmem_subgraph_reader = InMemSubGraphReader(f\"X_{str(num_nodes)}_nodes_{num_edges}.csv\", f\"y_{str(num_nodes)}_nodes_{num_edges}.csv\", f\"edge_index_{str(num_nodes)}_nodes_{num_edges}.csv\", f\"X_and_y_{str(num_nodes)}_nodes_{num_edges}_col.csv\")"
   ]
  },
  {
   "cell_type": "code",
   "execution_count": 38,
   "id": "22046740-573a-43ec-8dd6-4cf435231d96",
   "metadata": {},
   "outputs": [
    {
     "data": {
      "text/plain": [
       "array([], shape=(0, 100), dtype=float64)"
      ]
     },
     "execution_count": 38,
     "metadata": {},
     "output_type": "execute_result"
    }
   ],
   "source": [
    "inmem_subgraph_reader.get_subgraph_from_in_mem_graph(seed_node_ids[0], 1).features"
   ]
  },
  {
   "cell_type": "code",
   "execution_count": 40,
   "id": "746f40ec-24ab-4312-8933-ad0da21053eb",
   "metadata": {},
   "outputs": [
    {
     "data": {
      "text/plain": [
       "(2, 2017119)"
      ]
     },
     "execution_count": 40,
     "metadata": {},
     "output_type": "execute_result"
    }
   ],
   "source": [
    "inmem_subgraph_reader.edge_index.shape"
   ]
  },
  {
   "cell_type": "code",
   "execution_count": 27,
   "id": "d7ee65ff-9e40-41d5-ae76-06d61d3800f1",
   "metadata": {},
   "outputs": [
    {
     "name": "stdout",
     "output_type": "stream",
     "text": [
      "Read\n"
     ]
    },
    {
     "name": "stderr",
     "output_type": "stream",
     "text": [
      "Reading subgraphs of order 3:  43%|█████████████████████▌                            | 432/1000 [29:05<38:15,  4.04s/it]\n"
     ]
    },
    {
     "ename": "KeyboardInterrupt",
     "evalue": "",
     "output_type": "error",
     "traceback": [
      "\u001b[0;31m---------------------------------------------------------------------------\u001b[0m",
      "\u001b[0;31mKeyboardInterrupt\u001b[0m                         Traceback (most recent call last)",
      "Cell \u001b[0;32mIn[27], line 3\u001b[0m\n\u001b[1;32m      1\u001b[0m read_times, read_times_mem \u001b[38;5;241m=\u001b[39m \u001b[38;5;28mdict\u001b[39m(), \u001b[38;5;28mdict\u001b[39m()\n\u001b[1;32m      2\u001b[0m \u001b[38;5;28;01mfor\u001b[39;00m hops \u001b[38;5;129;01min\u001b[39;00m \u001b[38;5;28mrange\u001b[39m(\u001b[38;5;241m3\u001b[39m, \u001b[38;5;241m4\u001b[39m, \u001b[38;5;241m1\u001b[39m):\n\u001b[0;32m----> 3\u001b[0m     read_time, test_time \u001b[38;5;241m=\u001b[39m \u001b[43mcrud_evaluator\u001b[49m\u001b[38;5;241;43m.\u001b[39;49m\u001b[43mread\u001b[49m\u001b[43m(\u001b[49m\u001b[43mhops\u001b[49m\u001b[43m,\u001b[49m\u001b[43m \u001b[49m\u001b[43massert_labels\u001b[49m\u001b[43m \u001b[49m\u001b[38;5;241;43m=\u001b[39;49m\u001b[43m \u001b[49m\u001b[38;5;28;43;01mFalse\u001b[39;49;00m\u001b[43m,\u001b[49m\u001b[43m \u001b[49m\u001b[43massert_features\u001b[49m\u001b[43m \u001b[49m\u001b[38;5;241;43m=\u001b[39;49m\u001b[43m \u001b[49m\u001b[38;5;28;43;01mFalse\u001b[39;49;00m\u001b[43m)\u001b[49m\n\u001b[1;32m      4\u001b[0m     read_times[hops] \u001b[38;5;241m=\u001b[39m read_time\n\u001b[1;32m      5\u001b[0m     read_times_mem[hops] \u001b[38;5;241m=\u001b[39m test_time\n",
      "File \u001b[0;32m~/git/db_eval/CRUD.py:26\u001b[0m, in \u001b[0;36mCRUD_Evaluator.read\u001b[0;34m(self, hops, assert_ids, assert_edge_index, assert_features, assert_labels, random_sample_size)\u001b[0m\n\u001b[1;32m     24\u001b[0m complete_test_time \u001b[38;5;241m=\u001b[39m \u001b[38;5;241m0\u001b[39m\n\u001b[1;32m     25\u001b[0m \u001b[38;5;28;01mfor\u001b[39;00m seed_node_id \u001b[38;5;129;01min\u001b[39;00m tqdm(seed_node_ids, desc\u001b[38;5;241m=\u001b[39m\u001b[38;5;124mf\u001b[39m\u001b[38;5;124m\"\u001b[39m\u001b[38;5;124mReading subgraphs of order \u001b[39m\u001b[38;5;132;01m{\u001b[39;00m\u001b[38;5;28mstr\u001b[39m(hops)\u001b[38;5;132;01m}\u001b[39;00m\u001b[38;5;124m\"\u001b[39m):\n\u001b[0;32m---> 26\u001b[0m     query_time, subgraph \u001b[38;5;241m=\u001b[39m \u001b[38;5;28;43mself\u001b[39;49m\u001b[38;5;241;43m.\u001b[39;49m\u001b[43mdbms_evaluator\u001b[49m\u001b[38;5;241;43m.\u001b[39;49m\u001b[43mread\u001b[49m\u001b[43m(\u001b[49m\u001b[43mseed_node_id\u001b[49m\u001b[43m,\u001b[49m\u001b[43m \u001b[49m\u001b[43mhops\u001b[49m\u001b[43m)\u001b[49m\n\u001b[1;32m     27\u001b[0m     \u001b[38;5;28;01mif\u001b[39;00m subgraph \u001b[38;5;129;01mis\u001b[39;00m \u001b[38;5;28;01mNone\u001b[39;00m: \u001b[38;5;28;01mcontinue\u001b[39;00m\n\u001b[1;32m     28\u001b[0m     complete_query_time \u001b[38;5;241m+\u001b[39m\u001b[38;5;241m=\u001b[39m query_time\n",
      "File \u001b[0;32m~/git/db_eval/Neo4jCol.py:36\u001b[0m, in \u001b[0;36mNeo4jCol.read\u001b[0;34m(self, seed_node_id, hops)\u001b[0m\n\u001b[1;32m     34\u001b[0m start \u001b[38;5;241m=\u001b[39m time\u001b[38;5;241m.\u001b[39mtime()\n\u001b[1;32m     35\u001b[0m results \u001b[38;5;241m=\u001b[39m \u001b[38;5;28mself\u001b[39m\u001b[38;5;241m.\u001b[39msession\u001b[38;5;241m.\u001b[39mrun(\u001b[38;5;28mself\u001b[39m\u001b[38;5;241m.\u001b[39mread_subgraph_query_dict[hops], seed_node_id \u001b[38;5;241m=\u001b[39m seed_node_id)\n\u001b[0;32m---> 36\u001b[0m res_df \u001b[38;5;241m=\u001b[39m \u001b[43mresults\u001b[49m\u001b[38;5;241;43m.\u001b[39;49m\u001b[43mto_df\u001b[49m\u001b[43m(\u001b[49m\u001b[43m)\u001b[49m\n\u001b[1;32m     37\u001b[0m \u001b[38;5;28;01mif\u001b[39;00m res_df\u001b[38;5;241m.\u001b[39mempty: \u001b[38;5;28;01mreturn\u001b[39;00m \u001b[38;5;28;01mNone\u001b[39;00m, \u001b[38;5;28;01mNone\u001b[39;00m\n\u001b[1;32m     39\u001b[0m subgraph_edge_index \u001b[38;5;241m=\u001b[39m np\u001b[38;5;241m.\u001b[39marray(res_df[\u001b[38;5;124m\"\u001b[39m\u001b[38;5;124medges\u001b[39m\u001b[38;5;124m\"\u001b[39m][\u001b[38;5;241m0\u001b[39m])\u001b[38;5;241m.\u001b[39mtranspose()        \n",
      "File \u001b[0;32m~/.local/lib/python3.10/site-packages/neo4j/_sync/work/result.py:769\u001b[0m, in \u001b[0;36mResult.to_df\u001b[0;34m(self, expand, parse_dates)\u001b[0m\n\u001b[1;32m    766\u001b[0m \u001b[38;5;28;01mimport\u001b[39;00m \u001b[38;5;21;01mpandas\u001b[39;00m \u001b[38;5;28;01mas\u001b[39;00m \u001b[38;5;21;01mpd\u001b[39;00m  \u001b[38;5;66;03m# type: ignore[import]\u001b[39;00m\n\u001b[1;32m    768\u001b[0m \u001b[38;5;28;01mif\u001b[39;00m \u001b[38;5;129;01mnot\u001b[39;00m expand:\n\u001b[0;32m--> 769\u001b[0m     df \u001b[38;5;241m=\u001b[39m pd\u001b[38;5;241m.\u001b[39mDataFrame(\u001b[38;5;28;43mself\u001b[39;49m\u001b[38;5;241;43m.\u001b[39;49m\u001b[43mvalues\u001b[49m\u001b[43m(\u001b[49m\u001b[43m)\u001b[49m, columns\u001b[38;5;241m=\u001b[39m\u001b[38;5;28mself\u001b[39m\u001b[38;5;241m.\u001b[39m_keys)\n\u001b[1;32m    770\u001b[0m \u001b[38;5;28;01melse\u001b[39;00m:\n\u001b[1;32m    771\u001b[0m     df_keys \u001b[38;5;241m=\u001b[39m \u001b[38;5;28;01mNone\u001b[39;00m\n",
      "File \u001b[0;32m~/.local/lib/python3.10/site-packages/neo4j/_sync/work/result.py:619\u001b[0m, in \u001b[0;36mResult.values\u001b[0;34m(self, *keys)\u001b[0m\n\u001b[1;32m    600\u001b[0m \u001b[38;5;129m@NonConcurrentMethodChecker\u001b[39m\u001b[38;5;241m.\u001b[39mnon_concurrent_method\n\u001b[1;32m    601\u001b[0m \u001b[38;5;28;01mdef\u001b[39;00m \u001b[38;5;21mvalues\u001b[39m(\n\u001b[1;32m    602\u001b[0m     \u001b[38;5;28mself\u001b[39m, \u001b[38;5;241m*\u001b[39mkeys: _TResultKey\n\u001b[1;32m    603\u001b[0m ) \u001b[38;5;241m-\u001b[39m\u001b[38;5;241m>\u001b[39m t\u001b[38;5;241m.\u001b[39mList[t\u001b[38;5;241m.\u001b[39mList[t\u001b[38;5;241m.\u001b[39mAny]]:\n\u001b[1;32m    604\u001b[0m \u001b[38;5;250m    \u001b[39m\u001b[38;5;124;03m\"\"\"Return the remainder of the result as a list of values lists.\u001b[39;00m\n\u001b[1;32m    605\u001b[0m \n\u001b[1;32m    606\u001b[0m \u001b[38;5;124;03m    :param keys: fields to return for each remaining record. Optionally filtering to include only certain values by index or key.\u001b[39;00m\n\u001b[0;32m   (...)\u001b[0m\n\u001b[1;32m    617\u001b[0m \u001b[38;5;124;03m    .. seealso:: :meth:`.Record.values`\u001b[39;00m\n\u001b[1;32m    618\u001b[0m \u001b[38;5;124;03m    \"\"\"\u001b[39;00m\n\u001b[0;32m--> 619\u001b[0m     \u001b[38;5;28;01mreturn\u001b[39;00m [record\u001b[38;5;241m.\u001b[39mvalues(\u001b[38;5;241m*\u001b[39mkeys) \u001b[38;5;28;01mfor\u001b[39;00m record \u001b[38;5;129;01min\u001b[39;00m \u001b[38;5;28mself\u001b[39m]\n",
      "File \u001b[0;32m~/.local/lib/python3.10/site-packages/neo4j/_sync/work/result.py:619\u001b[0m, in \u001b[0;36m<listcomp>\u001b[0;34m(.0)\u001b[0m\n\u001b[1;32m    600\u001b[0m \u001b[38;5;129m@NonConcurrentMethodChecker\u001b[39m\u001b[38;5;241m.\u001b[39mnon_concurrent_method\n\u001b[1;32m    601\u001b[0m \u001b[38;5;28;01mdef\u001b[39;00m \u001b[38;5;21mvalues\u001b[39m(\n\u001b[1;32m    602\u001b[0m     \u001b[38;5;28mself\u001b[39m, \u001b[38;5;241m*\u001b[39mkeys: _TResultKey\n\u001b[1;32m    603\u001b[0m ) \u001b[38;5;241m-\u001b[39m\u001b[38;5;241m>\u001b[39m t\u001b[38;5;241m.\u001b[39mList[t\u001b[38;5;241m.\u001b[39mList[t\u001b[38;5;241m.\u001b[39mAny]]:\n\u001b[1;32m    604\u001b[0m \u001b[38;5;250m    \u001b[39m\u001b[38;5;124;03m\"\"\"Return the remainder of the result as a list of values lists.\u001b[39;00m\n\u001b[1;32m    605\u001b[0m \n\u001b[1;32m    606\u001b[0m \u001b[38;5;124;03m    :param keys: fields to return for each remaining record. Optionally filtering to include only certain values by index or key.\u001b[39;00m\n\u001b[0;32m   (...)\u001b[0m\n\u001b[1;32m    617\u001b[0m \u001b[38;5;124;03m    .. seealso:: :meth:`.Record.values`\u001b[39;00m\n\u001b[1;32m    618\u001b[0m \u001b[38;5;124;03m    \"\"\"\u001b[39;00m\n\u001b[0;32m--> 619\u001b[0m     \u001b[38;5;28;01mreturn\u001b[39;00m [record\u001b[38;5;241m.\u001b[39mvalues(\u001b[38;5;241m*\u001b[39mkeys) \u001b[38;5;28;01mfor\u001b[39;00m record \u001b[38;5;129;01min\u001b[39;00m \u001b[38;5;28mself\u001b[39m]\n",
      "File \u001b[0;32m~/.local/lib/python3.10/site-packages/neo4j/_sync/work/result.py:270\u001b[0m, in \u001b[0;36mResult.__iter__\u001b[0;34m(self)\u001b[0m\n\u001b[1;32m    268\u001b[0m     \u001b[38;5;28;01myield\u001b[39;00m \u001b[38;5;28mself\u001b[39m\u001b[38;5;241m.\u001b[39m_record_buffer\u001b[38;5;241m.\u001b[39mpopleft()\n\u001b[1;32m    269\u001b[0m \u001b[38;5;28;01melif\u001b[39;00m \u001b[38;5;28mself\u001b[39m\u001b[38;5;241m.\u001b[39m_streaming:\n\u001b[0;32m--> 270\u001b[0m     \u001b[38;5;28;43mself\u001b[39;49m\u001b[38;5;241;43m.\u001b[39;49m\u001b[43m_connection\u001b[49m\u001b[38;5;241;43m.\u001b[39;49m\u001b[43mfetch_message\u001b[49m\u001b[43m(\u001b[49m\u001b[43m)\u001b[49m\n\u001b[1;32m    271\u001b[0m \u001b[38;5;28;01melif\u001b[39;00m \u001b[38;5;28mself\u001b[39m\u001b[38;5;241m.\u001b[39m_discarding:\n\u001b[1;32m    272\u001b[0m     \u001b[38;5;28mself\u001b[39m\u001b[38;5;241m.\u001b[39m_discard()\n",
      "File \u001b[0;32m~/.local/lib/python3.10/site-packages/neo4j/_sync/io/_common.py:178\u001b[0m, in \u001b[0;36mConnectionErrorHandler.__getattr__.<locals>.outer.<locals>.inner\u001b[0;34m(*args, **kwargs)\u001b[0m\n\u001b[1;32m    176\u001b[0m \u001b[38;5;28;01mdef\u001b[39;00m \u001b[38;5;21minner\u001b[39m(\u001b[38;5;241m*\u001b[39margs, \u001b[38;5;241m*\u001b[39m\u001b[38;5;241m*\u001b[39mkwargs):\n\u001b[1;32m    177\u001b[0m     \u001b[38;5;28;01mtry\u001b[39;00m:\n\u001b[0;32m--> 178\u001b[0m         \u001b[43mfunc\u001b[49m\u001b[43m(\u001b[49m\u001b[38;5;241;43m*\u001b[39;49m\u001b[43margs\u001b[49m\u001b[43m,\u001b[49m\u001b[43m \u001b[49m\u001b[38;5;241;43m*\u001b[39;49m\u001b[38;5;241;43m*\u001b[39;49m\u001b[43mkwargs\u001b[49m\u001b[43m)\u001b[49m\n\u001b[1;32m    179\u001b[0m     \u001b[38;5;28;01mexcept\u001b[39;00m (Neo4jError, ServiceUnavailable, SessionExpired) \u001b[38;5;28;01mas\u001b[39;00m exc:\n\u001b[1;32m    180\u001b[0m         \u001b[38;5;28;01massert\u001b[39;00m \u001b[38;5;129;01mnot\u001b[39;00m asyncio\u001b[38;5;241m.\u001b[39miscoroutinefunction(\u001b[38;5;28mself\u001b[39m\u001b[38;5;241m.\u001b[39m__on_error)\n",
      "File \u001b[0;32m~/.local/lib/python3.10/site-packages/neo4j/_sync/io/_bolt.py:846\u001b[0m, in \u001b[0;36mBolt.fetch_message\u001b[0;34m(self)\u001b[0m\n\u001b[1;32m    843\u001b[0m     \u001b[38;5;28;01mreturn\u001b[39;00m \u001b[38;5;241m0\u001b[39m, \u001b[38;5;241m0\u001b[39m\n\u001b[1;32m    845\u001b[0m \u001b[38;5;66;03m# Receive exactly one message\u001b[39;00m\n\u001b[0;32m--> 846\u001b[0m tag, fields \u001b[38;5;241m=\u001b[39m \u001b[38;5;28;43mself\u001b[39;49m\u001b[38;5;241;43m.\u001b[39;49m\u001b[43minbox\u001b[49m\u001b[38;5;241;43m.\u001b[39;49m\u001b[43mpop\u001b[49m\u001b[43m(\u001b[49m\n\u001b[1;32m    847\u001b[0m \u001b[43m    \u001b[49m\u001b[43mhydration_hooks\u001b[49m\u001b[38;5;241;43m=\u001b[39;49m\u001b[38;5;28;43mself\u001b[39;49m\u001b[38;5;241;43m.\u001b[39;49m\u001b[43mresponses\u001b[49m\u001b[43m[\u001b[49m\u001b[38;5;241;43m0\u001b[39;49m\u001b[43m]\u001b[49m\u001b[38;5;241;43m.\u001b[39;49m\u001b[43mhydration_hooks\u001b[49m\n\u001b[1;32m    848\u001b[0m \u001b[43m\u001b[49m\u001b[43m)\u001b[49m\n\u001b[1;32m    849\u001b[0m res \u001b[38;5;241m=\u001b[39m \u001b[38;5;28mself\u001b[39m\u001b[38;5;241m.\u001b[39m_process_message(tag, fields)\n\u001b[1;32m    850\u001b[0m \u001b[38;5;28mself\u001b[39m\u001b[38;5;241m.\u001b[39midle_since \u001b[38;5;241m=\u001b[39m monotonic()\n",
      "File \u001b[0;32m~/.local/lib/python3.10/site-packages/neo4j/_sync/io/_common.py:72\u001b[0m, in \u001b[0;36mInbox.pop\u001b[0;34m(self, hydration_hooks)\u001b[0m\n\u001b[1;32m     71\u001b[0m \u001b[38;5;28;01mdef\u001b[39;00m \u001b[38;5;21mpop\u001b[39m(\u001b[38;5;28mself\u001b[39m, hydration_hooks):\n\u001b[0;32m---> 72\u001b[0m     \u001b[38;5;28;43mself\u001b[39;49m\u001b[38;5;241;43m.\u001b[39;49m\u001b[43m_buffer_one_chunk\u001b[49m\u001b[43m(\u001b[49m\u001b[43m)\u001b[49m\n\u001b[1;32m     73\u001b[0m     \u001b[38;5;28;01mtry\u001b[39;00m:\n\u001b[1;32m     74\u001b[0m         size, tag \u001b[38;5;241m=\u001b[39m \u001b[38;5;28mself\u001b[39m\u001b[38;5;241m.\u001b[39m_unpacker\u001b[38;5;241m.\u001b[39munpack_structure_header()\n",
      "File \u001b[0;32m~/.local/lib/python3.10/site-packages/neo4j/_sync/io/_common.py:51\u001b[0m, in \u001b[0;36mInbox._buffer_one_chunk\u001b[0;34m(self)\u001b[0m\n\u001b[1;32m     48\u001b[0m \u001b[38;5;28;01mwhile\u001b[39;00m \u001b[38;5;28;01mTrue\u001b[39;00m:\n\u001b[1;32m     49\u001b[0m     \u001b[38;5;28;01mwhile\u001b[39;00m chunk_size \u001b[38;5;241m==\u001b[39m \u001b[38;5;241m0\u001b[39m:\n\u001b[1;32m     50\u001b[0m         \u001b[38;5;66;03m# Determine the chunk size and skip noop\u001b[39;00m\n\u001b[0;32m---> 51\u001b[0m         \u001b[43mreceive_into_buffer\u001b[49m\u001b[43m(\u001b[49m\u001b[38;5;28;43mself\u001b[39;49m\u001b[38;5;241;43m.\u001b[39;49m\u001b[43m_socket\u001b[49m\u001b[43m,\u001b[49m\u001b[43m \u001b[49m\u001b[38;5;28;43mself\u001b[39;49m\u001b[38;5;241;43m.\u001b[39;49m\u001b[43m_buffer\u001b[49m\u001b[43m,\u001b[49m\u001b[43m \u001b[49m\u001b[38;5;241;43m2\u001b[39;49m\u001b[43m)\u001b[49m\n\u001b[1;32m     52\u001b[0m         chunk_size \u001b[38;5;241m=\u001b[39m \u001b[38;5;28mself\u001b[39m\u001b[38;5;241m.\u001b[39m_buffer\u001b[38;5;241m.\u001b[39mpop_u16()\n\u001b[1;32m     53\u001b[0m         \u001b[38;5;28;01mif\u001b[39;00m chunk_size \u001b[38;5;241m==\u001b[39m \u001b[38;5;241m0\u001b[39m:\n",
      "File \u001b[0;32m~/.local/lib/python3.10/site-packages/neo4j/_sync/io/_common.py:326\u001b[0m, in \u001b[0;36mreceive_into_buffer\u001b[0;34m(sock, buffer, n_bytes)\u001b[0m\n\u001b[1;32m    324\u001b[0m \u001b[38;5;28;01mwith\u001b[39;00m \u001b[38;5;28mmemoryview\u001b[39m(buffer\u001b[38;5;241m.\u001b[39mdata) \u001b[38;5;28;01mas\u001b[39;00m view:\n\u001b[1;32m    325\u001b[0m     \u001b[38;5;28;01mwhile\u001b[39;00m buffer\u001b[38;5;241m.\u001b[39mused \u001b[38;5;241m<\u001b[39m end:\n\u001b[0;32m--> 326\u001b[0m         n \u001b[38;5;241m=\u001b[39m \u001b[43msock\u001b[49m\u001b[38;5;241;43m.\u001b[39;49m\u001b[43mrecv_into\u001b[49m\u001b[43m(\u001b[49m\u001b[43mview\u001b[49m\u001b[43m[\u001b[49m\u001b[43mbuffer\u001b[49m\u001b[38;5;241;43m.\u001b[39;49m\u001b[43mused\u001b[49m\u001b[43m:\u001b[49m\u001b[43mend\u001b[49m\u001b[43m]\u001b[49m\u001b[43m,\u001b[49m\u001b[43m \u001b[49m\u001b[43mend\u001b[49m\u001b[43m \u001b[49m\u001b[38;5;241;43m-\u001b[39;49m\u001b[43m \u001b[49m\u001b[43mbuffer\u001b[49m\u001b[38;5;241;43m.\u001b[39;49m\u001b[43mused\u001b[49m\u001b[43m)\u001b[49m\n\u001b[1;32m    327\u001b[0m         \u001b[38;5;28;01mif\u001b[39;00m n \u001b[38;5;241m==\u001b[39m \u001b[38;5;241m0\u001b[39m:\n\u001b[1;32m    328\u001b[0m             \u001b[38;5;28;01mraise\u001b[39;00m \u001b[38;5;167;01mOSError\u001b[39;00m(\u001b[38;5;124m\"\u001b[39m\u001b[38;5;124mNo data\u001b[39m\u001b[38;5;124m\"\u001b[39m)\n",
      "File \u001b[0;32m~/.local/lib/python3.10/site-packages/neo4j/_async_compat/network/_bolt_socket.py:493\u001b[0m, in \u001b[0;36mBoltSocket.recv_into\u001b[0;34m(self, buffer, nbytes)\u001b[0m\n\u001b[1;32m    492\u001b[0m \u001b[38;5;28;01mdef\u001b[39;00m \u001b[38;5;21mrecv_into\u001b[39m(\u001b[38;5;28mself\u001b[39m, buffer, nbytes):\n\u001b[0;32m--> 493\u001b[0m     \u001b[38;5;28;01mreturn\u001b[39;00m \u001b[38;5;28;43mself\u001b[39;49m\u001b[38;5;241;43m.\u001b[39;49m\u001b[43m_wait_for_io\u001b[49m\u001b[43m(\u001b[49m\u001b[38;5;28;43mself\u001b[39;49m\u001b[38;5;241;43m.\u001b[39;49m\u001b[43m_socket\u001b[49m\u001b[38;5;241;43m.\u001b[39;49m\u001b[43mrecv_into\u001b[49m\u001b[43m,\u001b[49m\u001b[43m \u001b[49m\u001b[43mbuffer\u001b[49m\u001b[43m,\u001b[49m\u001b[43m \u001b[49m\u001b[43mnbytes\u001b[49m\u001b[43m)\u001b[49m\n",
      "File \u001b[0;32m~/.local/lib/python3.10/site-packages/neo4j/_async_compat/network/_bolt_socket.py:468\u001b[0m, in \u001b[0;36mBoltSocket._wait_for_io\u001b[0;34m(self, func, *args, **kwargs)\u001b[0m\n\u001b[1;32m    466\u001b[0m \u001b[38;5;28;01mdef\u001b[39;00m \u001b[38;5;21m_wait_for_io\u001b[39m(\u001b[38;5;28mself\u001b[39m, func, \u001b[38;5;241m*\u001b[39margs, \u001b[38;5;241m*\u001b[39m\u001b[38;5;241m*\u001b[39mkwargs):\n\u001b[1;32m    467\u001b[0m     \u001b[38;5;28;01mif\u001b[39;00m \u001b[38;5;28mself\u001b[39m\u001b[38;5;241m.\u001b[39m_deadline \u001b[38;5;129;01mis\u001b[39;00m \u001b[38;5;28;01mNone\u001b[39;00m:\n\u001b[0;32m--> 468\u001b[0m         \u001b[38;5;28;01mreturn\u001b[39;00m \u001b[43mfunc\u001b[49m\u001b[43m(\u001b[49m\u001b[38;5;241;43m*\u001b[39;49m\u001b[43margs\u001b[49m\u001b[43m,\u001b[49m\u001b[43m \u001b[49m\u001b[38;5;241;43m*\u001b[39;49m\u001b[38;5;241;43m*\u001b[39;49m\u001b[43mkwargs\u001b[49m\u001b[43m)\u001b[49m\n\u001b[1;32m    469\u001b[0m     timeout \u001b[38;5;241m=\u001b[39m \u001b[38;5;28mself\u001b[39m\u001b[38;5;241m.\u001b[39m_socket\u001b[38;5;241m.\u001b[39mgettimeout()\n\u001b[1;32m    470\u001b[0m     deadline_timeout \u001b[38;5;241m=\u001b[39m \u001b[38;5;28mself\u001b[39m\u001b[38;5;241m.\u001b[39m_deadline\u001b[38;5;241m.\u001b[39mto_timeout()\n",
      "\u001b[0;31mKeyboardInterrupt\u001b[0m: "
     ]
    }
   ],
   "source": [
    "read_times, read_times_mem = dict(), dict()\n",
    "for hops in range(3, 4, 1):\n",
    "    read_time, test_time = crud_evaluator.read(hops, assert_labels = False, assert_features = False)\n",
    "    read_times[hops] = read_time\n",
    "    read_times_mem[hops] = test_time\n",
    "update_node_time = crud_evaluator.update_nodes()\n",
    "update_edge_time = crud_evaluator.update_edges()\n",
    "delete_time = crud_evaluator.delete()\n",
    "new_row_dict = {\"name\": f\"{str(num_nodes)}_nodes_{num_edges}\", \"create\": create_time, \"update_nodes\": update_node_time, \"update_edges\": update_edge_time, \"delete\": delete_time}\n",
    "for hops in read_times:\n",
    "    new_row_dict[f\"read_{hops}\"] = read_times[hops]\n",
    "    new_row_dict[f\"read_in_mem_{hops}\"] = read_times_mem[hops]\n",
    "new_row = pd.DataFrame([new_row_dict])"
   ]
  },
  {
   "cell_type": "code",
   "execution_count": 5,
   "id": "6743d6ab-56ff-4635-a849-a9988393f52a",
   "metadata": {},
   "outputs": [],
   "source": [
    "# num_nodes = 1000000\n",
    "# num_edges = \"scale_free\"\n",
    "# crud_evaluator = CRUD_Evaluator(PostgresCol, f\"X_{str(num_nodes)}_nodes_{num_edges}.csv\", f\"y_{str(num_nodes)}_nodes_{num_edges}.csv\", f\"edge_index_{str(num_nodes)}_nodes_{num_edges}.csv\", f\"X_and_y_{str(num_nodes)}_nodes_{num_edges}_col.csv\")\n",
    "# create_time = crud_evaluator.create()\n",
    "# read_times, read_times_mem = dict(), dict()\n",
    "# for hops in range(3, 4, 1):\n",
    "#     read_time, test_time = crud_evaluator.read(hops, assert_reads=False)\n",
    "#     read_times[hops] = read_time\n",
    "#     read_times_mem[hops] = test_time\n",
    "# update_node_time = crud_evaluator.update_nodes()\n",
    "# update_edge_time = crud_evaluator.update_edges()\n",
    "# delete_time = crud_evaluator.delete()\n",
    "# new_row_dict = {\"name\": f\"{str(num_nodes)}_nodes_{num_edges}\", \"create\": create_time, \"update_nodes\": update_node_time, \"update_edges\": update_edge_time, \"delete\": delete_time}\n",
    "# for hops in read_times:\n",
    "#     new_row_dict[f\"read_{hops}\"] = read_times[hops]\n",
    "#     new_row_dict[f\"read_in_mem_{hops}\"] = read_times_mem[hops]\n",
    "# new_row = pd.DataFrame([new_row_dict])"
   ]
  },
  {
   "cell_type": "code",
   "execution_count": 4,
   "id": "1ced1e15-202a-4809-afbd-15aaf026cb59",
   "metadata": {},
   "outputs": [],
   "source": [
    "# num_nodes = 1000\n",
    "# num_edges =  \"5_edges\" #\"scale_free\"\n",
    "# crud_evaluator = CRUD_Evaluator(MySQLCol, f\"X_{str(num_nodes)}_nodes_{num_edges}.csv\", f\"y_{str(num_nodes)}_nodes_{num_edges}.csv\", f\"edge_index_{str(num_nodes)}_nodes_{num_edges}.csv\", f\"X_and_y_{str(num_nodes)}_nodes_{num_edges}_col.csv\")\n",
    "# create_time = crud_evaluator.create()\n",
    "# read_times, read_times_mem = dict(), dict()\n",
    "# for hops in range(1, 4, 1):\n",
    "#     read_time, test_time = crud_evaluator.read(hops, assert_reads=True)\n",
    "#     read_times[hops] = read_time\n",
    "#     read_times_mem[hops] = test_time\n",
    "# update_node_time = crud_evaluator.update_nodes()\n",
    "# update_edge_time = crud_evaluator.update_edges()\n",
    "# delete_time = crud_evaluator.delete()\n",
    "# new_row_dict = {\"name\": f\"{str(num_nodes)}_nodes_{num_edges}\", \"create\": create_time, \"update_nodes\": update_node_time, \"update_edges\": update_edge_time, \"delete\": delete_time}\n",
    "# for hops in read_times:\n",
    "#     new_row_dict[f\"read_{hops}\"] = read_times[hops]\n",
    "#     new_row_dict[f\"read_in_mem_{hops}\"] = read_times_mem[hops]\n",
    "# new_row = pd.DataFrame([new_row_dict])"
   ]
  },
  {
   "cell_type": "code",
   "execution_count": 5,
   "id": "9ca4f160-0e5e-46f8-b592-50144934b585",
   "metadata": {},
   "outputs": [],
   "source": [
    "# num_nodes = 1000\n",
    "# num_edges =  \"5_edges\" #\"scale_free\"\n",
    "# crud_evaluator = CRUD_Evaluator(MySQLList, f\"X_{str(num_nodes)}_nodes_{num_edges}.csv\", f\"y_{str(num_nodes)}_nodes_{num_edges}.csv\", f\"edge_index_{str(num_nodes)}_nodes_{num_edges}.csv\", f\"X_and_y_{str(num_nodes)}_nodes_{num_edges}_mysql_list.csv\")\n",
    "# create_time = crud_evaluator.create()\n",
    "# read_times, read_times_mem = dict(), dict()\n",
    "# for hops in range(1, 4, 1):\n",
    "#     read_time, test_time = crud_evaluator.read(hops, assert_reads=True)\n",
    "#     read_times[hops] = read_time\n",
    "#     read_times_mem[hops] = test_time\n",
    "# update_node_time = crud_evaluator.update_nodes()\n",
    "# update_edge_time = crud_evaluator.update_edges()\n",
    "# delete_time = crud_evaluator.delete()\n",
    "# new_row_dict = {\"name\": f\"{str(num_nodes)}_nodes_{num_edges}\", \"create\": create_time, \"update_nodes\": update_node_time, \"update_edges\": update_edge_time, \"delete\": delete_time}\n",
    "# for hops in read_times:\n",
    "#     new_row_dict[f\"read_{hops}\"] = read_times[hops]\n",
    "#     new_row_dict[f\"read_in_mem_{hops}\"] = read_times_mem[hops]\n",
    "# new_row = pd.DataFrame([new_row_dict])"
   ]
  },
  {
   "cell_type": "code",
   "execution_count": 6,
   "id": "9a02e5d1-8494-4048-b511-aac1f2aa2735",
   "metadata": {},
   "outputs": [],
   "source": [
    "# num_nodes = 1000\n",
    "# num_edges =  \"5_edges\" #\"scale_free\"\n",
    "# crud_evaluator = CRUD_Evaluator(PostgresList, f\"X_{str(num_nodes)}_nodes_{num_edges}.csv\", f\"y_{str(num_nodes)}_nodes_{num_edges}.csv\", f\"edge_index_{str(num_nodes)}_nodes_{num_edges}.csv\", f\"X_and_y_{str(num_nodes)}_nodes_{num_edges}_postgres_list.csv\")\n",
    "# create_time = crud_evaluator.create()\n",
    "# read_times, read_times_mem = dict(), dict()\n",
    "# for hops in range(1, 2, 1):\n",
    "#     continue\n",
    "#     read_time, test_time = crud_evaluator.read(hops, assert_reads=True)\n",
    "#     read_times[hops] = read_time\n",
    "#     read_times_mem[hops] = test_time\n",
    "# update_node_time = crud_evaluator.update_nodes()\n",
    "# update_edge_time = crud_evaluator.update_edges()\n",
    "# delete_time = crud_evaluator.delete()\n",
    "# new_row_dict = {\"name\": f\"{str(num_nodes)}_nodes_{num_edges}\", \"create\": create_time, \"update_nodes\": update_node_time, \"update_edges\": update_edge_time, \"delete\": delete_time}\n",
    "# for hops in read_times:\n",
    "#     new_row_dict[f\"read_{hops}\"] = read_times[hops]\n",
    "#     new_row_dict[f\"read_in_mem_{hops}\"] = read_times_mem[hops]\n",
    "# new_row = pd.DataFrame([new_row_dict])"
   ]
  },
  {
   "cell_type": "code",
   "execution_count": 2,
   "id": "5f4f728c-6529-471d-a5cb-e31359fcfa6d",
   "metadata": {},
   "outputs": [],
   "source": [
    "from neo4j import GraphDatabase\n",
    "driver = GraphDatabase.driver(f\"bolt://localhost:{7688}\", auth=(\"neo4j\", \"password\"))"
   ]
  },
  {
   "cell_type": "code",
   "execution_count": 3,
   "id": "f8189f89-9432-4f6a-b655-7da284b7dcaf",
   "metadata": {},
   "outputs": [
    {
     "data": {
      "text/plain": [
       "EagerResult(records=[<Record COUNT(n)=0>], summary=<neo4j._work.summary.ResultSummary object at 0x7fc59bcf9240>, keys=['COUNT(n)'])"
      ]
     },
     "execution_count": 3,
     "metadata": {},
     "output_type": "execute_result"
    }
   ],
   "source": [
    "driver.execute_query(\"MATCH (n) RETURN COUNT(n);\")"
   ]
  },
  {
   "cell_type": "code",
   "execution_count": 14,
   "id": "bd1cebce-95ad-4afc-b1cf-e0a54363664e",
   "metadata": {},
   "outputs": [
    {
     "data": {
      "text/plain": [
       "EagerResult(records=[], summary=<neo4j._work.summary.ResultSummary object at 0x7fcb9cc5a8f0>, keys=[])"
      ]
     },
     "execution_count": 14,
     "metadata": {},
     "output_type": "execute_result"
    }
   ],
   "source": [
    "driver.execute_query(\"MATCH (n) DETACH DELETE(n);\")"
   ]
  },
  {
   "cell_type": "code",
   "execution_count": 4,
   "id": "0075ccc5-4e44-4785-89bb-53a3a1b04292",
   "metadata": {},
   "outputs": [
    {
     "name": "stdout",
     "output_type": "stream",
     "text": [
      "Create\n",
      "Read\n"
     ]
    },
    {
     "data": {
      "application/vnd.jupyter.widget-view+json": {
       "model_id": "0dbfd1ca990d4213803c17eef1a1d778",
       "version_major": 2,
       "version_minor": 0
      },
      "text/plain": [
       "Reading subgraphs of order 1:   0%|          | 0/1000 [00:00<?, ?it/s]"
      ]
     },
     "metadata": {},
     "output_type": "display_data"
    },
    {
     "name": "stdout",
     "output_type": "stream",
     "text": [
      "Update nodes\n"
     ]
    },
    {
     "data": {
      "application/vnd.jupyter.widget-view+json": {
       "model_id": "482832f91513444eb0082851e077ade4",
       "version_major": 2,
       "version_minor": 0
      },
      "text/plain": [
       "Updating nodes:   0%|          | 0/1000 [00:00<?, ?it/s]"
      ]
     },
     "metadata": {},
     "output_type": "display_data"
    },
    {
     "name": "stdout",
     "output_type": "stream",
     "text": [
      "Update edges\n"
     ]
    },
    {
     "data": {
      "application/vnd.jupyter.widget-view+json": {
       "model_id": "74d8214083ea48658a069d599e4ff314",
       "version_major": 2,
       "version_minor": 0
      },
      "text/plain": [
       "Updating edges:   0%|          | 0/1000 [00:00<?, ?it/s]"
      ]
     },
     "metadata": {},
     "output_type": "display_data"
    },
    {
     "name": "stdout",
     "output_type": "stream",
     "text": [
      "Delete\n"
     ]
    }
   ],
   "source": [
    "num_nodes = 1000\n",
    "num_edges =  \"5_edges\" #\"scale_free\"\n",
    "crud_evaluator = CRUD_Evaluator(Neo4jList, f\"X_{str(num_nodes)}_nodes_{num_edges}.csv\", f\"y_{str(num_nodes)}_nodes_{num_edges}.csv\", f\"edge_index_{str(num_nodes)}_nodes_{num_edges}.csv\", f\"X_and_y_{str(num_nodes)}_nodes_{num_edges}_neo4j_list.csv\")\n",
    "create_time = crud_evaluator.create()\n",
    "read_times, read_times_mem = dict(), dict()\n",
    "for hops in range(1, 2, 1):\n",
    "    read_time, test_time = crud_evaluator.read(hops, assert_reads=True)\n",
    "    read_times[hops] = read_time\n",
    "    read_times_mem[hops] = test_time\n",
    "update_node_time = crud_evaluator.update_nodes()\n",
    "update_edge_time = crud_evaluator.update_edges()\n",
    "delete_time = crud_evaluator.delete()\n",
    "new_row_dict = {\"name\": f\"{str(num_nodes)}_nodes_{num_edges}\", \"create\": create_time, \"update_nodes\": update_node_time, \"update_edges\": update_edge_time, \"delete\": delete_time}\n",
    "for hops in read_times:\n",
    "    new_row_dict[f\"read_{hops}\"] = read_times[hops]\n",
    "    new_row_dict[f\"read_in_mem_{hops}\"] = read_times_mem[hops]\n",
    "new_row = pd.DataFrame([new_row_dict])"
   ]
  },
  {
   "cell_type": "code",
   "execution_count": 13,
   "id": "77398c2d-ee25-477e-aec7-7e30e72be102",
   "metadata": {},
   "outputs": [
    {
     "data": {
      "text/plain": [
       "EagerResult(records=[<Record n.label=None>], summary=<neo4j._work.summary.ResultSummary object at 0x7fcb9d4f5480>, keys=['n.label'])"
      ]
     },
     "execution_count": 13,
     "metadata": {},
     "output_type": "execute_result"
    }
   ],
   "source": [
    "driver.execute_query(\"MATCH (n) RETURN n.label LIMIT 1;\")"
   ]
  },
  {
   "cell_type": "code",
   "execution_count": 8,
   "id": "6082796a-3a7a-4dd8-ba1e-da2186937a81",
   "metadata": {},
   "outputs": [
    {
     "name": "stdout",
     "output_type": "stream",
     "text": [
      "Delete\n"
     ]
    },
    {
     "ename": "KeyboardInterrupt",
     "evalue": "",
     "output_type": "error",
     "traceback": [
      "\u001b[0;31m---------------------------------------------------------------------------\u001b[0m",
      "\u001b[0;31mKeyboardInterrupt\u001b[0m                         Traceback (most recent call last)",
      "Cell \u001b[0;32mIn[8], line 1\u001b[0m\n\u001b[0;32m----> 1\u001b[0m delete_time \u001b[38;5;241m=\u001b[39m \u001b[43mcrud_evaluator\u001b[49m\u001b[38;5;241;43m.\u001b[39;49m\u001b[43mdelete\u001b[49m\u001b[43m(\u001b[49m\u001b[43m)\u001b[49m\n",
      "File \u001b[0;32m~/git/db_eval/CRUD.py:89\u001b[0m, in \u001b[0;36mCRUD_Evaluator.delete\u001b[0;34m(self)\u001b[0m\n\u001b[1;32m     87\u001b[0m \u001b[38;5;28;01mdef\u001b[39;00m \u001b[38;5;21mdelete\u001b[39m(\u001b[38;5;28mself\u001b[39m):\n\u001b[1;32m     88\u001b[0m     \u001b[38;5;28mprint\u001b[39m(\u001b[38;5;124m\"\u001b[39m\u001b[38;5;124mDelete\u001b[39m\u001b[38;5;124m\"\u001b[39m)\n\u001b[0;32m---> 89\u001b[0m     delete_time \u001b[38;5;241m=\u001b[39m \u001b[38;5;28;43mself\u001b[39;49m\u001b[38;5;241;43m.\u001b[39;49m\u001b[43mdbms_evaluator\u001b[49m\u001b[38;5;241;43m.\u001b[39;49m\u001b[43mdelete\u001b[49m\u001b[43m(\u001b[49m\u001b[43m)\u001b[49m\n\u001b[1;32m     90\u001b[0m     \u001b[38;5;28;01mreturn\u001b[39;00m delete_time\n",
      "File \u001b[0;32m~/git/db_eval/Neo4jList.py:59\u001b[0m, in \u001b[0;36mNeo4jList.delete\u001b[0;34m(self)\u001b[0m\n\u001b[1;32m     57\u001b[0m \u001b[38;5;28;01mdef\u001b[39;00m \u001b[38;5;21mdelete\u001b[39m(\u001b[38;5;28mself\u001b[39m):\n\u001b[1;32m     58\u001b[0m     start \u001b[38;5;241m=\u001b[39m time\u001b[38;5;241m.\u001b[39mtime()\n\u001b[0;32m---> 59\u001b[0m     \u001b[38;5;28;43mself\u001b[39;49m\u001b[38;5;241;43m.\u001b[39;49m\u001b[43msession\u001b[49m\u001b[38;5;241;43m.\u001b[39;49m\u001b[43mrun\u001b[49m\u001b[43m(\u001b[49m\u001b[38;5;28;43mself\u001b[39;49m\u001b[38;5;241;43m.\u001b[39;49m\u001b[43mdelete_query\u001b[49m\u001b[43m)\u001b[49m\n\u001b[1;32m     60\u001b[0m     \u001b[38;5;28mself\u001b[39m\u001b[38;5;241m.\u001b[39mclose_session()\n\u001b[1;32m     61\u001b[0m     \u001b[38;5;28;01mreturn\u001b[39;00m time\u001b[38;5;241m.\u001b[39mtime() \u001b[38;5;241m-\u001b[39m start\n",
      "File \u001b[0;32m~/.local/lib/python3.10/site-packages/neo4j/_sync/work/session.py:313\u001b[0m, in \u001b[0;36mSession.run\u001b[0;34m(self, query, parameters, **kwargs)\u001b[0m\n\u001b[1;32m    311\u001b[0m bookmarks \u001b[38;5;241m=\u001b[39m \u001b[38;5;28mself\u001b[39m\u001b[38;5;241m.\u001b[39m_get_bookmarks()\n\u001b[1;32m    312\u001b[0m parameters \u001b[38;5;241m=\u001b[39m \u001b[38;5;28mdict\u001b[39m(parameters \u001b[38;5;129;01mor\u001b[39;00m {}, \u001b[38;5;241m*\u001b[39m\u001b[38;5;241m*\u001b[39mkwargs)\n\u001b[0;32m--> 313\u001b[0m \u001b[38;5;28;43mself\u001b[39;49m\u001b[38;5;241;43m.\u001b[39;49m\u001b[43m_auto_result\u001b[49m\u001b[38;5;241;43m.\u001b[39;49m\u001b[43m_run\u001b[49m\u001b[43m(\u001b[49m\n\u001b[1;32m    314\u001b[0m \u001b[43m    \u001b[49m\u001b[43mquery\u001b[49m\u001b[43m,\u001b[49m\u001b[43m \u001b[49m\u001b[43mparameters\u001b[49m\u001b[43m,\u001b[49m\u001b[43m \u001b[49m\u001b[38;5;28;43mself\u001b[39;49m\u001b[38;5;241;43m.\u001b[39;49m\u001b[43m_config\u001b[49m\u001b[38;5;241;43m.\u001b[39;49m\u001b[43mdatabase\u001b[49m\u001b[43m,\u001b[49m\n\u001b[1;32m    315\u001b[0m \u001b[43m    \u001b[49m\u001b[38;5;28;43mself\u001b[39;49m\u001b[38;5;241;43m.\u001b[39;49m\u001b[43m_config\u001b[49m\u001b[38;5;241;43m.\u001b[39;49m\u001b[43mimpersonated_user\u001b[49m\u001b[43m,\u001b[49m\u001b[43m \u001b[49m\u001b[38;5;28;43mself\u001b[39;49m\u001b[38;5;241;43m.\u001b[39;49m\u001b[43m_config\u001b[49m\u001b[38;5;241;43m.\u001b[39;49m\u001b[43mdefault_access_mode\u001b[49m\u001b[43m,\u001b[49m\n\u001b[1;32m    316\u001b[0m \u001b[43m    \u001b[49m\u001b[43mbookmarks\u001b[49m\u001b[43m,\u001b[49m\u001b[43m \u001b[49m\u001b[38;5;28;43mself\u001b[39;49m\u001b[38;5;241;43m.\u001b[39;49m\u001b[43m_config\u001b[49m\u001b[38;5;241;43m.\u001b[39;49m\u001b[43mnotifications_min_severity\u001b[49m\u001b[43m,\u001b[49m\n\u001b[1;32m    317\u001b[0m \u001b[43m    \u001b[49m\u001b[38;5;28;43mself\u001b[39;49m\u001b[38;5;241;43m.\u001b[39;49m\u001b[43m_config\u001b[49m\u001b[38;5;241;43m.\u001b[39;49m\u001b[43mnotifications_disabled_categories\u001b[49m\u001b[43m,\u001b[49m\n\u001b[1;32m    318\u001b[0m \u001b[43m\u001b[49m\u001b[43m)\u001b[49m\n\u001b[1;32m    320\u001b[0m \u001b[38;5;28;01mreturn\u001b[39;00m \u001b[38;5;28mself\u001b[39m\u001b[38;5;241m.\u001b[39m_auto_result\n",
      "File \u001b[0;32m~/.local/lib/python3.10/site-packages/neo4j/_sync/work/result.py:181\u001b[0m, in \u001b[0;36mResult._run\u001b[0;34m(self, query, parameters, db, imp_user, access_mode, bookmarks, notifications_min_severity, notifications_disabled_categories)\u001b[0m\n\u001b[1;32m    179\u001b[0m \u001b[38;5;28mself\u001b[39m\u001b[38;5;241m.\u001b[39m_pull()\n\u001b[1;32m    180\u001b[0m \u001b[38;5;28mself\u001b[39m\u001b[38;5;241m.\u001b[39m_connection\u001b[38;5;241m.\u001b[39msend_all()\n\u001b[0;32m--> 181\u001b[0m \u001b[38;5;28;43mself\u001b[39;49m\u001b[38;5;241;43m.\u001b[39;49m\u001b[43m_attach\u001b[49m\u001b[43m(\u001b[49m\u001b[43m)\u001b[49m\n",
      "File \u001b[0;32m~/.local/lib/python3.10/site-packages/neo4j/_sync/work/result.py:301\u001b[0m, in \u001b[0;36mResult._attach\u001b[0;34m(self)\u001b[0m\n\u001b[1;32m    299\u001b[0m \u001b[38;5;28;01mif\u001b[39;00m \u001b[38;5;28mself\u001b[39m\u001b[38;5;241m.\u001b[39m_exhausted \u001b[38;5;129;01mis\u001b[39;00m \u001b[38;5;28;01mFalse\u001b[39;00m:\n\u001b[1;32m    300\u001b[0m     \u001b[38;5;28;01mwhile\u001b[39;00m \u001b[38;5;28mself\u001b[39m\u001b[38;5;241m.\u001b[39m_attached \u001b[38;5;129;01mis\u001b[39;00m \u001b[38;5;28;01mFalse\u001b[39;00m:\n\u001b[0;32m--> 301\u001b[0m         \u001b[38;5;28;43mself\u001b[39;49m\u001b[38;5;241;43m.\u001b[39;49m\u001b[43m_connection\u001b[49m\u001b[38;5;241;43m.\u001b[39;49m\u001b[43mfetch_message\u001b[49m()\n",
      "File \u001b[0;32m~/.local/lib/python3.10/site-packages/neo4j/_sync/io/_common.py:195\u001b[0m, in \u001b[0;36mConnectionErrorHandler.__getattr__\u001b[0;34m(self, name)\u001b[0m\n\u001b[1;32m    192\u001b[0m             \u001b[38;5;28;01mraise\u001b[39;00m\n\u001b[1;32m    193\u001b[0m     \u001b[38;5;28;01mreturn\u001b[39;00m inner\n\u001b[0;32m--> 195\u001b[0m \u001b[38;5;28;01mif\u001b[39;00m \u001b[43masyncio\u001b[49m\u001b[38;5;241;43m.\u001b[39;49m\u001b[43miscoroutinefunction\u001b[49m\u001b[43m(\u001b[49m\u001b[43mconnection_attr\u001b[49m\u001b[43m)\u001b[49m:\n\u001b[1;32m    196\u001b[0m     \u001b[38;5;28;01mreturn\u001b[39;00m outer_async(connection_attr)\n\u001b[1;32m    197\u001b[0m \u001b[38;5;28;01mreturn\u001b[39;00m outer(connection_attr)\n",
      "File \u001b[0;32m/usr/lib/python3.10/asyncio/coroutines.py:167\u001b[0m, in \u001b[0;36miscoroutinefunction\u001b[0;34m(func)\u001b[0m\n\u001b[1;32m    164\u001b[0m \u001b[38;5;28;01mdef\u001b[39;00m \u001b[38;5;21miscoroutinefunction\u001b[39m(func):\n\u001b[1;32m    165\u001b[0m \u001b[38;5;250m    \u001b[39m\u001b[38;5;124;03m\"\"\"Return True if func is a decorated coroutine function.\"\"\"\u001b[39;00m\n\u001b[1;32m    166\u001b[0m     \u001b[38;5;28;01mreturn\u001b[39;00m (inspect\u001b[38;5;241m.\u001b[39miscoroutinefunction(func) \u001b[38;5;129;01mor\u001b[39;00m\n\u001b[0;32m--> 167\u001b[0m             \u001b[38;5;28;43mgetattr\u001b[39;49m\u001b[43m(\u001b[49m\u001b[43mfunc\u001b[49m\u001b[43m,\u001b[49m\u001b[43m \u001b[49m\u001b[38;5;124;43m'\u001b[39;49m\u001b[38;5;124;43m_is_coroutine\u001b[39;49m\u001b[38;5;124;43m'\u001b[39;49m\u001b[43m,\u001b[49m\u001b[43m \u001b[49m\u001b[38;5;28;43;01mNone\u001b[39;49;00m\u001b[43m)\u001b[49m \u001b[38;5;129;01mis\u001b[39;00m _is_coroutine)\n",
      "\u001b[0;31mKeyboardInterrupt\u001b[0m: "
     ]
    }
   ],
   "source": [
    "delete_time = crud_evaluator.delete()"
   ]
  },
  {
   "cell_type": "code",
   "execution_count": null,
   "id": "01eb3f8d-31de-4efe-88f1-ad0abe814b88",
   "metadata": {},
   "outputs": [],
   "source": [
    "new_row"
   ]
  },
  {
   "cell_type": "code",
   "execution_count": null,
   "id": "7fab6ab2-24d4-4523-9fd7-021cf2cb5916",
   "metadata": {},
   "outputs": [],
   "source": [
    "# with conn.cursor() as c:\n",
    "#     c.execute(\"SELECT * FROM nodes;\")\n",
    "#     print(c.fetchone())"
   ]
  },
  {
   "cell_type": "code",
   "execution_count": null,
   "id": "d442237b-158e-479a-8014-ff8fbcd5ce81",
   "metadata": {},
   "outputs": [],
   "source": [
    "# import psycopg2\n",
    "# from psycopg2 import sql\n",
    "# conn = psycopg2.connect(\n",
    "#                 dbname=\"postgres\",  # Connect to default db to create new db\n",
    "#                 user='postgres',\n",
    "#                 password='password',\n",
    "#                 host='localhost')\n",
    "# conn.autocommit = True\n",
    "# with conn.cursor() as cursor:\n",
    "#     cursor.execute(sql.SQL(\"DROP DATABASE IF EXISTS {};\").format(sql.Identifier(\"X_and_y_1000_nodes_scale_free_col\")))\n",
    "#     print(f\"Database 'X_and_y_1000_nodes_scale_free_col' deleted successfully.\")"
   ]
  },
  {
   "cell_type": "code",
   "execution_count": null,
   "id": "64b0398d-4393-4192-8afc-cab9a35f7e4a",
   "metadata": {},
   "outputs": [],
   "source": [
    "# with conn.cursor() as cursor:\n",
    "#     cursor.execute(\"\"\"SELECT table_name FROM information_schema.tables\n",
    "#            WHERE table_schema = 'public'\"\"\")\n",
    "#     print(cursor.fetchall())\n",
    "#     for table in cursor.fetchall():\n",
    "#         print(table)"
   ]
  },
  {
   "cell_type": "code",
   "execution_count": null,
   "id": "a2f03db7-32ed-4cb1-9135-5346398d59a7",
   "metadata": {},
   "outputs": [],
   "source": [
    "# num_nodes = 1000\n",
    "# num_edges = \"5_edges\"\n",
    "# crud_evaluator = CRUD_Evaluator(Neo4jCol, f\"X_{str(num_nodes)}_nodes_{num_edges}.csv\", f\"y_{str(num_nodes)}_nodes_{num_edges}.csv\", f\"edge_index_{str(num_nodes)}_nodes_{num_edges}.csv\", f\"X_and_y_{str(num_nodes)}_nodes_{num_edges}_col.csv\")\n",
    "\n",
    "# crud_evaluator.delete()"
   ]
  },
  {
   "cell_type": "code",
   "execution_count": null,
   "id": "a1689a42-93f4-4f88-9963-e3e3a8627173",
   "metadata": {},
   "outputs": [],
   "source": []
  }
 ],
 "metadata": {
  "kernelspec": {
   "display_name": "Python 3 (ipykernel)",
   "language": "python",
   "name": "python3"
  },
  "language_info": {
   "codemirror_mode": {
    "name": "ipython",
    "version": 3
   },
   "file_extension": ".py",
   "mimetype": "text/x-python",
   "name": "python",
   "nbconvert_exporter": "python",
   "pygments_lexer": "ipython3",
   "version": "3.10.12"
  }
 },
 "nbformat": 4,
 "nbformat_minor": 5
}
