{
 "cells": [
  {
   "cell_type": "code",
   "execution_count": 35,
   "id": "1b6b42e4-fd4e-454e-a694-734a24780d64",
   "metadata": {},
   "outputs": [],
   "source": [
    "import psycopg2\n",
    "from psycopg2 import sql\n",
    "import numpy as np\n",
    "import pandas as pd\n",
    "from tqdm.notebook import tqdm\n",
    "import time\n",
    "import torch\n",
    "from torch_geometric.utils import sort_edge_index\n",
    "import os"
   ]
  },
  {
   "cell_type": "code",
   "execution_count": 36,
   "id": "e4076de3-f64d-4f72-9731-4efcd5f477b5",
   "metadata": {},
   "outputs": [],
   "source": [
    "def extract_execution_time(explain_output):\n",
    "    \"\"\"\n",
    "    Extracts the total execution time from the given query plan.\n",
    "\n",
    "    The function parses the query plan to find the execution time, which is typically\n",
    "    represented in the format 'Execution Time: X ms'. It returns the execution time\n",
    "    in seconds.\n",
    "\n",
    "    Parameters:\n",
    "    query_plan (list): A list of strings representing the lines of the query plan output.\n",
    "\n",
    "    Returns:\n",
    "    float: The total execution time in ms. If the execution time cannot be found,\n",
    "           returns None.\n",
    "    \"\"\"\n",
    "\n",
    "    execution_time = 0.0\n",
    "    pattern = re.compile(r\"Execution Time: (\\d+\\.\\d+) ms\")\n",
    "    for row in explain_output:\n",
    "        match = pattern.search(row[0])\n",
    "        if match:\n",
    "            execution_time += float(match.group(1))\n",
    "    return execution_time\n",
    "    \n",
    "def connect_to_postgres(dbname = \"postgres\"):\n",
    "    \"\"\"Connect to the PostgreSQL database server.\"\"\"\n",
    "    try:\n",
    "        conn = psycopg2.connect(\n",
    "            dbname=dbname,  # Connect to default db to create new db\n",
    "            user='postgres',\n",
    "            password='password',\n",
    "            host='localhost'\n",
    "        )\n",
    "        print(\"Connection successful.\")\n",
    "        return conn\n",
    "    except Exception as e:\n",
    "        print(f\"Error connecting to database: {e}\")\n",
    "        raise\n",
    "\n",
    "def create_database(conn, new_db_name):\n",
    "    \"\"\"Create a new database.\"\"\"\n",
    "    try:\n",
    "        conn.autocommit = True\n",
    "        with conn.cursor() as cursor:\n",
    "            cursor.execute(sql.SQL(\"CREATE DATABASE {};\").format(sql.Identifier(new_db_name)))\n",
    "            print(f\"Database '{new_db_name}' created successfully.\")\n",
    "    except Exception as e:\n",
    "        print(f\"Error creating database: {e}\")\n",
    "        raise\n",
    "    finally:\n",
    "        conn.autocommit = False\n",
    "\n",
    "def create_schema(conn, schema_sql):\n",
    "    \"\"\"Create the database schema.\"\"\"\n",
    "    try:\n",
    "        with conn.cursor() as cursor:\n",
    "            cursor.execute(schema_sql)\n",
    "            conn.commit()\n",
    "            print(\"Schema created successfully.\")\n",
    "    except Exception as e:\n",
    "        conn.rollback()\n",
    "        print(f\"Error creating schema: {e}\")\n",
    "        raise\n",
    "\n",
    "def upload_csv_to_table(conn, csv_file_path, table_name):\n",
    "    \"\"\"Upload a CSV file to a table using the COPY command.\"\"\"\n",
    "    try:\n",
    "        with conn.cursor() as cursor:\n",
    "            with open(csv_file_path, 'r') as f:\n",
    "                cursor.copy_expert(\n",
    "                    sql.SQL(\"\"\"\n",
    "                        COPY {} FROM STDIN WITH (FORMAT CSV, HEADER TRUE, DELIMITER ',');\n",
    "                    \"\"\").format(sql.Identifier(table_name)), f\n",
    "                )\n",
    "            conn.commit()\n",
    "            print(f\"Data from '{csv_file_path}' uploaded to table '{table_name}' successfully using COPY.\")\n",
    "    except Exception as e:\n",
    "        conn.rollback()\n",
    "        print(f\"Error uploading CSV data using COPY: {e}\")\n",
    "        raise\n",
    "\n",
    "def create_index(conn, table_name, column_name):\n",
    "    \"\"\"Create an index on a specific column.\"\"\"\n",
    "    try:\n",
    "        with conn.cursor() as cursor:\n",
    "            index_name = f\"{table_name}_{column_name}_idx\"\n",
    "            cursor.execute(sql.SQL(\"CREATE INDEX {} ON {} ({});\").format(\n",
    "                sql.Identifier(index_name),\n",
    "                sql.Identifier(table_name),\n",
    "                sql.Identifier(column_name)\n",
    "            ))\n",
    "            conn.commit()\n",
    "            print(f\"Index '{index_name}' created successfully.\")\n",
    "    except Exception as e:\n",
    "        conn.rollback()\n",
    "        print(f\"Error creating index: {e}\")\n",
    "        raise\n",
    "\n",
    "def read_data(conn, query):\n",
    "    \"\"\"Read data from the database.\"\"\"\n",
    "    try:\n",
    "        with conn.cursor() as cursor:\n",
    "            cursor.execute(query)\n",
    "            results = cursor.fetchall()\n",
    "            print(\"Data read successfully.\")\n",
    "            return results\n",
    "    except Exception as e:\n",
    "        print(f\"Error reading data: {e}\")\n",
    "        raise\n",
    "\n",
    "def update_data(conn, query, params):\n",
    "    \"\"\"Update data in the database.\"\"\"\n",
    "    try:\n",
    "        with conn.cursor() as cursor:\n",
    "            cursor.execute(query, params)\n",
    "            conn.commit()\n",
    "            print(\"Data updated successfully.\")\n",
    "    except Exception as e:\n",
    "        conn.rollback()\n",
    "        print(f\"Error updating data: {e}\")\n",
    "        raise\n",
    "\n",
    "def delete_database(conn, db_name):\n",
    "    \"\"\"Delete the specified database including all its schemas, tables, and indexes.\"\"\"\n",
    "    try:\n",
    "        conn.autocommit = True\n",
    "        with conn.cursor() as cursor:\n",
    "            cursor.execute(sql.SQL(\"DROP DATABASE IF EXISTS {};\").format(sql.Identifier(db_name)))\n",
    "            print(f\"Database '{db_name}' deleted successfully.\")\n",
    "    except Exception as e:\n",
    "        print(f\"Error deleting database: {e}\")\n",
    "        raise\n",
    "    finally:\n",
    "        conn.autocommit = False\n",
    "\n",
    "def create_edges_table(conn):\n",
    "    \"\"\"Create an edges table with foreign key constraints to the main table.\"\"\"\n",
    "    edges_schema = \"\"\"\n",
    "    CREATE TABLE edges (\n",
    "        source_id INTEGER NOT NULL,\n",
    "        target_id INTEGER NOT NULL,\n",
    "        FOREIGN KEY (source_id) REFERENCES nodes(id) ON DELETE CASCADE,\n",
    "        FOREIGN KEY (target_id) REFERENCES nodes(id) ON DELETE CASCADE\n",
    "    );\n",
    "    \"\"\"\n",
    "    try:\n",
    "        with conn.cursor() as cursor:\n",
    "            cursor.execute(edges_schema)\n",
    "            conn.commit()\n",
    "            print(\"Edges table created successfully.\")\n",
    "    except Exception as e:\n",
    "        conn.rollback()\n",
    "        print(f\"Error creating edges table: {e}\")\n",
    "        raise\n",
    "\n",
    "def upload_edges_csv_to_table(conn, csv_file_path):\n",
    "    \"\"\"Upload a CSV file to the edges table using the COPY command.\"\"\"\n",
    "    try:\n",
    "        with conn.cursor() as cursor:\n",
    "            with open(csv_file_path, 'r') as f:\n",
    "                cursor.copy_expert(\n",
    "                    sql.SQL(\"\"\"\n",
    "                        COPY edges (source_id, target_id) FROM STDIN WITH (FORMAT CSV, HEADER TRUE, DELIMITER ',');\n",
    "                    \"\"\"), f\n",
    "                )\n",
    "            conn.commit()\n",
    "            print(f\"Edges data from '{csv_file_path}' uploaded successfully.\")\n",
    "    except Exception as e:\n",
    "        conn.rollback()\n",
    "        print(f\"Error uploading edges CSV data: {e}\")\n",
    "        raise\n",
    "\n",
    "def recurse_edge_index_iterative(source_nodes, edge_index, max_depth):\n",
    "    \"\"\"\n",
    "    Optimized function to compute the subgraph around the source nodes up to a given depth.\n",
    "    Uses an iterative approach instead of recursion.\n",
    "    \"\"\"\n",
    "    visited_nodes = set(source_nodes)\n",
    "    current_frontier = np.array(source_nodes)\n",
    "    \n",
    "    subgraph_edges = []\n",
    "\n",
    "    for _ in range(max_depth):\n",
    "        # Find edges where the target node is in the current frontier\n",
    "        target_mask = np.isin(edge_index[1], current_frontier)\n",
    "        subgraph_edge_index = edge_index[:, target_mask]\n",
    "        subgraph_edges.append(subgraph_edge_index)\n",
    "\n",
    "        # Update the current frontier with the source nodes of these edges\n",
    "        current_frontier = np.setdiff1d(subgraph_edge_index[0], list(visited_nodes))\n",
    "        visited_nodes.update(current_frontier)\n",
    "        \n",
    "        if len(current_frontier) == 0:\n",
    "            break\n",
    "\n",
    "    # Combine edges from all hops\n",
    "    return np.concatenate(subgraph_edges, axis=1) if subgraph_edges else np.empty((2, 0), dtype=edge_index.dtype)\n",
    "\n",
    "\n",
    "def get_subgraph_from_in_mem_graph_optimized(X, y, i, edge_index, hops):\n",
    "    \"\"\"\n",
    "    Optimized version of subgraph extraction.\n",
    "    \"\"\"\n",
    "    subgraph_edge_index = recurse_edge_index_iterative([i], edge_index, hops)\n",
    "    unique_node_ids, remapping = np.unique(subgraph_edge_index, return_inverse=True)\n",
    "    \n",
    "    # Extract features and labels\n",
    "    features = X.iloc[unique_node_ids, :].values\n",
    "    labels = y.iloc[unique_node_ids, :].values.squeeze()\n",
    "\n",
    "    # Remap edge indices\n",
    "    remapped_edge_index = remapping.reshape(2, -1)\n",
    "    return remapped_edge_index, features, labels, unique_node_ids\n",
    "\n",
    "def create_db(node_file_name):\n",
    "    # Create a new database\n",
    "    conn = connect_to_postgres(dbname = \"postgres\")\n",
    "    new_db_name = node_file_name.split(\".\")[0]\n",
    "    create_database(conn, new_db_name)\n",
    "    conn.close()\n",
    "    conn = connect_to_postgres(new_db_name)\n",
    "    return conn, new_db_name\n",
    "\n",
    "def create(conn, node_file_name, edge_file_name, X_and_y):\n",
    "    column_types = [\"id SERIAL PRIMARY KEY\"]\n",
    "    for col in X_and_y.columns:\n",
    "        if col == \"y\":\n",
    "            column_types.append(f\"{col} INTEGER[]\")\n",
    "            continue\n",
    "        column_types.append(f\"{col} REAL[]\")\n",
    "        \n",
    "    node_schema = f\"\"\"\n",
    "    CREATE TABLE nodes (\n",
    "        {\",\".join(column_types)}\n",
    "    );\n",
    "    \"\"\"\n",
    "    start = time.time()\n",
    "    create_schema(conn, node_schema)\n",
    "    create_edges_table(conn)\n",
    "    \n",
    "    csv_file_path = f\"syn_data/{node_file_name}\"  # Replace with your CSV file path\n",
    "    upload_csv_to_table(conn, csv_file_path, \"nodes\")\n",
    "    create_index(conn, \"nodes\", \"id\")\n",
    "    upload_edges_csv_to_table(conn, f\"syn_data/{edge_file_name}\")\n",
    "    create_index(conn, \"edges\", \"target_id\")\n",
    "    creation_time = time.time() - start\n",
    "    return creation_time\n",
    "\n",
    "def read(conn, hops, X_and_y, X, y, edge_index, random_sample_size = 1_000):\n",
    "    np.random.seed(42)\n",
    "    seed_node_ids = np.random.choice(np.arange(X_and_y.shape[0]), size = random_sample_size, replace = False)\n",
    "    \n",
    "    with conn.cursor() as cursor:\n",
    "        complete_time = 0\n",
    "        complete_test_time = 0\n",
    "        for seed_node_id in tqdm(seed_node_ids):\n",
    "            try:\n",
    "                start = time.time()\n",
    "                cursor.execute(f\"\"\"\n",
    "        WITH RECURSIVE NestedTargets AS (\n",
    "            SELECT 0 AS depth, source_id, target_id\n",
    "            FROM edges\n",
    "            WHERE target_id = {seed_node_id}\n",
    "            \n",
    "            UNION ALL\n",
    "            \n",
    "            SELECT nt.depth + 1, e.source_id, e.target_id\n",
    "            FROM edges e\n",
    "            JOIN NestedTargets nt ON e.target_id = nt.source_id\n",
    "            WHERE nt.depth < {hops - 1}\n",
    "        ),\n",
    "        \n",
    "        node_ids AS (\n",
    "            SELECT DISTINCT id FROM (\n",
    "                SELECT source_id AS id FROM NestedTargets\n",
    "                UNION\n",
    "                SELECT target_id AS id FROM NestedTargets\n",
    "            ) AS combined_ids\n",
    "        ),\n",
    "        \n",
    "        node_data AS (\n",
    "            SELECT \n",
    "                id, \n",
    "                {\", \".join(X_and_y.columns)}\n",
    "            FROM nodes\n",
    "            WHERE id IN (SELECT id FROM node_ids)\n",
    "            ORDER BY id\n",
    "        )\n",
    "        \n",
    "        SELECT\n",
    "            (SELECT array_agg({\", \".join(X_and_y.columns[:-1])}) FROM node_data) AS node_table,\n",
    "            (SELECT array_agg({X_and_y.columns[-1]}) FROM node_data) AS label_table,\n",
    "            (SELECT array_agg(array[source_id, target_id])\n",
    "             FROM (SELECT DISTINCT source_id, target_id FROM NestedTargets) AS edges) AS edge_table,\n",
    "             (SELECT array_agg(id) FROM node_data) AS node_ids;\n",
    "    \"\"\")\n",
    "                results = cursor.fetchall()[0]\n",
    "                labels = np.array(results[1])\n",
    "                subgraph_node_features = np.array(results[0])\n",
    "                if results[0] is None:\n",
    "                    continue\n",
    "                \n",
    "                subgraph_edges = np.array(results[2]).transpose()\n",
    "                \n",
    "                node_ids = np.array(results[-1]) #subgraph_node_features[:, 0]\n",
    "                _, cols_source = np.nonzero((subgraph_edges[0] == node_ids[:, None]).transpose())\n",
    "                _, cols_target = np.nonzero((subgraph_edges[1] == node_ids[:, None]).transpose())\n",
    "                remapped_edge_index = np.concatenate([np.expand_dims(cols_source, axis = 0), np.expand_dims(cols_target, axis = 0)], axis = 0)\n",
    "                features = subgraph_node_features #[:, 1:]\n",
    "                overall_run_time = time.time() - start \n",
    "                \n",
    "                complete_time += overall_run_time\n",
    "                # Testing\n",
    "                test_time = time.time()\n",
    "                remapped_edge_index_test, features_test, labels_test, unique_node_ids = get_subgraph_from_in_mem_graph_optimized(X, y, seed_node_id, edge_index, hops)                    \n",
    "                complete_test_time += time.time() - test_time\n",
    "                assert (sort_edge_index(torch.from_numpy(remapped_edge_index_test)) == sort_edge_index(torch.from_numpy(remapped_edge_index))).sum() / (remapped_edge_index_test.shape[-1] * remapped_edge_index_test.shape[0]), \"Edges doesnt match\"\n",
    "                assert np.allclose(features, features_test), \"features doe not match\"\n",
    "                assert np.allclose(labels_test, labels), \"Labels does not match\"\n",
    "                # print(f\"Fetched {remapped_edge_index.shape} edges, {labels.shape} labels, {features.shape} features in ({overall_run_time} s)\")\n",
    "            except Exception as e:\n",
    "                conn.rollback()\n",
    "                print(f\"Error uploading edges CSV data: {e}\")\n",
    "                raise   \n",
    "    return (complete_time, complete_test_time)\n",
    "\n",
    "def update_nodes(conn, X_and_y, X, y, random_sample_size = 1000):\n",
    "    with conn.cursor() as cursor:\n",
    "        np.random.seed(42)\n",
    "        node_ids = np.random.choice(np.arange(X_and_y.shape[0]), size = random_sample_size, replace = False).tolist()\n",
    "        start = time.time()\n",
    "        for node_id in tqdm(node_ids):\n",
    "            np.random.seed(42)\n",
    "            features = np.random.rand(X.shape[-1]).tolist()  # Random values between 0 and 1\n",
    "            labels = np.random.randint(0, 2, size=y.shape[-1]).tolist()  # Adjust label range as needed            \n",
    "            sql_query = f\"\"\"\n",
    "            UPDATE nodes \n",
    "            SET X = %s, y = %s\n",
    "            WHERE id = %s;\n",
    "            \"\"\"\n",
    "            values = (features, labels, node_id)\n",
    "            cursor.execute(sql_query, values)\n",
    "        return time.time() - start\n",
    "\n",
    "def update_edges(conn, edge_index, X_and_y, random_sample_size = 1000):\n",
    "    with conn.cursor() as cursor:\n",
    "        np.random.seed(42)\n",
    "        edge_ids = np.random.choice(np.arange(edge_index.shape[-1]), size = random_sample_size, replace = False).tolist()\n",
    "        selected_edges = edge_index[:, edge_ids].transpose(-1, 0 )\n",
    "        start = time.time()\n",
    "        for selected_edge in tqdm(selected_edges):\n",
    "            source_id, target_id = selected_edge\n",
    "            np.random.seed(42)\n",
    "            new_target_id = int(np.random.randint(0, X_and_y.shape[0]))\n",
    "            sql_query = \"UPDATE edges SET target_id = %s WHERE source_id = %s AND target_id = %s;\"\n",
    "            values = (new_target_id, int(source_id), int(target_id))\n",
    "            cursor.execute(sql_query, values)\n",
    "        return time.time() - start\n",
    "\n",
    "def delete(conn, new_db_name):\n",
    "    start = time.time()\n",
    "    conn.close()\n",
    "    conn = connect_to_postgres()\n",
    "    delete_database(conn, new_db_name)\n",
    "    conn.close()\n",
    "    return time.time() - start"
   ]
  },
  {
   "cell_type": "code",
   "execution_count": 37,
   "id": "3e26911b-be88-4484-a220-6f7233c6c4b3",
   "metadata": {},
   "outputs": [],
   "source": [
    "edge_file_name = \"ppi_edge_index.csv\"\n",
    "node_file_name = \"X_y_ppi.csv\"\n",
    "\n",
    "X = pd.read_csv(f\"data/ppi_x.csv\")\n",
    "y = pd.read_csv(f\"data/ppi_y.csv\")\n",
    "edges = pd.read_csv(\"data/\" + edge_file_name)\n",
    "edges.columns = [\"source_id\", \"target_id\"]\n",
    "edges.to_csv(\"syn_data/\" + edge_file_name, index = False)\n",
    "edge_index = edges.values.transpose(-1, 0 )\n",
    "\n",
    "if not os.path.exists(f\"syn_data/{node_file_name}\"):\n",
    "    X_and_y = pd.DataFrame()\n",
    "    X_and_y[\"X\"] = X.apply(lambda row: [row[column] for column in X.columns], axis=1)\n",
    "    X_and_y[\"y\"] = y.apply(lambda row: [int(row[column]) for column in y.columns], axis=1)\n",
    "    \n",
    "    X_and_y[\"X\"] = X_and_y[\"X\"].apply(lambda x: f\"{{{','.join(map(str, x))}}}\")\n",
    "    X_and_y[\"y\"] = X_and_y[\"y\"].apply(lambda x: f\"{{{','.join(map(str, x))}}}\")\n",
    "    \n",
    "    \n",
    "    X_and_y.to_csv(f\"syn_data/{node_file_name}\", sep = \",\", index = True)\n",
    "else: \n",
    "    X_and_y = pd.read_csv(f\"syn_data/{node_file_name}\", sep = \",\", index_col = 0)\n",
    "\n",
    "## TODO need to copy ppi file in /syn_data"
   ]
  },
  {
   "cell_type": "code",
   "execution_count": 38,
   "id": "374bca03-1d3b-47dd-b14d-8ee9f4cd9423",
   "metadata": {},
   "outputs": [
    {
     "name": "stdout",
     "output_type": "stream",
     "text": [
      "Connection successful.\n",
      "Database 'X_y_ppi' deleted successfully.\n"
     ]
    }
   ],
   "source": [
    "delete_time = delete(conn, new_db_name)"
   ]
  },
  {
   "cell_type": "code",
   "execution_count": 34,
   "id": "8edf2bae-7abb-4861-9445-94a2d574d226",
   "metadata": {
    "scrolled": true
   },
   "outputs": [
    {
     "name": "stdout",
     "output_type": "stream",
     "text": [
      "Connection successful.\n",
      "Database 'X_y_ppi' created successfully.\n",
      "Connection successful.\n",
      "Schema created successfully.\n",
      "Edges table created successfully.\n",
      "Data from 'syn_data/X_y_ppi.csv' uploaded to table 'nodes' successfully using COPY.\n",
      "Index 'nodes_id_idx' created successfully.\n",
      "Edges data from 'syn_data/ppi_edge_index.csv' uploaded successfully.\n",
      "Index 'edges_target_id_idx' created successfully.\n"
     ]
    },
    {
     "data": {
      "application/vnd.jupyter.widget-view+json": {
       "model_id": "11cf433fdd234b42a4873eb877b3ec3d",
       "version_major": 2,
       "version_minor": 0
      },
      "text/plain": [
       "  0%|          | 0/1000 [00:00<?, ?it/s]"
      ]
     },
     "metadata": {},
     "output_type": "display_data"
    },
    {
     "data": {
      "application/vnd.jupyter.widget-view+json": {
       "model_id": "eb3b62442e534b7788d802e1aca68e93",
       "version_major": 2,
       "version_minor": 0
      },
      "text/plain": [
       "  0%|          | 0/1000 [00:00<?, ?it/s]"
      ]
     },
     "metadata": {},
     "output_type": "display_data"
    },
    {
     "name": "stdout",
     "output_type": "stream",
     "text": [
      "Connection successful.\n",
      "Database 'X_y_ppi' deleted successfully.\n"
     ]
    }
   ],
   "source": [
    "conn, new_db_name = create_db(node_file_name)\n",
    "create_time = create(conn, node_file_name, edge_file_name, X_and_y)\n",
    "read_times = dict()\n",
    "read_times_mem = dict()\n",
    "for hops in tqdm(range(1, 4)):\n",
    "    read_time, read_time_mem = read(conn, hops, X_and_y, X, y, edge_index, 1_000)\n",
    "    read_times[hops] = read_time\n",
    "    read_times_mem[hops] = read_time_mem\n",
    "update_time_nodes = update_nodes(conn, X_and_y, X, y, 1000)\n",
    "update_time_edges = update_edges(conn, edge_index, X_and_y, 1000)\n",
    "delete_time = delete(conn, new_db_name)"
   ]
  },
  {
   "cell_type": "code",
   "execution_count": 39,
   "id": "3df4d9bd-49e8-43fa-a30c-501bdcde7523",
   "metadata": {
    "scrolled": true
   },
   "outputs": [
    {
     "data": {
      "application/vnd.jupyter.widget-view+json": {
       "model_id": "4d8e3fcf11a64bf09f2f7e4d4d9cea30",
       "version_major": 2,
       "version_minor": 0
      },
      "text/plain": [
       "  0%|          | 0/3 [00:00<?, ?it/s]"
      ]
     },
     "metadata": {},
     "output_type": "display_data"
    },
    {
     "data": {
      "application/vnd.jupyter.widget-view+json": {
       "model_id": "31f60871ce8a455e902f90a65b8017be",
       "version_major": 2,
       "version_minor": 0
      },
      "text/plain": [
       "  0%|          | 0/4 [00:00<?, ?it/s]"
      ]
     },
     "metadata": {},
     "output_type": "display_data"
    },
    {
     "name": "stdout",
     "output_type": "stream",
     "text": [
      "Connection successful.\n",
      "Database 'X_and_y_1000_nodes_5_edges' created successfully.\n",
      "Connection successful.\n",
      "Schema created successfully.\n",
      "Edges table created successfully.\n",
      "Data from 'syn_data/X_and_y_1000_nodes_5_edges.csv' uploaded to table 'nodes' successfully using COPY.\n",
      "Index 'nodes_id_idx' created successfully.\n",
      "Edges data from 'syn_data/edge_index_1000_nodes_5_edges.csv' uploaded successfully.\n",
      "Index 'edges_target_id_idx' created successfully.\n"
     ]
    },
    {
     "data": {
      "application/vnd.jupyter.widget-view+json": {
       "model_id": "3d57544694544ea7bb2502e1ffc6a1e9",
       "version_major": 2,
       "version_minor": 0
      },
      "text/plain": [
       "  0%|          | 0/3 [00:00<?, ?it/s]"
      ]
     },
     "metadata": {},
     "output_type": "display_data"
    },
    {
     "data": {
      "application/vnd.jupyter.widget-view+json": {
       "model_id": "deb23c2d6c154bdcae92536f661a0f9d",
       "version_major": 2,
       "version_minor": 0
      },
      "text/plain": [
       "  0%|          | 0/1000 [00:00<?, ?it/s]"
      ]
     },
     "metadata": {},
     "output_type": "display_data"
    },
    {
     "data": {
      "application/vnd.jupyter.widget-view+json": {
       "model_id": "4d0c38953b474112879899d6f5918a87",
       "version_major": 2,
       "version_minor": 0
      },
      "text/plain": [
       "  0%|          | 0/1000 [00:00<?, ?it/s]"
      ]
     },
     "metadata": {},
     "output_type": "display_data"
    },
    {
     "data": {
      "application/vnd.jupyter.widget-view+json": {
       "model_id": "dffce1532cfa411499719bab8f4b50bd",
       "version_major": 2,
       "version_minor": 0
      },
      "text/plain": [
       "  0%|          | 0/1000 [00:00<?, ?it/s]"
      ]
     },
     "metadata": {},
     "output_type": "display_data"
    },
    {
     "data": {
      "application/vnd.jupyter.widget-view+json": {
       "model_id": "c6d7f0d288b447b9bd626c2d3e7ad2b7",
       "version_major": 2,
       "version_minor": 0
      },
      "text/plain": [
       "  0%|          | 0/1000 [00:00<?, ?it/s]"
      ]
     },
     "metadata": {},
     "output_type": "display_data"
    },
    {
     "data": {
      "application/vnd.jupyter.widget-view+json": {
       "model_id": "fb21ef5a0978446bab810ebfe6d88db6",
       "version_major": 2,
       "version_minor": 0
      },
      "text/plain": [
       "  0%|          | 0/1000 [00:00<?, ?it/s]"
      ]
     },
     "metadata": {},
     "output_type": "display_data"
    },
    {
     "name": "stdout",
     "output_type": "stream",
     "text": [
      "Connection successful.\n",
      "Database 'X_and_y_1000_nodes_5_edges' deleted successfully.\n",
      "Connection successful.\n"
     ]
    },
    {
     "name": "stderr",
     "output_type": "stream",
     "text": [
      "/tmp/ipykernel_3534041/2179666236.py:40: FutureWarning: The behavior of DataFrame concatenation with empty or all-NA entries is deprecated. In a future version, this will no longer exclude empty or all-NA columns when determining the result dtypes. To retain the old behavior, exclude the relevant entries before the concat operation.\n",
      "  output_df = pd.concat((output_df, new_row), ignore_index=True)\n"
     ]
    },
    {
     "name": "stdout",
     "output_type": "stream",
     "text": [
      "Database 'X_and_y_1000_nodes_10_edges' created successfully.\n",
      "Connection successful.\n",
      "Schema created successfully.\n",
      "Edges table created successfully.\n",
      "Data from 'syn_data/X_and_y_1000_nodes_10_edges.csv' uploaded to table 'nodes' successfully using COPY.\n",
      "Index 'nodes_id_idx' created successfully.\n",
      "Edges data from 'syn_data/edge_index_1000_nodes_10_edges.csv' uploaded successfully.\n",
      "Index 'edges_target_id_idx' created successfully.\n"
     ]
    },
    {
     "data": {
      "application/vnd.jupyter.widget-view+json": {
       "model_id": "5dd1de55df8844309e410b712235a18f",
       "version_major": 2,
       "version_minor": 0
      },
      "text/plain": [
       "  0%|          | 0/3 [00:00<?, ?it/s]"
      ]
     },
     "metadata": {},
     "output_type": "display_data"
    },
    {
     "data": {
      "application/vnd.jupyter.widget-view+json": {
       "model_id": "b4ba689b9b6141f1ab01d28b6af74dfa",
       "version_major": 2,
       "version_minor": 0
      },
      "text/plain": [
       "  0%|          | 0/1000 [00:00<?, ?it/s]"
      ]
     },
     "metadata": {},
     "output_type": "display_data"
    },
    {
     "data": {
      "application/vnd.jupyter.widget-view+json": {
       "model_id": "5585e4a439ab44cdbedf674c5c723e1a",
       "version_major": 2,
       "version_minor": 0
      },
      "text/plain": [
       "  0%|          | 0/1000 [00:00<?, ?it/s]"
      ]
     },
     "metadata": {},
     "output_type": "display_data"
    },
    {
     "data": {
      "application/vnd.jupyter.widget-view+json": {
       "model_id": "09788dff3b8a49768bea69f63e2ab6a2",
       "version_major": 2,
       "version_minor": 0
      },
      "text/plain": [
       "  0%|          | 0/1000 [00:00<?, ?it/s]"
      ]
     },
     "metadata": {},
     "output_type": "display_data"
    },
    {
     "data": {
      "application/vnd.jupyter.widget-view+json": {
       "model_id": "58c4835ae5d740369834cb40c32e8d8b",
       "version_major": 2,
       "version_minor": 0
      },
      "text/plain": [
       "  0%|          | 0/1000 [00:00<?, ?it/s]"
      ]
     },
     "metadata": {},
     "output_type": "display_data"
    },
    {
     "data": {
      "application/vnd.jupyter.widget-view+json": {
       "model_id": "2e30f547a38e4335ab4fe5497e196688",
       "version_major": 2,
       "version_minor": 0
      },
      "text/plain": [
       "  0%|          | 0/1000 [00:00<?, ?it/s]"
      ]
     },
     "metadata": {},
     "output_type": "display_data"
    },
    {
     "name": "stdout",
     "output_type": "stream",
     "text": [
      "Connection successful.\n",
      "Database 'X_and_y_1000_nodes_10_edges' deleted successfully.\n",
      "Connection successful.\n",
      "Database 'X_and_y_1000_nodes_20_edges' created successfully.\n",
      "Connection successful.\n",
      "Schema created successfully.\n",
      "Edges table created successfully.\n",
      "Data from 'syn_data/X_and_y_1000_nodes_20_edges.csv' uploaded to table 'nodes' successfully using COPY.\n",
      "Index 'nodes_id_idx' created successfully.\n",
      "Edges data from 'syn_data/edge_index_1000_nodes_20_edges.csv' uploaded successfully.\n",
      "Index 'edges_target_id_idx' created successfully.\n"
     ]
    },
    {
     "data": {
      "application/vnd.jupyter.widget-view+json": {
       "model_id": "7c840fdb025049799882e6d03e6fda41",
       "version_major": 2,
       "version_minor": 0
      },
      "text/plain": [
       "  0%|          | 0/3 [00:00<?, ?it/s]"
      ]
     },
     "metadata": {},
     "output_type": "display_data"
    },
    {
     "data": {
      "application/vnd.jupyter.widget-view+json": {
       "model_id": "ebada1a03930499aa8753266072332df",
       "version_major": 2,
       "version_minor": 0
      },
      "text/plain": [
       "  0%|          | 0/1000 [00:00<?, ?it/s]"
      ]
     },
     "metadata": {},
     "output_type": "display_data"
    },
    {
     "data": {
      "application/vnd.jupyter.widget-view+json": {
       "model_id": "78663cacffff404eab1e57dbac8b9131",
       "version_major": 2,
       "version_minor": 0
      },
      "text/plain": [
       "  0%|          | 0/1000 [00:00<?, ?it/s]"
      ]
     },
     "metadata": {},
     "output_type": "display_data"
    },
    {
     "data": {
      "application/vnd.jupyter.widget-view+json": {
       "model_id": "aa08c9f7769441c1a81449d2c07c664f",
       "version_major": 2,
       "version_minor": 0
      },
      "text/plain": [
       "  0%|          | 0/1000 [00:00<?, ?it/s]"
      ]
     },
     "metadata": {},
     "output_type": "display_data"
    },
    {
     "data": {
      "application/vnd.jupyter.widget-view+json": {
       "model_id": "0ba2c69c1c494ed6997318466dabe9e4",
       "version_major": 2,
       "version_minor": 0
      },
      "text/plain": [
       "  0%|          | 0/1000 [00:00<?, ?it/s]"
      ]
     },
     "metadata": {},
     "output_type": "display_data"
    },
    {
     "data": {
      "application/vnd.jupyter.widget-view+json": {
       "model_id": "b5f8df806f2f4004a181a396b04513be",
       "version_major": 2,
       "version_minor": 0
      },
      "text/plain": [
       "  0%|          | 0/1000 [00:00<?, ?it/s]"
      ]
     },
     "metadata": {},
     "output_type": "display_data"
    },
    {
     "name": "stdout",
     "output_type": "stream",
     "text": [
      "Connection successful.\n",
      "Database 'X_and_y_1000_nodes_20_edges' deleted successfully.\n",
      "Connection successful.\n",
      "Database 'X_and_y_1000_nodes_scale_free' created successfully.\n",
      "Connection successful.\n",
      "Schema created successfully.\n",
      "Edges table created successfully.\n",
      "Data from 'syn_data/X_and_y_1000_nodes_scale_free.csv' uploaded to table 'nodes' successfully using COPY.\n",
      "Index 'nodes_id_idx' created successfully.\n",
      "Edges data from 'syn_data/edge_index_1000_nodes_scale_free.csv' uploaded successfully.\n",
      "Index 'edges_target_id_idx' created successfully.\n"
     ]
    },
    {
     "data": {
      "application/vnd.jupyter.widget-view+json": {
       "model_id": "560da83dfb394493a8f26e68910b31a5",
       "version_major": 2,
       "version_minor": 0
      },
      "text/plain": [
       "  0%|          | 0/3 [00:00<?, ?it/s]"
      ]
     },
     "metadata": {},
     "output_type": "display_data"
    },
    {
     "data": {
      "application/vnd.jupyter.widget-view+json": {
       "model_id": "c4ffb023509543c782fa17b6d7571ef5",
       "version_major": 2,
       "version_minor": 0
      },
      "text/plain": [
       "  0%|          | 0/1000 [00:00<?, ?it/s]"
      ]
     },
     "metadata": {},
     "output_type": "display_data"
    },
    {
     "data": {
      "application/vnd.jupyter.widget-view+json": {
       "model_id": "f95589be33d34ce695f7737facaa7b99",
       "version_major": 2,
       "version_minor": 0
      },
      "text/plain": [
       "  0%|          | 0/1000 [00:00<?, ?it/s]"
      ]
     },
     "metadata": {},
     "output_type": "display_data"
    },
    {
     "data": {
      "application/vnd.jupyter.widget-view+json": {
       "model_id": "69ab2ac0bcef4a219185bbe7303080fa",
       "version_major": 2,
       "version_minor": 0
      },
      "text/plain": [
       "  0%|          | 0/1000 [00:00<?, ?it/s]"
      ]
     },
     "metadata": {},
     "output_type": "display_data"
    },
    {
     "data": {
      "application/vnd.jupyter.widget-view+json": {
       "model_id": "62c741d5f6ea4efaade66ecf49799605",
       "version_major": 2,
       "version_minor": 0
      },
      "text/plain": [
       "  0%|          | 0/1000 [00:00<?, ?it/s]"
      ]
     },
     "metadata": {},
     "output_type": "display_data"
    },
    {
     "data": {
      "application/vnd.jupyter.widget-view+json": {
       "model_id": "d24ff884c7624b4f8f6b76b676542a82",
       "version_major": 2,
       "version_minor": 0
      },
      "text/plain": [
       "  0%|          | 0/1000 [00:00<?, ?it/s]"
      ]
     },
     "metadata": {},
     "output_type": "display_data"
    },
    {
     "name": "stdout",
     "output_type": "stream",
     "text": [
      "Connection successful.\n",
      "Database 'X_and_y_1000_nodes_scale_free' deleted successfully.\n"
     ]
    },
    {
     "data": {
      "application/vnd.jupyter.widget-view+json": {
       "model_id": "cc5b1f71c7c548b09943fbe201e688b9",
       "version_major": 2,
       "version_minor": 0
      },
      "text/plain": [
       "  0%|          | 0/4 [00:00<?, ?it/s]"
      ]
     },
     "metadata": {},
     "output_type": "display_data"
    },
    {
     "name": "stdout",
     "output_type": "stream",
     "text": [
      "Connection successful.\n",
      "Database 'X_and_y_10000_nodes_5_edges' created successfully.\n",
      "Connection successful.\n",
      "Schema created successfully.\n",
      "Edges table created successfully.\n",
      "Data from 'syn_data/X_and_y_10000_nodes_5_edges.csv' uploaded to table 'nodes' successfully using COPY.\n",
      "Index 'nodes_id_idx' created successfully.\n",
      "Edges data from 'syn_data/edge_index_10000_nodes_5_edges.csv' uploaded successfully.\n",
      "Index 'edges_target_id_idx' created successfully.\n"
     ]
    },
    {
     "data": {
      "application/vnd.jupyter.widget-view+json": {
       "model_id": "cc1022ba08124644b4a6b5c6941aac43",
       "version_major": 2,
       "version_minor": 0
      },
      "text/plain": [
       "  0%|          | 0/3 [00:00<?, ?it/s]"
      ]
     },
     "metadata": {},
     "output_type": "display_data"
    },
    {
     "data": {
      "application/vnd.jupyter.widget-view+json": {
       "model_id": "cf8465542cfd4194a6b030b73a904999",
       "version_major": 2,
       "version_minor": 0
      },
      "text/plain": [
       "  0%|          | 0/1000 [00:00<?, ?it/s]"
      ]
     },
     "metadata": {},
     "output_type": "display_data"
    },
    {
     "data": {
      "application/vnd.jupyter.widget-view+json": {
       "model_id": "c7c5845e68a949bbae18c0a030068a6e",
       "version_major": 2,
       "version_minor": 0
      },
      "text/plain": [
       "  0%|          | 0/1000 [00:00<?, ?it/s]"
      ]
     },
     "metadata": {},
     "output_type": "display_data"
    },
    {
     "data": {
      "application/vnd.jupyter.widget-view+json": {
       "model_id": "2e2096edd6ac4b379f86f5cf5cc0f891",
       "version_major": 2,
       "version_minor": 0
      },
      "text/plain": [
       "  0%|          | 0/1000 [00:00<?, ?it/s]"
      ]
     },
     "metadata": {},
     "output_type": "display_data"
    },
    {
     "data": {
      "application/vnd.jupyter.widget-view+json": {
       "model_id": "2e3867bf53ac443186dd8cd856cc11ae",
       "version_major": 2,
       "version_minor": 0
      },
      "text/plain": [
       "  0%|          | 0/1000 [00:00<?, ?it/s]"
      ]
     },
     "metadata": {},
     "output_type": "display_data"
    },
    {
     "data": {
      "application/vnd.jupyter.widget-view+json": {
       "model_id": "f33acac242fb417ba5125c3fdd3a3b5d",
       "version_major": 2,
       "version_minor": 0
      },
      "text/plain": [
       "  0%|          | 0/1000 [00:00<?, ?it/s]"
      ]
     },
     "metadata": {},
     "output_type": "display_data"
    },
    {
     "name": "stdout",
     "output_type": "stream",
     "text": [
      "Connection successful.\n",
      "Database 'X_and_y_10000_nodes_5_edges' deleted successfully.\n",
      "Connection successful.\n",
      "Database 'X_and_y_10000_nodes_10_edges' created successfully.\n",
      "Connection successful.\n",
      "Schema created successfully.\n",
      "Edges table created successfully.\n",
      "Data from 'syn_data/X_and_y_10000_nodes_10_edges.csv' uploaded to table 'nodes' successfully using COPY.\n",
      "Index 'nodes_id_idx' created successfully.\n",
      "Edges data from 'syn_data/edge_index_10000_nodes_10_edges.csv' uploaded successfully.\n",
      "Index 'edges_target_id_idx' created successfully.\n"
     ]
    },
    {
     "data": {
      "application/vnd.jupyter.widget-view+json": {
       "model_id": "b9c6d3cf8f4944678fe44d232d006e2a",
       "version_major": 2,
       "version_minor": 0
      },
      "text/plain": [
       "  0%|          | 0/3 [00:00<?, ?it/s]"
      ]
     },
     "metadata": {},
     "output_type": "display_data"
    },
    {
     "data": {
      "application/vnd.jupyter.widget-view+json": {
       "model_id": "d487458b56d84ab8ad8575b9f2ac6c16",
       "version_major": 2,
       "version_minor": 0
      },
      "text/plain": [
       "  0%|          | 0/1000 [00:00<?, ?it/s]"
      ]
     },
     "metadata": {},
     "output_type": "display_data"
    },
    {
     "data": {
      "application/vnd.jupyter.widget-view+json": {
       "model_id": "b3450a56ef1a4e7b922b8898ba880906",
       "version_major": 2,
       "version_minor": 0
      },
      "text/plain": [
       "  0%|          | 0/1000 [00:00<?, ?it/s]"
      ]
     },
     "metadata": {},
     "output_type": "display_data"
    },
    {
     "data": {
      "application/vnd.jupyter.widget-view+json": {
       "model_id": "798bf4a4896b46d1b285feccdaa8b2ff",
       "version_major": 2,
       "version_minor": 0
      },
      "text/plain": [
       "  0%|          | 0/1000 [00:00<?, ?it/s]"
      ]
     },
     "metadata": {},
     "output_type": "display_data"
    },
    {
     "data": {
      "application/vnd.jupyter.widget-view+json": {
       "model_id": "a06c155a1a704636a76923a01a2bb08b",
       "version_major": 2,
       "version_minor": 0
      },
      "text/plain": [
       "  0%|          | 0/1000 [00:00<?, ?it/s]"
      ]
     },
     "metadata": {},
     "output_type": "display_data"
    },
    {
     "data": {
      "application/vnd.jupyter.widget-view+json": {
       "model_id": "90b6a4c31f82470390295474324cd454",
       "version_major": 2,
       "version_minor": 0
      },
      "text/plain": [
       "  0%|          | 0/1000 [00:00<?, ?it/s]"
      ]
     },
     "metadata": {},
     "output_type": "display_data"
    },
    {
     "name": "stdout",
     "output_type": "stream",
     "text": [
      "Connection successful.\n",
      "Database 'X_and_y_10000_nodes_10_edges' deleted successfully.\n",
      "Connection successful.\n",
      "Database 'X_and_y_10000_nodes_20_edges' created successfully.\n",
      "Connection successful.\n",
      "Schema created successfully.\n",
      "Edges table created successfully.\n",
      "Data from 'syn_data/X_and_y_10000_nodes_20_edges.csv' uploaded to table 'nodes' successfully using COPY.\n",
      "Index 'nodes_id_idx' created successfully.\n",
      "Edges data from 'syn_data/edge_index_10000_nodes_20_edges.csv' uploaded successfully.\n",
      "Index 'edges_target_id_idx' created successfully.\n"
     ]
    },
    {
     "data": {
      "application/vnd.jupyter.widget-view+json": {
       "model_id": "8c17543454704a6eaa050a9914a76365",
       "version_major": 2,
       "version_minor": 0
      },
      "text/plain": [
       "  0%|          | 0/3 [00:00<?, ?it/s]"
      ]
     },
     "metadata": {},
     "output_type": "display_data"
    },
    {
     "data": {
      "application/vnd.jupyter.widget-view+json": {
       "model_id": "f0b3ad46331e44319dc3c6851345d232",
       "version_major": 2,
       "version_minor": 0
      },
      "text/plain": [
       "  0%|          | 0/1000 [00:00<?, ?it/s]"
      ]
     },
     "metadata": {},
     "output_type": "display_data"
    },
    {
     "data": {
      "application/vnd.jupyter.widget-view+json": {
       "model_id": "d53680cc50d447a88c1a2074fe5a356b",
       "version_major": 2,
       "version_minor": 0
      },
      "text/plain": [
       "  0%|          | 0/1000 [00:00<?, ?it/s]"
      ]
     },
     "metadata": {},
     "output_type": "display_data"
    },
    {
     "data": {
      "application/vnd.jupyter.widget-view+json": {
       "model_id": "174adafce86e46c28bfec1bad7274b24",
       "version_major": 2,
       "version_minor": 0
      },
      "text/plain": [
       "  0%|          | 0/1000 [00:00<?, ?it/s]"
      ]
     },
     "metadata": {},
     "output_type": "display_data"
    },
    {
     "data": {
      "application/vnd.jupyter.widget-view+json": {
       "model_id": "4ba8fb0778f149eebdeed505df8de16f",
       "version_major": 2,
       "version_minor": 0
      },
      "text/plain": [
       "  0%|          | 0/1000 [00:00<?, ?it/s]"
      ]
     },
     "metadata": {},
     "output_type": "display_data"
    },
    {
     "data": {
      "application/vnd.jupyter.widget-view+json": {
       "model_id": "39d2611940514e0ca3bcfb0185c46ab6",
       "version_major": 2,
       "version_minor": 0
      },
      "text/plain": [
       "  0%|          | 0/1000 [00:00<?, ?it/s]"
      ]
     },
     "metadata": {},
     "output_type": "display_data"
    },
    {
     "name": "stdout",
     "output_type": "stream",
     "text": [
      "Connection successful.\n",
      "Database 'X_and_y_10000_nodes_20_edges' deleted successfully.\n",
      "Connection successful.\n",
      "Database 'X_and_y_10000_nodes_scale_free' created successfully.\n",
      "Connection successful.\n",
      "Schema created successfully.\n",
      "Edges table created successfully.\n",
      "Data from 'syn_data/X_and_y_10000_nodes_scale_free.csv' uploaded to table 'nodes' successfully using COPY.\n",
      "Index 'nodes_id_idx' created successfully.\n",
      "Edges data from 'syn_data/edge_index_10000_nodes_scale_free.csv' uploaded successfully.\n",
      "Index 'edges_target_id_idx' created successfully.\n"
     ]
    },
    {
     "data": {
      "application/vnd.jupyter.widget-view+json": {
       "model_id": "e8a6124ca4b74472804e6a8ea29cfd80",
       "version_major": 2,
       "version_minor": 0
      },
      "text/plain": [
       "  0%|          | 0/3 [00:00<?, ?it/s]"
      ]
     },
     "metadata": {},
     "output_type": "display_data"
    },
    {
     "data": {
      "application/vnd.jupyter.widget-view+json": {
       "model_id": "9578cfe1cf6e4930b68746e0ebe4333b",
       "version_major": 2,
       "version_minor": 0
      },
      "text/plain": [
       "  0%|          | 0/1000 [00:00<?, ?it/s]"
      ]
     },
     "metadata": {},
     "output_type": "display_data"
    },
    {
     "data": {
      "application/vnd.jupyter.widget-view+json": {
       "model_id": "641b5e1d27a74cd28af91a45fc8ea6ef",
       "version_major": 2,
       "version_minor": 0
      },
      "text/plain": [
       "  0%|          | 0/1000 [00:00<?, ?it/s]"
      ]
     },
     "metadata": {},
     "output_type": "display_data"
    },
    {
     "data": {
      "application/vnd.jupyter.widget-view+json": {
       "model_id": "bfa228fbc38a4a7ea159bbb363c0bca3",
       "version_major": 2,
       "version_minor": 0
      },
      "text/plain": [
       "  0%|          | 0/1000 [00:00<?, ?it/s]"
      ]
     },
     "metadata": {},
     "output_type": "display_data"
    },
    {
     "data": {
      "application/vnd.jupyter.widget-view+json": {
       "model_id": "53935479e3394da5b9f9493fe44cb53e",
       "version_major": 2,
       "version_minor": 0
      },
      "text/plain": [
       "  0%|          | 0/1000 [00:00<?, ?it/s]"
      ]
     },
     "metadata": {},
     "output_type": "display_data"
    },
    {
     "data": {
      "application/vnd.jupyter.widget-view+json": {
       "model_id": "5efbdba889e941148050246c9b2aa293",
       "version_major": 2,
       "version_minor": 0
      },
      "text/plain": [
       "  0%|          | 0/1000 [00:00<?, ?it/s]"
      ]
     },
     "metadata": {},
     "output_type": "display_data"
    },
    {
     "name": "stdout",
     "output_type": "stream",
     "text": [
      "Connection successful.\n",
      "Database 'X_and_y_10000_nodes_scale_free' deleted successfully.\n"
     ]
    },
    {
     "data": {
      "application/vnd.jupyter.widget-view+json": {
       "model_id": "3611db1de8804f3b8cecff0e7ae986b4",
       "version_major": 2,
       "version_minor": 0
      },
      "text/plain": [
       "  0%|          | 0/4 [00:00<?, ?it/s]"
      ]
     },
     "metadata": {},
     "output_type": "display_data"
    },
    {
     "name": "stdout",
     "output_type": "stream",
     "text": [
      "Connection successful.\n",
      "Database 'X_and_y_100000_nodes_5_edges' created successfully.\n",
      "Connection successful.\n",
      "Schema created successfully.\n",
      "Edges table created successfully.\n",
      "Data from 'syn_data/X_and_y_100000_nodes_5_edges.csv' uploaded to table 'nodes' successfully using COPY.\n",
      "Index 'nodes_id_idx' created successfully.\n",
      "Edges data from 'syn_data/edge_index_100000_nodes_5_edges.csv' uploaded successfully.\n",
      "Index 'edges_target_id_idx' created successfully.\n"
     ]
    },
    {
     "data": {
      "application/vnd.jupyter.widget-view+json": {
       "model_id": "a1c30c7f2ec943a48d1f360cc6ead212",
       "version_major": 2,
       "version_minor": 0
      },
      "text/plain": [
       "  0%|          | 0/3 [00:00<?, ?it/s]"
      ]
     },
     "metadata": {},
     "output_type": "display_data"
    },
    {
     "data": {
      "application/vnd.jupyter.widget-view+json": {
       "model_id": "d0c5a5309d454dd1ab41dcc9ca9a9145",
       "version_major": 2,
       "version_minor": 0
      },
      "text/plain": [
       "  0%|          | 0/1000 [00:00<?, ?it/s]"
      ]
     },
     "metadata": {},
     "output_type": "display_data"
    },
    {
     "data": {
      "application/vnd.jupyter.widget-view+json": {
       "model_id": "ae08cdd78e624680863ee0d7365c5359",
       "version_major": 2,
       "version_minor": 0
      },
      "text/plain": [
       "  0%|          | 0/1000 [00:00<?, ?it/s]"
      ]
     },
     "metadata": {},
     "output_type": "display_data"
    },
    {
     "data": {
      "application/vnd.jupyter.widget-view+json": {
       "model_id": "5d8efb8fe2f44bbc8aa4615ad57c9ff6",
       "version_major": 2,
       "version_minor": 0
      },
      "text/plain": [
       "  0%|          | 0/1000 [00:00<?, ?it/s]"
      ]
     },
     "metadata": {},
     "output_type": "display_data"
    },
    {
     "data": {
      "application/vnd.jupyter.widget-view+json": {
       "model_id": "acdd9be6d8964b07b4368a2d8068ff76",
       "version_major": 2,
       "version_minor": 0
      },
      "text/plain": [
       "  0%|          | 0/1000 [00:00<?, ?it/s]"
      ]
     },
     "metadata": {},
     "output_type": "display_data"
    },
    {
     "data": {
      "application/vnd.jupyter.widget-view+json": {
       "model_id": "5aa1ef662fe6468097c875dedf2074b5",
       "version_major": 2,
       "version_minor": 0
      },
      "text/plain": [
       "  0%|          | 0/1000 [00:00<?, ?it/s]"
      ]
     },
     "metadata": {},
     "output_type": "display_data"
    },
    {
     "name": "stdout",
     "output_type": "stream",
     "text": [
      "Connection successful.\n",
      "Database 'X_and_y_100000_nodes_5_edges' deleted successfully.\n",
      "Connection successful.\n",
      "Database 'X_and_y_100000_nodes_10_edges' created successfully.\n",
      "Connection successful.\n",
      "Schema created successfully.\n",
      "Edges table created successfully.\n",
      "Data from 'syn_data/X_and_y_100000_nodes_10_edges.csv' uploaded to table 'nodes' successfully using COPY.\n",
      "Index 'nodes_id_idx' created successfully.\n",
      "Edges data from 'syn_data/edge_index_100000_nodes_10_edges.csv' uploaded successfully.\n",
      "Index 'edges_target_id_idx' created successfully.\n"
     ]
    },
    {
     "data": {
      "application/vnd.jupyter.widget-view+json": {
       "model_id": "8c862f62b3904346b20b5d4ccb10a6f2",
       "version_major": 2,
       "version_minor": 0
      },
      "text/plain": [
       "  0%|          | 0/3 [00:00<?, ?it/s]"
      ]
     },
     "metadata": {},
     "output_type": "display_data"
    },
    {
     "data": {
      "application/vnd.jupyter.widget-view+json": {
       "model_id": "f9f694db608845efa9eb2fe71271c1e6",
       "version_major": 2,
       "version_minor": 0
      },
      "text/plain": [
       "  0%|          | 0/1000 [00:00<?, ?it/s]"
      ]
     },
     "metadata": {},
     "output_type": "display_data"
    },
    {
     "data": {
      "application/vnd.jupyter.widget-view+json": {
       "model_id": "9d024a7b36134ea383d01b17e266e82c",
       "version_major": 2,
       "version_minor": 0
      },
      "text/plain": [
       "  0%|          | 0/1000 [00:00<?, ?it/s]"
      ]
     },
     "metadata": {},
     "output_type": "display_data"
    },
    {
     "data": {
      "application/vnd.jupyter.widget-view+json": {
       "model_id": "98c1857d72c449c08324f28aa5f09811",
       "version_major": 2,
       "version_minor": 0
      },
      "text/plain": [
       "  0%|          | 0/1000 [00:00<?, ?it/s]"
      ]
     },
     "metadata": {},
     "output_type": "display_data"
    },
    {
     "data": {
      "application/vnd.jupyter.widget-view+json": {
       "model_id": "a15398fadba04644bf032ea90789bbf6",
       "version_major": 2,
       "version_minor": 0
      },
      "text/plain": [
       "  0%|          | 0/1000 [00:00<?, ?it/s]"
      ]
     },
     "metadata": {},
     "output_type": "display_data"
    },
    {
     "data": {
      "application/vnd.jupyter.widget-view+json": {
       "model_id": "3e2fa150ca804ae7884984d2162103bc",
       "version_major": 2,
       "version_minor": 0
      },
      "text/plain": [
       "  0%|          | 0/1000 [00:00<?, ?it/s]"
      ]
     },
     "metadata": {},
     "output_type": "display_data"
    },
    {
     "name": "stdout",
     "output_type": "stream",
     "text": [
      "Connection successful.\n",
      "Database 'X_and_y_100000_nodes_10_edges' deleted successfully.\n",
      "Connection successful.\n",
      "Database 'X_and_y_100000_nodes_20_edges' created successfully.\n",
      "Connection successful.\n",
      "Schema created successfully.\n",
      "Edges table created successfully.\n",
      "Data from 'syn_data/X_and_y_100000_nodes_20_edges.csv' uploaded to table 'nodes' successfully using COPY.\n",
      "Index 'nodes_id_idx' created successfully.\n",
      "Edges data from 'syn_data/edge_index_100000_nodes_20_edges.csv' uploaded successfully.\n",
      "Index 'edges_target_id_idx' created successfully.\n"
     ]
    },
    {
     "data": {
      "application/vnd.jupyter.widget-view+json": {
       "model_id": "a5e6a53078f749648e19e6c94204e61d",
       "version_major": 2,
       "version_minor": 0
      },
      "text/plain": [
       "  0%|          | 0/3 [00:00<?, ?it/s]"
      ]
     },
     "metadata": {},
     "output_type": "display_data"
    },
    {
     "data": {
      "application/vnd.jupyter.widget-view+json": {
       "model_id": "a04046073800498f8e45c57d43a48e47",
       "version_major": 2,
       "version_minor": 0
      },
      "text/plain": [
       "  0%|          | 0/1000 [00:00<?, ?it/s]"
      ]
     },
     "metadata": {},
     "output_type": "display_data"
    },
    {
     "data": {
      "application/vnd.jupyter.widget-view+json": {
       "model_id": "2d874dba19fa47e2b70a25199d34b7f7",
       "version_major": 2,
       "version_minor": 0
      },
      "text/plain": [
       "  0%|          | 0/1000 [00:00<?, ?it/s]"
      ]
     },
     "metadata": {},
     "output_type": "display_data"
    },
    {
     "data": {
      "application/vnd.jupyter.widget-view+json": {
       "model_id": "257ea777c6334fe9a44360382cd56331",
       "version_major": 2,
       "version_minor": 0
      },
      "text/plain": [
       "  0%|          | 0/1000 [00:00<?, ?it/s]"
      ]
     },
     "metadata": {},
     "output_type": "display_data"
    },
    {
     "data": {
      "application/vnd.jupyter.widget-view+json": {
       "model_id": "bb925809101845bbb13eec910453a294",
       "version_major": 2,
       "version_minor": 0
      },
      "text/plain": [
       "  0%|          | 0/1000 [00:00<?, ?it/s]"
      ]
     },
     "metadata": {},
     "output_type": "display_data"
    },
    {
     "data": {
      "application/vnd.jupyter.widget-view+json": {
       "model_id": "28abb0682d3b403fb0fade1a3333942e",
       "version_major": 2,
       "version_minor": 0
      },
      "text/plain": [
       "  0%|          | 0/1000 [00:00<?, ?it/s]"
      ]
     },
     "metadata": {},
     "output_type": "display_data"
    },
    {
     "name": "stdout",
     "output_type": "stream",
     "text": [
      "Connection successful.\n",
      "Database 'X_and_y_100000_nodes_20_edges' deleted successfully.\n",
      "Connection successful.\n",
      "Database 'X_and_y_100000_nodes_scale_free' created successfully.\n",
      "Connection successful.\n",
      "Schema created successfully.\n",
      "Edges table created successfully.\n",
      "Data from 'syn_data/X_and_y_100000_nodes_scale_free.csv' uploaded to table 'nodes' successfully using COPY.\n",
      "Index 'nodes_id_idx' created successfully.\n",
      "Edges data from 'syn_data/edge_index_100000_nodes_scale_free.csv' uploaded successfully.\n",
      "Index 'edges_target_id_idx' created successfully.\n"
     ]
    },
    {
     "data": {
      "application/vnd.jupyter.widget-view+json": {
       "model_id": "2ef0ef69e4a44420b18da111a7fbe2e6",
       "version_major": 2,
       "version_minor": 0
      },
      "text/plain": [
       "  0%|          | 0/3 [00:00<?, ?it/s]"
      ]
     },
     "metadata": {},
     "output_type": "display_data"
    },
    {
     "data": {
      "application/vnd.jupyter.widget-view+json": {
       "model_id": "bf1ce68106be49c69f328c02193776b4",
       "version_major": 2,
       "version_minor": 0
      },
      "text/plain": [
       "  0%|          | 0/1000 [00:00<?, ?it/s]"
      ]
     },
     "metadata": {},
     "output_type": "display_data"
    },
    {
     "data": {
      "application/vnd.jupyter.widget-view+json": {
       "model_id": "e0b30fbf78dd43cdab3da28a575c8468",
       "version_major": 2,
       "version_minor": 0
      },
      "text/plain": [
       "  0%|          | 0/1000 [00:00<?, ?it/s]"
      ]
     },
     "metadata": {},
     "output_type": "display_data"
    },
    {
     "data": {
      "application/vnd.jupyter.widget-view+json": {
       "model_id": "df24f0f94f3c461a98c30ac437f46603",
       "version_major": 2,
       "version_minor": 0
      },
      "text/plain": [
       "  0%|          | 0/1000 [00:00<?, ?it/s]"
      ]
     },
     "metadata": {},
     "output_type": "display_data"
    },
    {
     "data": {
      "application/vnd.jupyter.widget-view+json": {
       "model_id": "b634c87f1a044d8da21cb4dad7a2141c",
       "version_major": 2,
       "version_minor": 0
      },
      "text/plain": [
       "  0%|          | 0/1000 [00:00<?, ?it/s]"
      ]
     },
     "metadata": {},
     "output_type": "display_data"
    },
    {
     "data": {
      "application/vnd.jupyter.widget-view+json": {
       "model_id": "a0a8b6bb72c44ba493e8c0531b653057",
       "version_major": 2,
       "version_minor": 0
      },
      "text/plain": [
       "  0%|          | 0/1000 [00:00<?, ?it/s]"
      ]
     },
     "metadata": {},
     "output_type": "display_data"
    },
    {
     "name": "stdout",
     "output_type": "stream",
     "text": [
      "Connection successful.\n",
      "Database 'X_and_y_100000_nodes_scale_free' deleted successfully.\n"
     ]
    }
   ],
   "source": [
    "output_df = pd.DataFrame(columns = [\"name\", \"create\", \"read\", \"read_mem\", \"update_nodes\", \"update_edges\", \"delete\"])\n",
    "\n",
    "for num_nodes in tqdm([1_000, 10_000, 100_000]):\n",
    "    for num_edges in tqdm([\"5_edges\", \"10_edges\", \"20_edges\", \"scale_free\"]):\n",
    "        feature_file_name = f\"X_{str(num_nodes)}_nodes_{num_edges}.csv\"\n",
    "        label_file_name = f\"y_{str(num_nodes)}_nodes_{num_edges}.csv\"\n",
    "        edge_file_name = f\"edge_index_{str(num_nodes)}_nodes_{num_edges}.csv\"\n",
    "        assert os.path.exists(f\"syn_data/{feature_file_name}\"), \"Feature file does not exist\"\n",
    "        assert os.path.exists(f\"syn_data/{label_file_name}\"), \"Label file does not exist\"\n",
    "        assert os.path.exists(f\"syn_data/{edge_file_name}\"), \"Edge file does not exist\"\n",
    "        \n",
    "        X = pd.read_csv(f\"syn_data/{feature_file_name}\")\n",
    "        y = pd.read_csv(f\"syn_data/{label_file_name}\")\n",
    "        edges = pd.read_csv(f\"syn_data/{edge_file_name}\")\n",
    "        edges.columns = [\"source_id\", \"target_id\"]\n",
    "        edge_index = edges.values.transpose(-1, 0)\n",
    "        node_file_name = f\"X_and_y_{str(num_nodes)}_nodes_{num_edges}.csv\"\n",
    "        if not os.path.exists(f\"syn_data/{node_file_name}\"):\n",
    "            X_and_y = pd.DataFrame()\n",
    "            X_and_y[\"X\"] = X.apply(lambda row: [row[column] for column in X.columns], axis=1)\n",
    "            X_and_y[\"y\"] = y.apply(lambda row: [int(row[column]) for column in y.columns], axis=1)\n",
    "            \n",
    "            X_and_y[\"X\"] = X_and_y[\"X\"].apply(lambda x: f\"{{{','.join(map(str, x))}}}\")\n",
    "            X_and_y[\"y\"] = X_and_y[\"y\"].apply(lambda x: f\"{{{','.join(map(str, x))}}}\")\n",
    "            X_and_y.to_csv(f\"syn_data/{node_file_name}\", sep = \",\", index = True)\n",
    "        else:\n",
    "            X_and_y = pd.read_csv(f\"syn_data/{node_file_name}\", sep = \",\", index_col = 0)\n",
    "        conn, new_db_name = create_db(node_file_name)\n",
    "        create_time = create(conn, node_file_name, edge_file_name, X_and_y)\n",
    "        read_times = dict()\n",
    "        read_times_mem = dict()\n",
    "        for hops in tqdm(range(1, 4)):\n",
    "            read_time, read_time_mem = read(conn, hops, X_and_y, X, y, edge_index, 1_000)\n",
    "            read_times[hops] = read_time\n",
    "            read_times_mem[hops] = read_time_mem\n",
    "        update_time_nodes = update_nodes(conn, X_and_y, X, y, 1000)\n",
    "        update_time_edges = update_edges(conn, edge_index, X_and_y, 1000)\n",
    "        delete_time = delete(conn, new_db_name)\n",
    "        new_row_dict = {\"name\": f\"{str(num_nodes)}_nodes_{num_edges}\", \"create\": create_time, \"update_nodes\": update_time_nodes, \"update_edges\": update_time_edges, \"delete\": delete_time}\n",
    "        for hops in read_times:\n",
    "            new_row_dict[f\"read_{hops}\"] = read_times[hops]\n",
    "            new_row_dict[f\"read_in_mem_{hops}\"] = read_times_mem[hops]\n",
    "        new_row = pd.DataFrame([new_row_dict])\n",
    "        output_df = pd.concat((output_df, new_row), ignore_index=True)"
   ]
  },
  {
   "cell_type": "code",
   "execution_count": 40,
   "id": "42846579-825b-4006-b6a7-c3be50521509",
   "metadata": {},
   "outputs": [],
   "source": [
    "output_df.to_csv(\"first_postgres_list_res.csv\")"
   ]
  },
  {
   "cell_type": "code",
   "execution_count": 41,
   "id": "f0760fb7-8e25-4844-87bf-cc748cb874ca",
   "metadata": {},
   "outputs": [
    {
     "data": {
      "text/html": [
       "<div>\n",
       "<style scoped>\n",
       "    .dataframe tbody tr th:only-of-type {\n",
       "        vertical-align: middle;\n",
       "    }\n",
       "\n",
       "    .dataframe tbody tr th {\n",
       "        vertical-align: top;\n",
       "    }\n",
       "\n",
       "    .dataframe thead th {\n",
       "        text-align: right;\n",
       "    }\n",
       "</style>\n",
       "<table border=\"1\" class=\"dataframe\">\n",
       "  <thead>\n",
       "    <tr style=\"text-align: right;\">\n",
       "      <th></th>\n",
       "      <th>name</th>\n",
       "      <th>create</th>\n",
       "      <th>read</th>\n",
       "      <th>read_mem</th>\n",
       "      <th>update_nodes</th>\n",
       "      <th>update_edges</th>\n",
       "      <th>delete</th>\n",
       "    </tr>\n",
       "  </thead>\n",
       "  <tbody>\n",
       "    <tr>\n",
       "      <th>0</th>\n",
       "      <td>1000_nodes_5_edges</td>\n",
       "      <td>0.153620</td>\n",
       "      <td>25.124993</td>\n",
       "      <td>3.252326</td>\n",
       "      <td>1.851639</td>\n",
       "      <td>0.790025</td>\n",
       "      <td>0.132719</td>\n",
       "    </tr>\n",
       "    <tr>\n",
       "      <th>1</th>\n",
       "      <td>1000_nodes_10_edges</td>\n",
       "      <td>0.294178</td>\n",
       "      <td>56.117448</td>\n",
       "      <td>2.029108</td>\n",
       "      <td>1.793453</td>\n",
       "      <td>0.862554</td>\n",
       "      <td>0.102870</td>\n",
       "    </tr>\n",
       "    <tr>\n",
       "      <th>2</th>\n",
       "      <td>1000_nodes_20_edges</td>\n",
       "      <td>0.330310</td>\n",
       "      <td>134.906644</td>\n",
       "      <td>2.317524</td>\n",
       "      <td>1.351911</td>\n",
       "      <td>0.799714</td>\n",
       "      <td>0.137017</td>\n",
       "    </tr>\n",
       "    <tr>\n",
       "      <th>3</th>\n",
       "      <td>1000_nodes_scale_free</td>\n",
       "      <td>0.155881</td>\n",
       "      <td>4.663580</td>\n",
       "      <td>0.479488</td>\n",
       "      <td>1.825820</td>\n",
       "      <td>0.906387</td>\n",
       "      <td>0.115398</td>\n",
       "    </tr>\n",
       "    <tr>\n",
       "      <th>4</th>\n",
       "      <td>10000_nodes_5_edges</td>\n",
       "      <td>1.290384</td>\n",
       "      <td>20.726816</td>\n",
       "      <td>6.666162</td>\n",
       "      <td>1.839293</td>\n",
       "      <td>0.829000</td>\n",
       "      <td>0.121861</td>\n",
       "    </tr>\n",
       "    <tr>\n",
       "      <th>5</th>\n",
       "      <td>10000_nodes_10_edges</td>\n",
       "      <td>1.366571</td>\n",
       "      <td>63.288304</td>\n",
       "      <td>4.445678</td>\n",
       "      <td>1.285792</td>\n",
       "      <td>0.874628</td>\n",
       "      <td>0.107782</td>\n",
       "    </tr>\n",
       "    <tr>\n",
       "      <th>6</th>\n",
       "      <td>10000_nodes_20_edges</td>\n",
       "      <td>2.338412</td>\n",
       "      <td>528.357733</td>\n",
       "      <td>7.987612</td>\n",
       "      <td>1.107436</td>\n",
       "      <td>0.690643</td>\n",
       "      <td>0.115146</td>\n",
       "    </tr>\n",
       "    <tr>\n",
       "      <th>7</th>\n",
       "      <td>10000_nodes_scale_free</td>\n",
       "      <td>0.717312</td>\n",
       "      <td>31.601307</td>\n",
       "      <td>0.661709</td>\n",
       "      <td>1.809194</td>\n",
       "      <td>1.261678</td>\n",
       "      <td>0.093916</td>\n",
       "    </tr>\n",
       "    <tr>\n",
       "      <th>8</th>\n",
       "      <td>100000_nodes_5_edges</td>\n",
       "      <td>7.652080</td>\n",
       "      <td>13.582478</td>\n",
       "      <td>16.421966</td>\n",
       "      <td>1.247169</td>\n",
       "      <td>0.822240</td>\n",
       "      <td>0.229198</td>\n",
       "    </tr>\n",
       "    <tr>\n",
       "      <th>9</th>\n",
       "      <td>100000_nodes_10_edges</td>\n",
       "      <td>12.684927</td>\n",
       "      <td>63.763234</td>\n",
       "      <td>25.867091</td>\n",
       "      <td>1.244511</td>\n",
       "      <td>0.884679</td>\n",
       "      <td>0.214767</td>\n",
       "    </tr>\n",
       "    <tr>\n",
       "      <th>10</th>\n",
       "      <td>100000_nodes_20_edges</td>\n",
       "      <td>23.214662</td>\n",
       "      <td>781.499480</td>\n",
       "      <td>51.288369</td>\n",
       "      <td>1.183641</td>\n",
       "      <td>0.929748</td>\n",
       "      <td>0.103765</td>\n",
       "    </tr>\n",
       "    <tr>\n",
       "      <th>11</th>\n",
       "      <td>100000_nodes_scale_free</td>\n",
       "      <td>5.636752</td>\n",
       "      <td>662.486698</td>\n",
       "      <td>1.903464</td>\n",
       "      <td>1.317307</td>\n",
       "      <td>2.061074</td>\n",
       "      <td>0.123724</td>\n",
       "    </tr>\n",
       "  </tbody>\n",
       "</table>\n",
       "</div>"
      ],
      "text/plain": [
       "                       name     create        read   read_mem  update_nodes  \\\n",
       "0        1000_nodes_5_edges   0.153620   25.124993   3.252326      1.851639   \n",
       "1       1000_nodes_10_edges   0.294178   56.117448   2.029108      1.793453   \n",
       "2       1000_nodes_20_edges   0.330310  134.906644   2.317524      1.351911   \n",
       "3     1000_nodes_scale_free   0.155881    4.663580   0.479488      1.825820   \n",
       "4       10000_nodes_5_edges   1.290384   20.726816   6.666162      1.839293   \n",
       "5      10000_nodes_10_edges   1.366571   63.288304   4.445678      1.285792   \n",
       "6      10000_nodes_20_edges   2.338412  528.357733   7.987612      1.107436   \n",
       "7    10000_nodes_scale_free   0.717312   31.601307   0.661709      1.809194   \n",
       "8      100000_nodes_5_edges   7.652080   13.582478  16.421966      1.247169   \n",
       "9     100000_nodes_10_edges  12.684927   63.763234  25.867091      1.244511   \n",
       "10    100000_nodes_20_edges  23.214662  781.499480  51.288369      1.183641   \n",
       "11  100000_nodes_scale_free   5.636752  662.486698   1.903464      1.317307   \n",
       "\n",
       "    update_edges    delete  \n",
       "0       0.790025  0.132719  \n",
       "1       0.862554  0.102870  \n",
       "2       0.799714  0.137017  \n",
       "3       0.906387  0.115398  \n",
       "4       0.829000  0.121861  \n",
       "5       0.874628  0.107782  \n",
       "6       0.690643  0.115146  \n",
       "7       1.261678  0.093916  \n",
       "8       0.822240  0.229198  \n",
       "9       0.884679  0.214767  \n",
       "10      0.929748  0.103765  \n",
       "11      2.061074  0.123724  "
      ]
     },
     "execution_count": 41,
     "metadata": {},
     "output_type": "execute_result"
    }
   ],
   "source": [
    "output_df"
   ]
  },
  {
   "cell_type": "code",
   "execution_count": null,
   "id": "669ee074-84a9-48b0-aa1d-f2435dff8ef0",
   "metadata": {},
   "outputs": [],
   "source": [
    "## TODO one million"
   ]
  },
  {
   "cell_type": "code",
   "execution_count": 3,
   "id": "f11e5db2-d4d6-483f-8dec-87980879aed8",
   "metadata": {},
   "outputs": [
    {
     "name": "stdout",
     "output_type": "stream",
     "text": [
      "Connection successful.\n",
      "Connection successful.\n",
      "Database 'X_and_y_1000_nodes_5_edges' deleted successfully.\n"
     ]
    }
   ],
   "source": [
    "conn = connect_to_postgres(dbname = 'X_and_y_1000_nodes_5_edges')\n",
    "delete_time = delete(conn, new_db_name = \"X_and_y_1000_nodes_5_edges\")"
   ]
  },
  {
   "cell_type": "code",
   "execution_count": null,
   "id": "03d1ced6-df31-444b-8b03-5cf49d3593fa",
   "metadata": {},
   "outputs": [],
   "source": []
  }
 ],
 "metadata": {
  "kernelspec": {
   "display_name": "Python 3 (ipykernel)",
   "language": "python",
   "name": "python3"
  },
  "language_info": {
   "codemirror_mode": {
    "name": "ipython",
    "version": 3
   },
   "file_extension": ".py",
   "mimetype": "text/x-python",
   "name": "python",
   "nbconvert_exporter": "python",
   "pygments_lexer": "ipython3",
   "version": "3.10.12"
  }
 },
 "nbformat": 4,
 "nbformat_minor": 5
}
