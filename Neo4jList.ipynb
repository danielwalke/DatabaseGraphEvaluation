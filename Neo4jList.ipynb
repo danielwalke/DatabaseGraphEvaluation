{
 "cells": [
  {
   "cell_type": "code",
   "execution_count": 10,
   "id": "7c24c38d-cbc9-4f63-8dd1-1f9d65760bb2",
   "metadata": {},
   "outputs": [],
   "source": [
    "## TODO execute in docker container -> no network connection\n",
    "## Query time with time or rather explain?\n",
    "##TODO shift ppi to syn_data (new mount for import dir)"
   ]
  },
  {
   "cell_type": "code",
   "execution_count": 1,
   "id": "1ec6be63-14a1-4e9a-b9ad-4fa142097f54",
   "metadata": {},
   "outputs": [
    {
     "name": "stderr",
     "output_type": "stream",
     "text": [
      "/home/dwalke/.local/lib/python3.10/site-packages/transformers/utils/generic.py:441: UserWarning: torch.utils._pytree._register_pytree_node is deprecated. Please use torch.utils._pytree.register_pytree_node instead.\n",
      "  _torch_pytree._register_pytree_node(\n"
     ]
    }
   ],
   "source": [
    "import subprocess\n",
    "import docker\n",
    "import os\n",
    "import neo4j\n",
    "from neo4j import GraphDatabase\n",
    "import pandas as pd\n",
    "import time\n",
    "import numpy as np\n",
    "import time\n",
    "from tqdm.notebook import tqdm\n",
    "from torch_geometric.utils import sort_edge_index\n",
    "import torch\n",
    "from torch_geometric.datasets import PPI\n",
    "from torch_geometric.loader import DataLoader"
   ]
  },
  {
   "cell_type": "code",
   "execution_count": 2,
   "id": "b4415c41-acb4-4012-af7e-0788f7426075",
   "metadata": {},
   "outputs": [],
   "source": [
    "# ppi = PPI(root = \"data\")\n",
    "# data_loader = iter(DataLoader(ppi, batch_size=len(ppi)))\n",
    "# ppi_data = next(data_loader)\n",
    "# pd.DataFrame(ppi_data.x).to_csv(\"data/ppi_x.csv\", index = False, sep = \",\")\n",
    "# pd.DataFrame(ppi_data.y).to_csv(\"data/ppi_y.csv\", index = False, sep = \",\")\n",
    "# pd.DataFrame(ppi_data.edge_index.transpose(-1, 0)).to_csv(\"data/ppi_edge_index.csv\", index = False, sep = \",\")"
   ]
  },
  {
   "cell_type": "code",
   "execution_count": 12,
   "id": "90361ec5-f0fd-43e7-b454-0bbb2e764302",
   "metadata": {},
   "outputs": [],
   "source": [
    "def create_neo4j_container():\n",
    "    # Create a Docker client\n",
    "    client = docker.from_env()\n",
    "    \n",
    "    # Define the image name\n",
    "    image_name = \"neo4j:latest\"\n",
    "    \n",
    "    # Pull the image if it is not already available\n",
    "    client.images.pull(image_name)\n",
    "    \n",
    "    # Define the container name and environment variables\n",
    "    container_name = \"neo4j-apoc\"\n",
    "    neo4j_env = {\n",
    "        \"NEO4J_apoc_export_file_enabled\": \"true\",\n",
    "        \"NEO4J_apoc_import_file_enabled\": \"true\",\n",
    "        \"NEO4J_apoc_import_file_use__neo4j__config\": \"true\",\n",
    "        \"NEO4J_PLUGINS\": '[\"apoc\"]',\n",
    "        \"NEO4J_AUTH\": \"neo4j/password\",\n",
    "    }\n",
    "    \n",
    "    # Define the volume mapping\n",
    "    volume_mapping = {\n",
    "        f\"{os.getcwd()}/neo4j_data\": {\"bind\": \"/data\", \"mode\": \"rw\"},\n",
    "        f\"{os.getcwd()}/syn_data\": {\"bind\": \"/import\", \"mode\": \"rw\"}\n",
    "    }\n",
    "    ports = {\"7474\": 7475, \"7687\": 7688}\n",
    "    # Run the container\n",
    "    container = client.containers.run(\n",
    "        image=image_name,\n",
    "        name=container_name,\n",
    "        ports=ports,\n",
    "        environment=neo4j_env,\n",
    "        volumes=volume_mapping,\n",
    "        detach=True,\n",
    "        tty=True,\n",
    "        stdin_open=True,\n",
    "        remove=True,  # Automatically remove the container when it stops\n",
    "    )\n",
    "    \n",
    "    print(f\"Container {container_name} started with ID: {container.id}\")\n",
    "    return container, ports"
   ]
  },
  {
   "cell_type": "code",
   "execution_count": 13,
   "id": "0e04f121-dc04-4469-80ac-e1a98881724c",
   "metadata": {},
   "outputs": [
    {
     "name": "stdout",
     "output_type": "stream",
     "text": [
      "Container neo4j-apoc started with ID: df12e7bcc73fb46e95a7e7180efae9654955d6549eae455a704169990cf17d40\n"
     ]
    }
   ],
   "source": [
    "container, ports = create_neo4j_container()"
   ]
  },
  {
   "cell_type": "code",
   "execution_count": 5,
   "id": "7e235e01-006f-4b3a-bc47-7439374f4701",
   "metadata": {},
   "outputs": [],
   "source": [
    "#container.stop()"
   ]
  },
  {
   "cell_type": "code",
   "execution_count": 14,
   "id": "b05af57f-5f07-4ef3-aef9-8d018db8c5f7",
   "metadata": {},
   "outputs": [],
   "source": [
    "def connect_to_neo4j(uri, user, password):\n",
    "    \"\"\"\n",
    "    Establishes a connection to the Neo4j database.\n",
    "\n",
    "    Args:\n",
    "        uri (str): The URI of the Neo4j database.\n",
    "        user (str): The username for authentication.\n",
    "        password (str): The password for authentication.\n",
    "\n",
    "    Returns:\n",
    "        GraphDatabase.driver: The Neo4j driver instance for the connection.\n",
    "    \"\"\"\n",
    "\n",
    "    return GraphDatabase.driver(uri, auth=(user, password))"
   ]
  },
  {
   "cell_type": "code",
   "execution_count": 16,
   "id": "92f64df0-bbcd-4a19-a4ed-82ef0c58785d",
   "metadata": {},
   "outputs": [
    {
     "data": {
      "text/plain": [
       "EagerResult(records=[], summary=<neo4j._work.summary.ResultSummary object at 0x7ff15bc583a0>, keys=[])"
      ]
     },
     "execution_count": 16,
     "metadata": {},
     "output_type": "execute_result"
    }
   ],
   "source": [
    "# uri = f\"bolt://localhost:{ports['7687']}\"\n",
    "uri = f\"bolt://localhost:{7688}\"\n",
    "username = \"neo4j\"\n",
    "password = \"password\"\n",
    "\n",
    "driver = connect_to_neo4j(uri, username, password)\n",
    "driver.execute_query(\"MATCH (n) DETACH DELETE n\")"
   ]
  },
  {
   "cell_type": "code",
   "execution_count": null,
   "id": "75aade77-983d-4b2a-8db0-7920270496d6",
   "metadata": {},
   "outputs": [],
   "source": [
    "# data_root_dir = \"/home/dwalke/git/shweta/Master-Thesis-Code/data/syn_data\"\n",
    "# num_nodes = 10000\n",
    "# num_edges = 5\n",
    "# # edge_file_name = f\"edge_index_{num_nodes}_nodes_{num_edges}_edges.csv\"\n",
    "# # X = pd.read_csv(f\"{data_root_dir}/X_{num_nodes}_nodes_{num_edges}_edges.csv\")\n",
    "# # y = pd.read_csv(f\"{data_root_dir}/y_{num_nodes}_nodes_{num_edges}_edges.csv\")\n",
    "# # edges = pd.read_csv(f\"{data_root_dir}/{edge_file_name}\")\n",
    "# edge_file_name = \"ppi_edge_index.csv\"\n",
    "# X = pd.read_csv(f\"data/ppi_x.csv\")\n",
    "# y = pd.read_csv(f\"data/ppi_y.csv\")\n",
    "# edges = pd.read_csv(\"data/\" + edge_file_name)\n",
    "# edge_index = edges.values.astype(np.int64).transpose()\n",
    "# X_and_y = pd.DataFrame()\n",
    "# X_and_y[\"label\"] = y.apply(lambda row: [row[column] for column in y.columns], axis=1)\n",
    "# X_and_y[\"X\"] = X.apply(lambda row: [row[column] for column in X.columns], axis=1)\n",
    "# node_file_name = \"X_y_ppi_neo4j.csv\"\n",
    "# X_and_y.to_csv(f\"data/{node_file_name}\", sep = \",\", index = False)"
   ]
  },
  {
   "cell_type": "code",
   "execution_count": 28,
   "id": "09ce56d7-4ef7-43d8-acf9-d51b664e6c50",
   "metadata": {},
   "outputs": [],
   "source": [
    "def recurse_edge_index_iterative(source_nodes, edge_index, max_depth):\n",
    "    \"\"\"\n",
    "    Optimized function to compute the subgraph around the source nodes up to a given depth.\n",
    "    Uses an iterative approach instead of recursion.\n",
    "    \"\"\"\n",
    "    visited_nodes = set(source_nodes)\n",
    "    current_frontier = np.array(source_nodes)\n",
    "    \n",
    "    subgraph_edges = []\n",
    "\n",
    "    for _ in range(max_depth):\n",
    "        # Find edges where the target node is in the current frontier\n",
    "        target_mask = np.isin(edge_index[1], current_frontier)\n",
    "        subgraph_edge_index = edge_index[:, target_mask]\n",
    "        subgraph_edges.append(subgraph_edge_index)\n",
    "\n",
    "        # Update the current frontier with the source nodes of these edges\n",
    "        current_frontier = np.setdiff1d(subgraph_edge_index[0], list(visited_nodes))\n",
    "        visited_nodes.update(current_frontier)\n",
    "        \n",
    "        if len(current_frontier) == 0:\n",
    "            break\n",
    "\n",
    "    # Combine edges from all hops\n",
    "    return np.concatenate(subgraph_edges, axis=1) if subgraph_edges else np.empty((2, 0), dtype=edge_index.dtype)\n",
    "\n",
    "\n",
    "def get_subgraph_from_in_mem_graph_optimized(X, y, i, edge_index, hops):\n",
    "    \"\"\"\n",
    "    Optimized version of subgraph extraction.\n",
    "    \"\"\"\n",
    "    subgraph_edge_index = recurse_edge_index_iterative([i], edge_index, hops)\n",
    "    unique_node_ids, remapping = np.unique(subgraph_edge_index, return_inverse=True)\n",
    "    \n",
    "    # Extract features and labels\n",
    "    features = X.iloc[unique_node_ids, :].values\n",
    "    labels = y.iloc[unique_node_ids, :].values.squeeze()\n",
    "\n",
    "    # Remap edge indices\n",
    "    remapped_edge_index = remapping.reshape(2, -1)\n",
    "    return remapped_edge_index, features, labels, unique_node_ids\n",
    "    \n",
    "def create(driver, node_file_name, edge_file_name):\n",
    "    with driver.session() as session:\n",
    "        start = time.time()\n",
    "        node_query = \"\"\"\n",
    "                LOAD CSV WITH HEADERS FROM $file AS line\n",
    "                WITH line, linenumber() AS index\n",
    "                CALL (line, index) {\n",
    "                  MERGE (p:Node {id: index - 2})\n",
    "                  SET p.label = apoc.convert.fromJsonList(line[\"label\"])\n",
    "                  SET p.features = apoc.convert.fromJsonList(line[\"X\"])\n",
    "                } IN TRANSACTIONS OF 10000 ROWS\n",
    "                \"\"\"\n",
    "        session.run(node_query, file=f\"file:///{node_file_name}\")\n",
    "        session.run(\"CREATE INDEX IF NOT EXISTS FOR (n:Node) ON (n.id)\")\n",
    "        edge_query = \"\"\"\n",
    "            LOAD CSV FROM $file AS line\n",
    "            WITH line, linenumber() AS index\n",
    "            WHERE index <> 1\n",
    "            CALL (line) {\n",
    "                MATCH (s:Node {id: toInteger(line[0])}), (t:Node {id: toInteger(line[1])})\n",
    "                CREATE (s)-[r:connects]->(t)\n",
    "            } IN TRANSACTIONS OF 10000 ROWS\n",
    "            \"\"\"\n",
    "        session.run(edge_query, file=f\"file:///{edge_file_name}\")\n",
    "        return time.time() - start\n",
    "        \n",
    "def read(driver, hops, X, y, edge_index, random_sample_size= 1000):\n",
    "    overall_run_time = 0     \n",
    "    test_time = 0     \n",
    "    with driver.session(database = \"neo4j\") as session:\n",
    "        np.random.seed(42)\n",
    "        seed_node_ids = np.random.choice(np.arange(X_and_y.shape[0]), size = random_sample_size, replace = False)\n",
    "        for seed_node_id in tqdm(seed_node_ids):\n",
    "            start = time.time()\n",
    "            subgraph_query = f\"\"\"\n",
    "                MATCH (t {{id: $seed_node_id}})\n",
    "                MATCH (s)-[r*0..{hops}]->(t)\n",
    "                UNWIND r AS edge\n",
    "                WITH t, edge\n",
    "                WITH \n",
    "                  collect(DISTINCT [startNode(edge).id, endNode(edge).id]) AS edges,\n",
    "                  collect(DISTINCT startNode(edge)) AS startNodes,\n",
    "                  t AS endNode\n",
    "                UNWIND (startNodes + [endNode]) AS node\n",
    "                WITH edges, COLLECT(DISTINCT node) AS uniqueNodes\n",
    "                UNWIND uniqueNodes AS node\n",
    "                WITH edges, node, node.features AS nodeFeatures\n",
    "                ORDER BY node.id\n",
    "                RETURN \n",
    "                  edges,\n",
    "                  collect(node.id) AS idCollection,\n",
    "                  collect(node.label) AS labels,\n",
    "                  collect(nodeFeatures) AS features\n",
    "                \"\"\"\n",
    "            results = session.run(subgraph_query, seed_node_id = seed_node_id)\n",
    "            res_df = results.to_df()\n",
    "            if res_df.empty: continue\n",
    "            subgraph_edge_index = np.array(res_df[\"edges\"][0]).transpose()        \n",
    "            node_ids = np.array(res_df[\"idCollection\"][0])\n",
    "            _, cols_source = np.nonzero((subgraph_edge_index[0] == node_ids[:, None]).transpose())\n",
    "            _, cols_target = np.nonzero((subgraph_edge_index[1] == node_ids[:, None]).transpose())\n",
    "            \n",
    "            remapped_edge_index = np.concatenate([np.expand_dims(cols_source, axis = 0), np.expand_dims(cols_target, axis = 0)], axis = 0)\n",
    "            features =np.array(res_df[\"features\"][0])\n",
    "            labels = np.array(res_df[\"labels\"][0])       \n",
    "            overall_run_time += time.time() - start    \n",
    "            \n",
    "            ## Testing\n",
    "            start = time.time()\n",
    "            remapped_edge_index_test, features_test, labels_test, _ = get_subgraph_from_in_mem_graph_optimized(X, y, seed_node_id, edge_index, hops)        \n",
    "            test_time += time.time() - start\n",
    "            assert (sort_edge_index(torch.from_numpy(remapped_edge_index_test)) == sort_edge_index(torch.from_numpy(remapped_edge_index))).sum() / (remapped_edge_index_test.shape[-1] * remapped_edge_index_test.shape[0]), \"Edges doesnt match\"\n",
    "            assert np.allclose(labels_test, labels), \"Labels does not match\"\n",
    "            assert np.allclose(features, features_test), \"features doe not match\"\n",
    "        return overall_run_time, test_time\n",
    "\n",
    "def update_nodes(driver, X_and_y, X, y, random_sample_size = 1000):\n",
    "    with driver.session(database = \"neo4j\") as session:\n",
    "        np.random.seed(42)\n",
    "        node_ids = np.random.choice(np.arange(X_and_y.shape[0]), size = random_sample_size, replace = False).tolist()\n",
    "        start = time.time()\n",
    "        for node_id in tqdm(node_ids):\n",
    "            np.random.seed(42)\n",
    "            features = np.random.rand(X.shape[-1]).tolist()  # Random values between 0 and 1\n",
    "            labels = np.random.randint(0, 2, size=y.shape[-1]).tolist()  # Adjust label range as needed            \n",
    "            cypher_query = \"\"\"\n",
    "            MATCH (n:Node {id: $node_id})\n",
    "            SET n.features = $features, n.label = $labels\n",
    "            \"\"\"\n",
    "            session.run(cypher_query, node_id=node_id, features=features, labels=labels)\n",
    "        return time.time() - start\n",
    "\n",
    "def update_edges(driver, edge_index, X_and_y, random_sample_size = 1000):\n",
    "    np.random.seed(42)\n",
    "    edge_ids = np.random.choice(np.arange(edge_index.shape[-1]),\n",
    "                                size=random_sample_size,\n",
    "                                replace=False).tolist()\n",
    "    selected_edges = edge_index[:, edge_ids].transpose(-1, 0)\n",
    "    with driver.session() as session:\n",
    "        start = time.time()\n",
    "        for selected_edge in tqdm(selected_edges, desc=\"Updating edges\"):\n",
    "            source_id, target_id = selected_edge\n",
    "            np.random.seed(42)\n",
    "            new_target_id = int(np.random.randint(0, X_and_y.shape[0]))\n",
    "            \n",
    "            # Cypher query to update the target_id of the relationship that matches both source_id and target_id.\n",
    "            cypher_query = \"\"\"\n",
    "            MATCH (s {id: $source_id}), (t {id: $target_id}), (new_t {id: $new_target_id})\n",
    "            MATCH (s)-[r:connects]->(t)\n",
    "            DELETE r\n",
    "            CREATE (s)-[new_r:connects]->(new_t)\n",
    "            \"\"\"\n",
    "            session.run(cypher_query,\n",
    "                        source_id=int(source_id),\n",
    "                        target_id=int(target_id),\n",
    "                        new_target_id=new_target_id)\n",
    "    \n",
    "    return time.time() - start\n",
    "    \n",
    "\n",
    "def delete(driver):\n",
    "    start = time.time()\n",
    "    driver.execute_query(\"MATCH (n) DETACH DELETE(n)\")\n",
    "    return time.time() - start"
   ]
  },
  {
   "cell_type": "code",
   "execution_count": 29,
   "id": "767ac54d-55b5-4b53-8a9c-7f9e551a0eff",
   "metadata": {},
   "outputs": [
    {
     "data": {
      "application/vnd.jupyter.widget-view+json": {
       "model_id": "b295456240ac45edadeaa244bdf1cdef",
       "version_major": 2,
       "version_minor": 0
      },
      "text/plain": [
       "  0%|          | 0/3 [00:00<?, ?it/s]"
      ]
     },
     "metadata": {},
     "output_type": "display_data"
    },
    {
     "data": {
      "application/vnd.jupyter.widget-view+json": {
       "model_id": "0359d76e796d462ea3c971140f500338",
       "version_major": 2,
       "version_minor": 0
      },
      "text/plain": [
       "  0%|          | 0/4 [00:00<?, ?it/s]"
      ]
     },
     "metadata": {},
     "output_type": "display_data"
    },
    {
     "data": {
      "application/vnd.jupyter.widget-view+json": {
       "model_id": "deb8aa6ec1864f858a8eb511083dbc7e",
       "version_major": 2,
       "version_minor": 0
      },
      "text/plain": [
       "  0%|          | 0/3 [00:00<?, ?it/s]"
      ]
     },
     "metadata": {},
     "output_type": "display_data"
    },
    {
     "data": {
      "application/vnd.jupyter.widget-view+json": {
       "model_id": "370c90be97c54dcea00639f07a8b62d3",
       "version_major": 2,
       "version_minor": 0
      },
      "text/plain": [
       "  0%|          | 0/1000 [00:00<?, ?it/s]"
      ]
     },
     "metadata": {},
     "output_type": "display_data"
    },
    {
     "data": {
      "application/vnd.jupyter.widget-view+json": {
       "model_id": "b46020cd91924bd89412694bbdb817eb",
       "version_major": 2,
       "version_minor": 0
      },
      "text/plain": [
       "  0%|          | 0/1000 [00:00<?, ?it/s]"
      ]
     },
     "metadata": {},
     "output_type": "display_data"
    },
    {
     "data": {
      "application/vnd.jupyter.widget-view+json": {
       "model_id": "45fa0371f2f743eea033d235eefb240f",
       "version_major": 2,
       "version_minor": 0
      },
      "text/plain": [
       "  0%|          | 0/1000 [00:00<?, ?it/s]"
      ]
     },
     "metadata": {},
     "output_type": "display_data"
    },
    {
     "data": {
      "application/vnd.jupyter.widget-view+json": {
       "model_id": "5ebec4a08d32492d87aa26b480286203",
       "version_major": 2,
       "version_minor": 0
      },
      "text/plain": [
       "  0%|          | 0/1000 [00:00<?, ?it/s]"
      ]
     },
     "metadata": {},
     "output_type": "display_data"
    },
    {
     "data": {
      "application/vnd.jupyter.widget-view+json": {
       "model_id": "0ccbac75ccce4c9e9c1d478973f478cf",
       "version_major": 2,
       "version_minor": 0
      },
      "text/plain": [
       "Updating edges:   0%|          | 0/1000 [00:00<?, ?it/s]"
      ]
     },
     "metadata": {},
     "output_type": "display_data"
    },
    {
     "name": "stderr",
     "output_type": "stream",
     "text": [
      "/tmp/ipykernel_3539381/2308723421.py:36: FutureWarning: The behavior of DataFrame concatenation with empty or all-NA entries is deprecated. In a future version, this will no longer exclude empty or all-NA columns when determining the result dtypes. To retain the old behavior, exclude the relevant entries before the concat operation.\n",
      "  output_df = pd.concat((output_df, new_row), ignore_index=True)\n"
     ]
    },
    {
     "data": {
      "application/vnd.jupyter.widget-view+json": {
       "model_id": "1d547ff4ffb340368c5520c4019a0441",
       "version_major": 2,
       "version_minor": 0
      },
      "text/plain": [
       "  0%|          | 0/3 [00:00<?, ?it/s]"
      ]
     },
     "metadata": {},
     "output_type": "display_data"
    },
    {
     "data": {
      "application/vnd.jupyter.widget-view+json": {
       "model_id": "bc029434b2d94423be94c9ac306f2bb3",
       "version_major": 2,
       "version_minor": 0
      },
      "text/plain": [
       "  0%|          | 0/1000 [00:00<?, ?it/s]"
      ]
     },
     "metadata": {},
     "output_type": "display_data"
    },
    {
     "data": {
      "application/vnd.jupyter.widget-view+json": {
       "model_id": "0b8ad17f69d542dfa463b3aa52ec1f6a",
       "version_major": 2,
       "version_minor": 0
      },
      "text/plain": [
       "  0%|          | 0/1000 [00:00<?, ?it/s]"
      ]
     },
     "metadata": {},
     "output_type": "display_data"
    },
    {
     "data": {
      "application/vnd.jupyter.widget-view+json": {
       "model_id": "a3f6e101a3df412aaf8135df4056c01b",
       "version_major": 2,
       "version_minor": 0
      },
      "text/plain": [
       "  0%|          | 0/1000 [00:00<?, ?it/s]"
      ]
     },
     "metadata": {},
     "output_type": "display_data"
    },
    {
     "data": {
      "application/vnd.jupyter.widget-view+json": {
       "model_id": "0aee075d67b14268aacd5b527f5802e3",
       "version_major": 2,
       "version_minor": 0
      },
      "text/plain": [
       "  0%|          | 0/1000 [00:00<?, ?it/s]"
      ]
     },
     "metadata": {},
     "output_type": "display_data"
    },
    {
     "data": {
      "application/vnd.jupyter.widget-view+json": {
       "model_id": "5894d1b9289f4712b653c809c9fffb33",
       "version_major": 2,
       "version_minor": 0
      },
      "text/plain": [
       "Updating edges:   0%|          | 0/1000 [00:00<?, ?it/s]"
      ]
     },
     "metadata": {},
     "output_type": "display_data"
    },
    {
     "data": {
      "application/vnd.jupyter.widget-view+json": {
       "model_id": "3c55c88392f14811a43999ab6135563d",
       "version_major": 2,
       "version_minor": 0
      },
      "text/plain": [
       "  0%|          | 0/3 [00:00<?, ?it/s]"
      ]
     },
     "metadata": {},
     "output_type": "display_data"
    },
    {
     "data": {
      "application/vnd.jupyter.widget-view+json": {
       "model_id": "41181beb30c04477bf925fb7009d25ef",
       "version_major": 2,
       "version_minor": 0
      },
      "text/plain": [
       "  0%|          | 0/1000 [00:00<?, ?it/s]"
      ]
     },
     "metadata": {},
     "output_type": "display_data"
    },
    {
     "data": {
      "application/vnd.jupyter.widget-view+json": {
       "model_id": "47b6cad43feb455098cbd73ec9c749ab",
       "version_major": 2,
       "version_minor": 0
      },
      "text/plain": [
       "  0%|          | 0/1000 [00:00<?, ?it/s]"
      ]
     },
     "metadata": {},
     "output_type": "display_data"
    },
    {
     "data": {
      "application/vnd.jupyter.widget-view+json": {
       "model_id": "56920030bd9c405ab870ddc441696ecf",
       "version_major": 2,
       "version_minor": 0
      },
      "text/plain": [
       "  0%|          | 0/1000 [00:00<?, ?it/s]"
      ]
     },
     "metadata": {},
     "output_type": "display_data"
    },
    {
     "data": {
      "application/vnd.jupyter.widget-view+json": {
       "model_id": "6130cf9eaaea42a0b9fe36669a260cb2",
       "version_major": 2,
       "version_minor": 0
      },
      "text/plain": [
       "  0%|          | 0/1000 [00:00<?, ?it/s]"
      ]
     },
     "metadata": {},
     "output_type": "display_data"
    },
    {
     "data": {
      "application/vnd.jupyter.widget-view+json": {
       "model_id": "1189bd34d89c43d8bd3593a03bfe799d",
       "version_major": 2,
       "version_minor": 0
      },
      "text/plain": [
       "Updating edges:   0%|          | 0/1000 [00:00<?, ?it/s]"
      ]
     },
     "metadata": {},
     "output_type": "display_data"
    },
    {
     "data": {
      "application/vnd.jupyter.widget-view+json": {
       "model_id": "70a2b6f8364542b7a93b60bdd5e513c9",
       "version_major": 2,
       "version_minor": 0
      },
      "text/plain": [
       "  0%|          | 0/3 [00:00<?, ?it/s]"
      ]
     },
     "metadata": {},
     "output_type": "display_data"
    },
    {
     "data": {
      "application/vnd.jupyter.widget-view+json": {
       "model_id": "fd0c673041e44dd5b11f8c4a2d031e16",
       "version_major": 2,
       "version_minor": 0
      },
      "text/plain": [
       "  0%|          | 0/1000 [00:00<?, ?it/s]"
      ]
     },
     "metadata": {},
     "output_type": "display_data"
    },
    {
     "data": {
      "application/vnd.jupyter.widget-view+json": {
       "model_id": "1f5d8ecd1a49470aa961d52f97d79d10",
       "version_major": 2,
       "version_minor": 0
      },
      "text/plain": [
       "  0%|          | 0/1000 [00:00<?, ?it/s]"
      ]
     },
     "metadata": {},
     "output_type": "display_data"
    },
    {
     "data": {
      "application/vnd.jupyter.widget-view+json": {
       "model_id": "7c34d59f367249c9a7589c2cd721a3b9",
       "version_major": 2,
       "version_minor": 0
      },
      "text/plain": [
       "  0%|          | 0/1000 [00:00<?, ?it/s]"
      ]
     },
     "metadata": {},
     "output_type": "display_data"
    },
    {
     "data": {
      "application/vnd.jupyter.widget-view+json": {
       "model_id": "05edbd74020443568b116c4b4ea7b818",
       "version_major": 2,
       "version_minor": 0
      },
      "text/plain": [
       "  0%|          | 0/1000 [00:00<?, ?it/s]"
      ]
     },
     "metadata": {},
     "output_type": "display_data"
    },
    {
     "data": {
      "application/vnd.jupyter.widget-view+json": {
       "model_id": "037d24d12b23444aa2fbc331a43c7635",
       "version_major": 2,
       "version_minor": 0
      },
      "text/plain": [
       "Updating edges:   0%|          | 0/1000 [00:00<?, ?it/s]"
      ]
     },
     "metadata": {},
     "output_type": "display_data"
    },
    {
     "data": {
      "application/vnd.jupyter.widget-view+json": {
       "model_id": "b75ddf45fa8045f3945dd1598fd2b5b1",
       "version_major": 2,
       "version_minor": 0
      },
      "text/plain": [
       "  0%|          | 0/4 [00:00<?, ?it/s]"
      ]
     },
     "metadata": {},
     "output_type": "display_data"
    },
    {
     "data": {
      "application/vnd.jupyter.widget-view+json": {
       "model_id": "12d956b3d28c4b3d834d7c98dfd60190",
       "version_major": 2,
       "version_minor": 0
      },
      "text/plain": [
       "  0%|          | 0/3 [00:00<?, ?it/s]"
      ]
     },
     "metadata": {},
     "output_type": "display_data"
    },
    {
     "data": {
      "application/vnd.jupyter.widget-view+json": {
       "model_id": "0f2a3ff55f5f4a64a41e58f3deda21fb",
       "version_major": 2,
       "version_minor": 0
      },
      "text/plain": [
       "  0%|          | 0/1000 [00:00<?, ?it/s]"
      ]
     },
     "metadata": {},
     "output_type": "display_data"
    },
    {
     "data": {
      "application/vnd.jupyter.widget-view+json": {
       "model_id": "5380167b96cd4a48945dc92c9acab0bf",
       "version_major": 2,
       "version_minor": 0
      },
      "text/plain": [
       "  0%|          | 0/1000 [00:00<?, ?it/s]"
      ]
     },
     "metadata": {},
     "output_type": "display_data"
    },
    {
     "data": {
      "application/vnd.jupyter.widget-view+json": {
       "model_id": "56d5b410f7494adbb41d83e848c28e86",
       "version_major": 2,
       "version_minor": 0
      },
      "text/plain": [
       "  0%|          | 0/1000 [00:00<?, ?it/s]"
      ]
     },
     "metadata": {},
     "output_type": "display_data"
    },
    {
     "data": {
      "application/vnd.jupyter.widget-view+json": {
       "model_id": "b4a18710102c4174a0d7f79d08de2d00",
       "version_major": 2,
       "version_minor": 0
      },
      "text/plain": [
       "  0%|          | 0/1000 [00:00<?, ?it/s]"
      ]
     },
     "metadata": {},
     "output_type": "display_data"
    },
    {
     "data": {
      "application/vnd.jupyter.widget-view+json": {
       "model_id": "aa58fae0a545429ea730625643810ad7",
       "version_major": 2,
       "version_minor": 0
      },
      "text/plain": [
       "Updating edges:   0%|          | 0/1000 [00:00<?, ?it/s]"
      ]
     },
     "metadata": {},
     "output_type": "display_data"
    },
    {
     "data": {
      "application/vnd.jupyter.widget-view+json": {
       "model_id": "1bf38557491b461ba80e69ba1017491f",
       "version_major": 2,
       "version_minor": 0
      },
      "text/plain": [
       "  0%|          | 0/3 [00:00<?, ?it/s]"
      ]
     },
     "metadata": {},
     "output_type": "display_data"
    },
    {
     "data": {
      "application/vnd.jupyter.widget-view+json": {
       "model_id": "080ca3b361f142d0b24967025416fbe3",
       "version_major": 2,
       "version_minor": 0
      },
      "text/plain": [
       "  0%|          | 0/1000 [00:00<?, ?it/s]"
      ]
     },
     "metadata": {},
     "output_type": "display_data"
    },
    {
     "data": {
      "application/vnd.jupyter.widget-view+json": {
       "model_id": "d1b4e8bd498a4dd4a0b8c3b9b4ae712a",
       "version_major": 2,
       "version_minor": 0
      },
      "text/plain": [
       "  0%|          | 0/1000 [00:00<?, ?it/s]"
      ]
     },
     "metadata": {},
     "output_type": "display_data"
    },
    {
     "data": {
      "application/vnd.jupyter.widget-view+json": {
       "model_id": "894ff050a5054c59968faabd2c4e363c",
       "version_major": 2,
       "version_minor": 0
      },
      "text/plain": [
       "  0%|          | 0/1000 [00:00<?, ?it/s]"
      ]
     },
     "metadata": {},
     "output_type": "display_data"
    },
    {
     "data": {
      "application/vnd.jupyter.widget-view+json": {
       "model_id": "9afff5fdfb254eb38bfdb4247bf1062c",
       "version_major": 2,
       "version_minor": 0
      },
      "text/plain": [
       "  0%|          | 0/1000 [00:00<?, ?it/s]"
      ]
     },
     "metadata": {},
     "output_type": "display_data"
    },
    {
     "data": {
      "application/vnd.jupyter.widget-view+json": {
       "model_id": "a7977a9dd521459c9200d64d5cd94ed5",
       "version_major": 2,
       "version_minor": 0
      },
      "text/plain": [
       "Updating edges:   0%|          | 0/1000 [00:00<?, ?it/s]"
      ]
     },
     "metadata": {},
     "output_type": "display_data"
    },
    {
     "data": {
      "application/vnd.jupyter.widget-view+json": {
       "model_id": "f6426d72c7d44024a918c5c820639912",
       "version_major": 2,
       "version_minor": 0
      },
      "text/plain": [
       "  0%|          | 0/3 [00:00<?, ?it/s]"
      ]
     },
     "metadata": {},
     "output_type": "display_data"
    },
    {
     "data": {
      "application/vnd.jupyter.widget-view+json": {
       "model_id": "16b7aafd254c4476aaf53f4df47d46db",
       "version_major": 2,
       "version_minor": 0
      },
      "text/plain": [
       "  0%|          | 0/1000 [00:00<?, ?it/s]"
      ]
     },
     "metadata": {},
     "output_type": "display_data"
    },
    {
     "data": {
      "application/vnd.jupyter.widget-view+json": {
       "model_id": "12871f5843354d6ea1bfd76e38ed5aed",
       "version_major": 2,
       "version_minor": 0
      },
      "text/plain": [
       "  0%|          | 0/1000 [00:00<?, ?it/s]"
      ]
     },
     "metadata": {},
     "output_type": "display_data"
    },
    {
     "data": {
      "application/vnd.jupyter.widget-view+json": {
       "model_id": "e47279ed96ce4960887cc7115b171aee",
       "version_major": 2,
       "version_minor": 0
      },
      "text/plain": [
       "  0%|          | 0/1000 [00:00<?, ?it/s]"
      ]
     },
     "metadata": {},
     "output_type": "display_data"
    },
    {
     "data": {
      "application/vnd.jupyter.widget-view+json": {
       "model_id": "041b2a81552543799ee4dd520b1c244b",
       "version_major": 2,
       "version_minor": 0
      },
      "text/plain": [
       "  0%|          | 0/1000 [00:00<?, ?it/s]"
      ]
     },
     "metadata": {},
     "output_type": "display_data"
    },
    {
     "data": {
      "application/vnd.jupyter.widget-view+json": {
       "model_id": "648331810e464404b4d824a229ac98b5",
       "version_major": 2,
       "version_minor": 0
      },
      "text/plain": [
       "Updating edges:   0%|          | 0/1000 [00:00<?, ?it/s]"
      ]
     },
     "metadata": {},
     "output_type": "display_data"
    },
    {
     "data": {
      "application/vnd.jupyter.widget-view+json": {
       "model_id": "4b092768264d4b1d824e7e29a2b2ee40",
       "version_major": 2,
       "version_minor": 0
      },
      "text/plain": [
       "  0%|          | 0/3 [00:00<?, ?it/s]"
      ]
     },
     "metadata": {},
     "output_type": "display_data"
    },
    {
     "data": {
      "application/vnd.jupyter.widget-view+json": {
       "model_id": "97def7862dd84d4b97efc4eba8664bd6",
       "version_major": 2,
       "version_minor": 0
      },
      "text/plain": [
       "  0%|          | 0/1000 [00:00<?, ?it/s]"
      ]
     },
     "metadata": {},
     "output_type": "display_data"
    },
    {
     "data": {
      "application/vnd.jupyter.widget-view+json": {
       "model_id": "bd38a4ed09ab4145b70561c2a820b113",
       "version_major": 2,
       "version_minor": 0
      },
      "text/plain": [
       "  0%|          | 0/1000 [00:00<?, ?it/s]"
      ]
     },
     "metadata": {},
     "output_type": "display_data"
    },
    {
     "data": {
      "application/vnd.jupyter.widget-view+json": {
       "model_id": "4dbcb59cdf0f404d962f84cda4cd2e29",
       "version_major": 2,
       "version_minor": 0
      },
      "text/plain": [
       "  0%|          | 0/1000 [00:00<?, ?it/s]"
      ]
     },
     "metadata": {},
     "output_type": "display_data"
    },
    {
     "data": {
      "application/vnd.jupyter.widget-view+json": {
       "model_id": "210955cebba646f1a8ba0324c829b3f6",
       "version_major": 2,
       "version_minor": 0
      },
      "text/plain": [
       "  0%|          | 0/1000 [00:00<?, ?it/s]"
      ]
     },
     "metadata": {},
     "output_type": "display_data"
    },
    {
     "data": {
      "application/vnd.jupyter.widget-view+json": {
       "model_id": "092991927f814b76a520e73233c0a61e",
       "version_major": 2,
       "version_minor": 0
      },
      "text/plain": [
       "Updating edges:   0%|          | 0/1000 [00:00<?, ?it/s]"
      ]
     },
     "metadata": {},
     "output_type": "display_data"
    },
    {
     "data": {
      "application/vnd.jupyter.widget-view+json": {
       "model_id": "1edf676f4de7444aafe9f211dce68161",
       "version_major": 2,
       "version_minor": 0
      },
      "text/plain": [
       "  0%|          | 0/4 [00:00<?, ?it/s]"
      ]
     },
     "metadata": {},
     "output_type": "display_data"
    },
    {
     "data": {
      "application/vnd.jupyter.widget-view+json": {
       "model_id": "66bf6fc978fc410e8077a7868619298d",
       "version_major": 2,
       "version_minor": 0
      },
      "text/plain": [
       "  0%|          | 0/3 [00:00<?, ?it/s]"
      ]
     },
     "metadata": {},
     "output_type": "display_data"
    },
    {
     "data": {
      "application/vnd.jupyter.widget-view+json": {
       "model_id": "7d58deb1763c4e0e89d0ff4c9c25e9b9",
       "version_major": 2,
       "version_minor": 0
      },
      "text/plain": [
       "  0%|          | 0/1000 [00:00<?, ?it/s]"
      ]
     },
     "metadata": {},
     "output_type": "display_data"
    },
    {
     "data": {
      "application/vnd.jupyter.widget-view+json": {
       "model_id": "4823ad69a690470b97538790eeca98bb",
       "version_major": 2,
       "version_minor": 0
      },
      "text/plain": [
       "  0%|          | 0/1000 [00:00<?, ?it/s]"
      ]
     },
     "metadata": {},
     "output_type": "display_data"
    },
    {
     "data": {
      "application/vnd.jupyter.widget-view+json": {
       "model_id": "e79de9ca7c394807bc6c67bff7ec8f78",
       "version_major": 2,
       "version_minor": 0
      },
      "text/plain": [
       "  0%|          | 0/1000 [00:00<?, ?it/s]"
      ]
     },
     "metadata": {},
     "output_type": "display_data"
    },
    {
     "data": {
      "application/vnd.jupyter.widget-view+json": {
       "model_id": "76479c7471c94721ae8a3a7f340e86bd",
       "version_major": 2,
       "version_minor": 0
      },
      "text/plain": [
       "  0%|          | 0/1000 [00:00<?, ?it/s]"
      ]
     },
     "metadata": {},
     "output_type": "display_data"
    },
    {
     "data": {
      "application/vnd.jupyter.widget-view+json": {
       "model_id": "2094b7ee962e4d80a7c4998e2c709cdf",
       "version_major": 2,
       "version_minor": 0
      },
      "text/plain": [
       "Updating edges:   0%|          | 0/1000 [00:00<?, ?it/s]"
      ]
     },
     "metadata": {},
     "output_type": "display_data"
    },
    {
     "data": {
      "application/vnd.jupyter.widget-view+json": {
       "model_id": "d2e4016eb23946b598c06cdb51ba8ee8",
       "version_major": 2,
       "version_minor": 0
      },
      "text/plain": [
       "  0%|          | 0/3 [00:00<?, ?it/s]"
      ]
     },
     "metadata": {},
     "output_type": "display_data"
    },
    {
     "data": {
      "application/vnd.jupyter.widget-view+json": {
       "model_id": "2abb4e866b2d4b23ad570eba1c8ba714",
       "version_major": 2,
       "version_minor": 0
      },
      "text/plain": [
       "  0%|          | 0/1000 [00:00<?, ?it/s]"
      ]
     },
     "metadata": {},
     "output_type": "display_data"
    },
    {
     "data": {
      "application/vnd.jupyter.widget-view+json": {
       "model_id": "994e717296f24752867c94c952b9167b",
       "version_major": 2,
       "version_minor": 0
      },
      "text/plain": [
       "  0%|          | 0/1000 [00:00<?, ?it/s]"
      ]
     },
     "metadata": {},
     "output_type": "display_data"
    },
    {
     "data": {
      "application/vnd.jupyter.widget-view+json": {
       "model_id": "d3755d47fa5e464b8b91e7d47a548bdc",
       "version_major": 2,
       "version_minor": 0
      },
      "text/plain": [
       "  0%|          | 0/1000 [00:00<?, ?it/s]"
      ]
     },
     "metadata": {},
     "output_type": "display_data"
    },
    {
     "data": {
      "application/vnd.jupyter.widget-view+json": {
       "model_id": "96d6181e807842e68c9dd72e719a903c",
       "version_major": 2,
       "version_minor": 0
      },
      "text/plain": [
       "  0%|          | 0/1000 [00:00<?, ?it/s]"
      ]
     },
     "metadata": {},
     "output_type": "display_data"
    },
    {
     "data": {
      "application/vnd.jupyter.widget-view+json": {
       "model_id": "c38d17588eac471db2172c1fab82e84b",
       "version_major": 2,
       "version_minor": 0
      },
      "text/plain": [
       "Updating edges:   0%|          | 0/1000 [00:00<?, ?it/s]"
      ]
     },
     "metadata": {},
     "output_type": "display_data"
    },
    {
     "data": {
      "application/vnd.jupyter.widget-view+json": {
       "model_id": "3274e35ea39f4e328ca40120fe262630",
       "version_major": 2,
       "version_minor": 0
      },
      "text/plain": [
       "  0%|          | 0/3 [00:00<?, ?it/s]"
      ]
     },
     "metadata": {},
     "output_type": "display_data"
    },
    {
     "data": {
      "application/vnd.jupyter.widget-view+json": {
       "model_id": "70f1fda28b8440cc86c7d39db41196c1",
       "version_major": 2,
       "version_minor": 0
      },
      "text/plain": [
       "  0%|          | 0/1000 [00:00<?, ?it/s]"
      ]
     },
     "metadata": {},
     "output_type": "display_data"
    },
    {
     "data": {
      "application/vnd.jupyter.widget-view+json": {
       "model_id": "794bb67c77994f88a4a5442c3f1f0074",
       "version_major": 2,
       "version_minor": 0
      },
      "text/plain": [
       "  0%|          | 0/1000 [00:00<?, ?it/s]"
      ]
     },
     "metadata": {},
     "output_type": "display_data"
    },
    {
     "data": {
      "application/vnd.jupyter.widget-view+json": {
       "model_id": "ca397813c265419b88265fb9dce493ec",
       "version_major": 2,
       "version_minor": 0
      },
      "text/plain": [
       "  0%|          | 0/1000 [00:00<?, ?it/s]"
      ]
     },
     "metadata": {},
     "output_type": "display_data"
    },
    {
     "data": {
      "application/vnd.jupyter.widget-view+json": {
       "model_id": "9e11218e6f7c4910b16d2d858d0acdea",
       "version_major": 2,
       "version_minor": 0
      },
      "text/plain": [
       "  0%|          | 0/1000 [00:00<?, ?it/s]"
      ]
     },
     "metadata": {},
     "output_type": "display_data"
    },
    {
     "data": {
      "application/vnd.jupyter.widget-view+json": {
       "model_id": "e85afcd9e7314e14b3bda152e9d5b7c1",
       "version_major": 2,
       "version_minor": 0
      },
      "text/plain": [
       "Updating edges:   0%|          | 0/1000 [00:00<?, ?it/s]"
      ]
     },
     "metadata": {},
     "output_type": "display_data"
    },
    {
     "data": {
      "application/vnd.jupyter.widget-view+json": {
       "model_id": "cd43f1210e4f4b90974763209fceed2e",
       "version_major": 2,
       "version_minor": 0
      },
      "text/plain": [
       "  0%|          | 0/3 [00:00<?, ?it/s]"
      ]
     },
     "metadata": {},
     "output_type": "display_data"
    },
    {
     "data": {
      "application/vnd.jupyter.widget-view+json": {
       "model_id": "162302c7ad6040d98ca2144676304e6d",
       "version_major": 2,
       "version_minor": 0
      },
      "text/plain": [
       "  0%|          | 0/1000 [00:00<?, ?it/s]"
      ]
     },
     "metadata": {},
     "output_type": "display_data"
    },
    {
     "data": {
      "application/vnd.jupyter.widget-view+json": {
       "model_id": "9d5cad006a0b44f194b17439735429aa",
       "version_major": 2,
       "version_minor": 0
      },
      "text/plain": [
       "  0%|          | 0/1000 [00:00<?, ?it/s]"
      ]
     },
     "metadata": {},
     "output_type": "display_data"
    },
    {
     "data": {
      "application/vnd.jupyter.widget-view+json": {
       "model_id": "2760ce58a1984cb38cc28bb964bb0fac",
       "version_major": 2,
       "version_minor": 0
      },
      "text/plain": [
       "  0%|          | 0/1000 [00:00<?, ?it/s]"
      ]
     },
     "metadata": {},
     "output_type": "display_data"
    },
    {
     "data": {
      "application/vnd.jupyter.widget-view+json": {
       "model_id": "63c538a9c95344dda26301d718f38437",
       "version_major": 2,
       "version_minor": 0
      },
      "text/plain": [
       "  0%|          | 0/1000 [00:00<?, ?it/s]"
      ]
     },
     "metadata": {},
     "output_type": "display_data"
    },
    {
     "data": {
      "application/vnd.jupyter.widget-view+json": {
       "model_id": "e790fbc3a866451797398015dc0fdf1b",
       "version_major": 2,
       "version_minor": 0
      },
      "text/plain": [
       "Updating edges:   0%|          | 0/1000 [00:00<?, ?it/s]"
      ]
     },
     "metadata": {},
     "output_type": "display_data"
    }
   ],
   "source": [
    "output_df = pd.DataFrame(columns = [\"name\", \"create\", \"read\", \"read_mem\", \"update_nodes\", \"update_edges\", \"delete\"])\n",
    "\n",
    "for num_nodes in tqdm([1_000, 10_000, 100_000]):\n",
    "    for num_edges in tqdm([\"5_edges\", \"10_edges\", \"20_edges\", \"scale_free\"]):\n",
    "        feature_file_name = f\"X_{str(num_nodes)}_nodes_{num_edges}.csv\"\n",
    "        label_file_name = f\"y_{str(num_nodes)}_nodes_{num_edges}.csv\"\n",
    "        edge_file_name = f\"edge_index_{str(num_nodes)}_nodes_{num_edges}.csv\"\n",
    "        assert os.path.exists(f\"syn_data/{feature_file_name}\"), \"Feature file does not exist\"\n",
    "        assert os.path.exists(f\"syn_data/{label_file_name}\"), \"Label file does not exist\"\n",
    "        assert os.path.exists(f\"syn_data/{edge_file_name}\"), \"Edge file does not exist\"\n",
    "        \n",
    "        X = pd.read_csv(f\"syn_data/{feature_file_name}\")\n",
    "        y = pd.read_csv(f\"syn_data/{label_file_name}\")\n",
    "        edges = pd.read_csv(f\"syn_data/{edge_file_name}\")\n",
    "        edges.columns = [\"source_id\", \"target_id\"]\n",
    "        edge_index = edges.values.transpose(-1, 0)\n",
    "        node_file_name = f\"X_and_y_{str(num_nodes)}_nodes_{num_edges}_neo4j.csv\"\n",
    "        if not os.path.exists(f\"syn_data/{node_file_name}\"):\n",
    "            X_and_y = pd.DataFrame()\n",
    "            X_and_y[\"X\"] = X.apply(lambda row: [row[column] for column in X.columns], axis=1)\n",
    "            X_and_y[\"label\"] = y.apply(lambda row: [int(row[column]) for column in y.columns], axis=1)\n",
    "            X_and_y.to_csv(f\"syn_data/{node_file_name}\", sep = \",\", index = True)\n",
    "        else:\n",
    "            X_and_y = pd.read_csv(f\"syn_data/{node_file_name}\", sep = \",\", index_col = 0)\n",
    "        create_time = create(driver, node_file_name, edge_file_name)\n",
    "        read_times = dict()\n",
    "        read_times_mem = dict()\n",
    "        for hops in tqdm(range(1, 4)):\n",
    "            read_time, read_time_mem = read(driver, hops, X, y, edge_index, random_sample_size= 1000)\n",
    "            read_times[hops] = read_time\n",
    "            read_times_mem[hops] = read_time_mem\n",
    "        update_time_nodes = update_nodes(driver, X_and_y, X, y, random_sample_size = 1000)\n",
    "        update_time_edges = update_edges(driver, edge_index, X_and_y, random_sample_size = 1000)\n",
    "        delete_time = delete(driver)\n",
    "        new_row_dict = {\"name\": f\"{str(num_nodes)}_nodes_{num_edges}\", \"create\": create_time, \"update_nodes\": update_time_nodes, \"update_edges\": update_time_edges, \"delete\": delete_time}\n",
    "        for hops in read_times:\n",
    "            new_row_dict[f\"read_{hops}\"] = read_times[hops]\n",
    "            new_row_dict[f\"read_in_mem_{hops}\"] = read_times_mem[hops]\n",
    "        new_row = pd.DataFrame([new_row_dict])\n",
    "        output_df = pd.concat((output_df, new_row), ignore_index=True)"
   ]
  },
  {
   "cell_type": "code",
   "execution_count": 31,
   "id": "2cfe14dd-1923-4e61-9517-7b0af4e7120f",
   "metadata": {},
   "outputs": [],
   "source": [
    "output_df.to_csv(\"neo4j_first_res.csv\")"
   ]
  },
  {
   "cell_type": "code",
   "execution_count": 32,
   "id": "309bf4a3-73b8-40d6-842b-c4b52fd6c961",
   "metadata": {},
   "outputs": [
    {
     "data": {
      "text/html": [
       "<div>\n",
       "<style scoped>\n",
       "    .dataframe tbody tr th:only-of-type {\n",
       "        vertical-align: middle;\n",
       "    }\n",
       "\n",
       "    .dataframe tbody tr th {\n",
       "        vertical-align: top;\n",
       "    }\n",
       "\n",
       "    .dataframe thead th {\n",
       "        text-align: right;\n",
       "    }\n",
       "</style>\n",
       "<table border=\"1\" class=\"dataframe\">\n",
       "  <thead>\n",
       "    <tr style=\"text-align: right;\">\n",
       "      <th></th>\n",
       "      <th>name</th>\n",
       "      <th>create</th>\n",
       "      <th>read</th>\n",
       "      <th>read_mem</th>\n",
       "      <th>update_nodes</th>\n",
       "      <th>update_edges</th>\n",
       "      <th>delete</th>\n",
       "    </tr>\n",
       "  </thead>\n",
       "  <tbody>\n",
       "    <tr>\n",
       "      <th>0</th>\n",
       "      <td>1000_nodes_5_edges</td>\n",
       "      <td>0.334576</td>\n",
       "      <td>44.488036</td>\n",
       "      <td>1.197679</td>\n",
       "      <td>10.297816</td>\n",
       "      <td>18.144025</td>\n",
       "      <td>0.100055</td>\n",
       "    </tr>\n",
       "    <tr>\n",
       "      <th>1</th>\n",
       "      <td>1000_nodes_10_edges</td>\n",
       "      <td>0.544140</td>\n",
       "      <td>125.673550</td>\n",
       "      <td>1.183891</td>\n",
       "      <td>10.444046</td>\n",
       "      <td>18.287151</td>\n",
       "      <td>0.197124</td>\n",
       "    </tr>\n",
       "    <tr>\n",
       "      <th>2</th>\n",
       "      <td>1000_nodes_20_edges</td>\n",
       "      <td>0.516626</td>\n",
       "      <td>266.784588</td>\n",
       "      <td>2.175910</td>\n",
       "      <td>9.988736</td>\n",
       "      <td>17.376780</td>\n",
       "      <td>0.248055</td>\n",
       "    </tr>\n",
       "    <tr>\n",
       "      <th>3</th>\n",
       "      <td>1000_nodes_scale_free</td>\n",
       "      <td>0.171835</td>\n",
       "      <td>12.821134</td>\n",
       "      <td>0.403466</td>\n",
       "      <td>9.225158</td>\n",
       "      <td>16.314971</td>\n",
       "      <td>0.062260</td>\n",
       "    </tr>\n",
       "    <tr>\n",
       "      <th>4</th>\n",
       "      <td>10000_nodes_5_edges</td>\n",
       "      <td>2.176680</td>\n",
       "      <td>48.771195</td>\n",
       "      <td>2.879810</td>\n",
       "      <td>9.512965</td>\n",
       "      <td>21.926965</td>\n",
       "      <td>0.730787</td>\n",
       "    </tr>\n",
       "    <tr>\n",
       "      <th>5</th>\n",
       "      <td>10000_nodes_10_edges</td>\n",
       "      <td>2.998675</td>\n",
       "      <td>188.326851</td>\n",
       "      <td>3.944483</td>\n",
       "      <td>10.377921</td>\n",
       "      <td>19.426703</td>\n",
       "      <td>0.729021</td>\n",
       "    </tr>\n",
       "    <tr>\n",
       "      <th>6</th>\n",
       "      <td>10000_nodes_20_edges</td>\n",
       "      <td>4.020414</td>\n",
       "      <td>1141.811181</td>\n",
       "      <td>7.923205</td>\n",
       "      <td>9.078572</td>\n",
       "      <td>18.742524</td>\n",
       "      <td>2.118316</td>\n",
       "    </tr>\n",
       "    <tr>\n",
       "      <th>7</th>\n",
       "      <td>10000_nodes_scale_free</td>\n",
       "      <td>1.106992</td>\n",
       "      <td>65.087809</td>\n",
       "      <td>0.769648</td>\n",
       "      <td>8.351108</td>\n",
       "      <td>18.112133</td>\n",
       "      <td>0.256757</td>\n",
       "    </tr>\n",
       "    <tr>\n",
       "      <th>8</th>\n",
       "      <td>100000_nodes_5_edges</td>\n",
       "      <td>16.246277</td>\n",
       "      <td>70.256942</td>\n",
       "      <td>18.781849</td>\n",
       "      <td>9.334024</td>\n",
       "      <td>51.801995</td>\n",
       "      <td>5.609946</td>\n",
       "    </tr>\n",
       "    <tr>\n",
       "      <th>9</th>\n",
       "      <td>100000_nodes_10_edges</td>\n",
       "      <td>27.178283</td>\n",
       "      <td>215.028669</td>\n",
       "      <td>25.793967</td>\n",
       "      <td>10.242667</td>\n",
       "      <td>53.863213</td>\n",
       "      <td>8.649685</td>\n",
       "    </tr>\n",
       "    <tr>\n",
       "      <th>10</th>\n",
       "      <td>100000_nodes_20_edges</td>\n",
       "      <td>46.025219</td>\n",
       "      <td>1632.091245</td>\n",
       "      <td>50.493819</td>\n",
       "      <td>8.951270</td>\n",
       "      <td>54.906041</td>\n",
       "      <td>18.215935</td>\n",
       "    </tr>\n",
       "    <tr>\n",
       "      <th>11</th>\n",
       "      <td>100000_nodes_scale_free</td>\n",
       "      <td>7.231240</td>\n",
       "      <td>787.422238</td>\n",
       "      <td>2.920675</td>\n",
       "      <td>10.339806</td>\n",
       "      <td>54.879325</td>\n",
       "      <td>3.351483</td>\n",
       "    </tr>\n",
       "  </tbody>\n",
       "</table>\n",
       "</div>"
      ],
      "text/plain": [
       "                       name     create         read   read_mem  update_nodes  \\\n",
       "0        1000_nodes_5_edges   0.334576    44.488036   1.197679     10.297816   \n",
       "1       1000_nodes_10_edges   0.544140   125.673550   1.183891     10.444046   \n",
       "2       1000_nodes_20_edges   0.516626   266.784588   2.175910      9.988736   \n",
       "3     1000_nodes_scale_free   0.171835    12.821134   0.403466      9.225158   \n",
       "4       10000_nodes_5_edges   2.176680    48.771195   2.879810      9.512965   \n",
       "5      10000_nodes_10_edges   2.998675   188.326851   3.944483     10.377921   \n",
       "6      10000_nodes_20_edges   4.020414  1141.811181   7.923205      9.078572   \n",
       "7    10000_nodes_scale_free   1.106992    65.087809   0.769648      8.351108   \n",
       "8      100000_nodes_5_edges  16.246277    70.256942  18.781849      9.334024   \n",
       "9     100000_nodes_10_edges  27.178283   215.028669  25.793967     10.242667   \n",
       "10    100000_nodes_20_edges  46.025219  1632.091245  50.493819      8.951270   \n",
       "11  100000_nodes_scale_free   7.231240   787.422238   2.920675     10.339806   \n",
       "\n",
       "    update_edges     delete  \n",
       "0      18.144025   0.100055  \n",
       "1      18.287151   0.197124  \n",
       "2      17.376780   0.248055  \n",
       "3      16.314971   0.062260  \n",
       "4      21.926965   0.730787  \n",
       "5      19.426703   0.729021  \n",
       "6      18.742524   2.118316  \n",
       "7      18.112133   0.256757  \n",
       "8      51.801995   5.609946  \n",
       "9      53.863213   8.649685  \n",
       "10     54.906041  18.215935  \n",
       "11     54.879325   3.351483  "
      ]
     },
     "execution_count": 32,
     "metadata": {},
     "output_type": "execute_result"
    }
   ],
   "source": [
    "output_df"
   ]
  },
  {
   "cell_type": "code",
   "execution_count": null,
   "id": "58a6f312-6a9b-451f-8775-728a00bdb832",
   "metadata": {},
   "outputs": [],
   "source": []
  }
 ],
 "metadata": {
  "kernelspec": {
   "display_name": "Python 3 (ipykernel)",
   "language": "python",
   "name": "python3"
  },
  "language_info": {
   "codemirror_mode": {
    "name": "ipython",
    "version": 3
   },
   "file_extension": ".py",
   "mimetype": "text/x-python",
   "name": "python",
   "nbconvert_exporter": "python",
   "pygments_lexer": "ipython3",
   "version": "3.10.12"
  }
 },
 "nbformat": 4,
 "nbformat_minor": 5
}
