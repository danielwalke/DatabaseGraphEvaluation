{
 "cells": [
  {
   "cell_type": "code",
   "execution_count": 124,
   "id": "1b6b42e4-fd4e-454e-a694-734a24780d64",
   "metadata": {},
   "outputs": [],
   "source": [
    "import MySQLdb\n",
    "import numpy as np\n",
    "import pandas as pd\n",
    "from tqdm.notebook import tqdm\n",
    "import time\n",
    "import torch\n",
    "from torch_geometric.datasets import PPI\n",
    "from torch_geometric.loader import DataLoader\n",
    "from torch_geometric.utils import sort_edge_index\n",
    "import os\n",
    "import json"
   ]
  },
  {
   "cell_type": "code",
   "execution_count": 116,
   "id": "9ec89d6d-723d-4d1f-9860-cd39c296ce48",
   "metadata": {},
   "outputs": [],
   "source": [
    "edge_file_name = \"ppi_edge_index.csv\"\n",
    "node_file_name = \"ppi.csv\"\n",
    "X = pd.read_csv(f\"data/ppi_x.csv\")\n",
    "y = pd.read_csv(f\"data/ppi_y.csv\")\n",
    "edges = pd.read_csv(\"data/\" + edge_file_name)\n",
    "edges.columns = [\"source_id\", \"target_id\"]"
   ]
  },
  {
   "cell_type": "code",
   "execution_count": 117,
   "id": "bf397725-876e-44f4-afd0-2d8bac54afa0",
   "metadata": {},
   "outputs": [],
   "source": [
    "y.columns = [f\"y_{col}\" for col in y.columns]\n",
    "y = y.astype(np.int8)\n",
    "X_and_y = X.copy()\n",
    "X_and_y.columns = list(map(lambda col: f\"f_{col}\", X_and_y.columns))\n",
    "X_and_y = pd.concat((X_and_y, y), axis = 1)\n",
    "\n",
    "node_file_name = \"X_y_ppi_columns.csv\" ## Can use the same structure for all database when using column wise import\n",
    "X_and_y.to_csv(f\"syn_data/{node_file_name}\", sep = \",\", index = True)\n",
    "edges.to_csv(f\"syn_data/{edge_file_name}\", sep = \",\", index = False)\n",
    "edge_index = edges.values.transpose(-1, 0)"
   ]
  },
  {
   "cell_type": "code",
   "execution_count": 191,
   "id": "e4076de3-f64d-4f72-9731-4efcd5f477b5",
   "metadata": {},
   "outputs": [],
   "source": [
    "def recurse_edge_index_iterative(source_nodes, edge_index, max_depth):\n",
    "    \"\"\"\n",
    "    Optimized function to compute the subgraph around the source nodes up to a given depth.\n",
    "    Uses an iterative approach instead of recursion.\n",
    "    \"\"\"\n",
    "    visited_nodes = set(source_nodes)\n",
    "    current_frontier = np.array(source_nodes)\n",
    "    \n",
    "    subgraph_edges = []\n",
    "\n",
    "    for _ in range(max_depth):\n",
    "        # Find edges where the target node is in the current frontier\n",
    "        target_mask = np.isin(edge_index[1], current_frontier)\n",
    "        subgraph_edge_index = edge_index[:, target_mask]\n",
    "        subgraph_edges.append(subgraph_edge_index)\n",
    "\n",
    "        # Update the current frontier with the source nodes of these edges\n",
    "        current_frontier = np.setdiff1d(subgraph_edge_index[0], list(visited_nodes))\n",
    "        visited_nodes.update(current_frontier)\n",
    "        \n",
    "        if len(current_frontier) == 0:\n",
    "            break\n",
    "\n",
    "    # Combine edges from all hops\n",
    "    return np.concatenate(subgraph_edges, axis=1) if subgraph_edges else np.empty((2, 0), dtype=edge_index.dtype)\n",
    "\n",
    "\n",
    "def get_subgraph_from_in_mem_graph_optimized(X, y, i, edge_index, hops):\n",
    "    \"\"\"\n",
    "    Optimized version of subgraph extraction.\n",
    "    \"\"\"\n",
    "    subgraph_edge_index = recurse_edge_index_iterative([i], edge_index, hops)\n",
    "    unique_node_ids, remapping = np.unique(subgraph_edge_index, return_inverse=True)\n",
    "    \n",
    "    # Extract features and labels\n",
    "    features = X.iloc[unique_node_ids, :].values\n",
    "    labels = y.iloc[unique_node_ids, :].values.squeeze()\n",
    "\n",
    "    # Remap edge indices\n",
    "    remapped_edge_index = remapping.reshape(2, -1)\n",
    "    return remapped_edge_index, features, labels, unique_node_ids\n",
    "    \n",
    "def connect_to_mysql(database=None):\n",
    "    \"\"\"Connect to MySQL database using mysqlclient\"\"\"\n",
    "    if database is None:\n",
    "        return MySQLdb.connect(\n",
    "        host='localhost',\n",
    "        user='root',\n",
    "        passwd='password',\n",
    "        local_infile=True# Enable LOAD DATA LOCAL INFILE\n",
    "    )\n",
    "    return MySQLdb.connect(\n",
    "        host='localhost',\n",
    "        user='root',\n",
    "        passwd='password',\n",
    "        db=database,\n",
    "        local_infile=True# Enable LOAD DATA LOCAL INFILE\n",
    "    )\n",
    "\n",
    "def create_database_with_conn(conn, db_name):\n",
    "    with conn.cursor() as cursor:\n",
    "        cursor.execute(f\"CREATE DATABASE IF NOT EXISTS {db_name}\")\n",
    "        conn.commit()\n",
    "    return connect_to_mysql(database=db_name)\n",
    "\n",
    "def create_database(node_file_name):\n",
    "    conn = connect_to_mysql()\n",
    "    new_db_name = node_file_name.split(\".\")[0]\n",
    "    create_database_with_conn(conn, new_db_name)\n",
    "    conn.close()\n",
    "    conn = connect_to_mysql(new_db_name)\n",
    "    return conn, new_db_name\n",
    "\n",
    "def create_index(conn, table_name, column_name):\n",
    "    \"\"\"Create an index on a specific column.\"\"\"\n",
    "    try:\n",
    "        with conn.cursor() as cursor:\n",
    "            index_name = f\"{table_name}_{column_name}_idx\"\n",
    "            cursor.execute(f\"CREATE INDEX {index_name} ON {table_name} ({column_name});\")\n",
    "            conn.commit()\n",
    "            print(f\"Index '{index_name}' created successfully.\")\n",
    "    except Exception as e:\n",
    "        conn.rollback()\n",
    "        print(f\"Error creating index: {e}\")\n",
    "        raise\n",
    "\n",
    "def create(conn, node_file_name, edge_file_name, X_and_y):\n",
    "    # For each column, we'll store arrays as TEXT with comma-separated values\n",
    "    column_types = [\"id INTEGER PRIMARY KEY\"] ## AUTO INCREMENT\n",
    "    for col in X_and_y.columns:\n",
    "        if \"y\" in col:\n",
    "            column_types.append(f\"{col} INTEGER\")\n",
    "            continue\n",
    "        column_types.append(f\"{col} DOUBLE\")\n",
    "    \n",
    "    node_schema = f\"\"\"\n",
    "    CREATE TABLE IF NOT EXISTS nodes (\n",
    "        {\",\".join(column_types)}\n",
    "    );\n",
    "    \"\"\"\n",
    "    \n",
    "    start = time.time()\n",
    "    with conn.cursor() as cursor:\n",
    "        cursor.execute(node_schema)\n",
    "        \n",
    "        # Create edges table\n",
    "        cursor.execute(\"\"\"\n",
    "        CREATE TABLE IF NOT EXISTS edges (\n",
    "            source_id INTEGER,\n",
    "            target_id INTEGER\n",
    "        )\n",
    "        \"\"\")\n",
    "        conn.commit()\n",
    "    \n",
    "    csv_file_path = f\"syn_data/{node_file_name}\"\n",
    "    \n",
    "    # For the nodes table, we need to preprocess the CSV to convert arrays to strings\n",
    "    with conn.cursor() as cursor:\n",
    "        # MySQLdb requires slightly different syntax for LOAD DATA LOCAL INFILE\n",
    "        load_data_sql = f\"\"\"\n",
    "        LOAD DATA LOCAL INFILE %s\n",
    "        INTO TABLE nodes\n",
    "        FIELDS TERMINATED BY ','\n",
    "        LINES TERMINATED BY '\\\\n'\n",
    "        IGNORE 1 LINES\n",
    "        \"\"\"\n",
    "        \n",
    "        cursor.execute(load_data_sql, (csv_file_path,))#\n",
    "        create_index(conn, \"nodes\", \"id\")\n",
    "        \n",
    "        # Load edges\n",
    "        cursor.execute(\n",
    "            \"LOAD DATA LOCAL INFILE %s INTO TABLE edges FIELDS TERMINATED BY ',' LINES TERMINATED BY '\\\\n' IGNORE 1 LINES\",\n",
    "            (f\"syn_data/{edge_file_name}\",)\n",
    "        )\n",
    "        create_index(conn, \"edges\", \"target_id\")\n",
    "        conn.commit()\n",
    "    \n",
    "    creation_time = time.time() - start\n",
    "    return creation_time\n",
    "\n",
    "def read(conn, hops, X_and_y, X, y, edge_index, random_sample_size = 1_000):\n",
    "    np.random.seed(42)\n",
    "    seed_node_ids = np.random.choice(np.arange(X_and_y.shape[0]), size = random_sample_size, replace = False)\n",
    "    \n",
    "    with conn.cursor() as cursor:\n",
    "        cursor.execute(\"SET SESSION group_concat_max_len = 16777215;\")\n",
    "        cursor.execute(\"SET GLOBAL max_allowed_packet = 1073741824;\")  # 1GB\n",
    "\n",
    "        complete_time = 0\n",
    "        complete_test_time = 0\n",
    "        feature_columns = list(filter(lambda col: \"f\" in col, X_and_y.columns))\n",
    "        label_columns = list(filter(lambda col: \"y\" in col, X_and_y.columns))\n",
    "        for seed_node_id in tqdm(seed_node_ids):\n",
    "            try:\n",
    "                start = time.time()\n",
    "                cursor.execute(f\"\"\"\n",
    "        WITH RECURSIVE NestedTargets AS (\n",
    "            SELECT 0 AS depth, source_id, target_id\n",
    "            FROM edges\n",
    "            WHERE target_id = {seed_node_id}\n",
    "            \n",
    "            UNION ALL\n",
    "            \n",
    "            SELECT nt.depth + 1, e.source_id, e.target_id\n",
    "            FROM edges e\n",
    "            INNER JOIN NestedTargets nt ON e.target_id = nt.source_id\n",
    "            WHERE nt.depth < {hops - 1}\n",
    "        ),\n",
    "        \n",
    "        node_ids AS (\n",
    "            SELECT DISTINCT id FROM (\n",
    "                SELECT source_id AS id FROM NestedTargets\n",
    "                UNION\n",
    "                SELECT target_id AS id FROM NestedTargets\n",
    "            ) AS combined_ids\n",
    "        ),\n",
    "        \n",
    "        node_data AS (\n",
    "            SELECT \n",
    "                id, \n",
    "                {\", \".join(X_and_y.columns)}\n",
    "            FROM nodes\n",
    "            WHERE id IN (SELECT id FROM node_ids)\n",
    "        )\n",
    "        \n",
    "        SELECT\n",
    "        (SELECT JSON_ARRAYAGG(JSON_ARRAY({\", \".join(feature_columns)})) FROM node_data) AS node_table,\n",
    "        (SELECT JSON_ARRAYAGG(JSON_ARRAY({\", \".join(label_columns)})) FROM node_data) AS label_table,\n",
    "        (SELECT JSON_ARRAYAGG(JSON_ARRAY(source_id, target_id))\n",
    "         FROM (SELECT DISTINCT source_id, target_id FROM NestedTargets) AS edges) AS edge_table,\n",
    "         (SELECT JSON_ARRAYAGG(id) FROM node_data) AS node_ids;\n",
    "    \"\"\")\n",
    "                results = cursor.fetchall()[0]\n",
    "                if None in results:\n",
    "                    continue\n",
    "                \n",
    "                labels = np.array(json.loads(results[1]))\n",
    "                subgraph_node_features = np.array(json.loads(results[0]))\n",
    "                if results[0] is None:\n",
    "                    continue\n",
    "                \n",
    "                subgraph_edges = np.array(json.loads(results[2])).transpose()\n",
    "                \n",
    "                node_ids = np.array(json.loads(results[-1]))\n",
    "                id_sort_idx = np.argsort(node_ids)\n",
    "                node_ids = node_ids[id_sort_idx]\n",
    "                features = subgraph_node_features[id_sort_idx]\n",
    "                labels = labels[id_sort_idx]\n",
    "                _, cols_source = np.nonzero((subgraph_edges[0] == node_ids[:, None]).transpose())\n",
    "                _, cols_target = np.nonzero((subgraph_edges[1] == node_ids[:, None]).transpose())\n",
    "                remapped_edge_index = np.concatenate([np.expand_dims(cols_source, axis = 0), np.expand_dims(cols_target, axis = 0)], axis = 0)\n",
    "                overall_run_time = time.time() - start \n",
    "                \n",
    "                complete_time += overall_run_time\n",
    "                # Testing\n",
    "                test_time = time.time()\n",
    "                remapped_edge_index_test, features_test, labels_test, unique_node_ids = get_subgraph_from_in_mem_graph_optimized(X, y, seed_node_id, edge_index, hops)                    \n",
    "                complete_test_time += time.time() - test_time\n",
    "                \n",
    "                assert (sort_edge_index(torch.from_numpy(remapped_edge_index_test)) == sort_edge_index(torch.from_numpy(remapped_edge_index))).sum() / (remapped_edge_index_test.shape[-1] * remapped_edge_index_test.shape[0]), \"Edges doesnt match\"\n",
    "                assert np.allclose(features, features_test), \"features doe not match\"\n",
    "                assert np.allclose(labels_test, labels), \"Labels does not match\"\n",
    "                # print(f\"Fetched {remapped_edge_index.shape} edges, {labels.shape} labels, {features.shape} features in ({overall_run_time} s)\")\n",
    "            except Exception as e:\n",
    "                conn.rollback()\n",
    "                print(results[0][-10:])\n",
    "                print(f\"Error reading data: {e}\")\n",
    "                raise   \n",
    "    return (complete_time, complete_test_time)\n",
    "\n",
    "def update_nodes(conn, X_and_y, random_sample_size = 1000):\n",
    "    feature_columns = list(filter(lambda col: \"f\" in col, X_and_y.columns))\n",
    "    label_columns = list(filter(lambda col: \"y\" in col, X_and_y.columns))\n",
    "    with conn.cursor() as cursor:\n",
    "        np.random.seed(42)\n",
    "        node_ids = np.random.choice(np.arange(X_and_y.shape[0]), size = random_sample_size, replace = False).tolist()\n",
    "        start = time.time()\n",
    "        for node_id in tqdm(node_ids):\n",
    "            np.random.seed(42)\n",
    "            features = np.random.rand(len(feature_columns)).tolist()  # Random values between 0 and 1\n",
    "            labels = np.random.randint(0, 2, size=len(label_columns)).tolist()  # Adjust label range as needed            \n",
    "            sql_query = f\"\"\"\n",
    "            UPDATE nodes \n",
    "            SET {\",\".join([f'{col} = %s' for col in feature_columns])}, {\",\".join([f'{col} = %s' for col in label_columns])}\n",
    "            WHERE id = %s;\n",
    "            \"\"\"\n",
    "            values = (*features, *labels, node_id)\n",
    "            cursor.execute(sql_query, values)\n",
    "        return time.time() - start\n",
    "\n",
    "def update_edges(conn, edge_index, X_and_y, random_sample_size = 1000):\n",
    "    with conn.cursor() as cursor:\n",
    "        np.random.seed(42)\n",
    "        edge_ids = np.random.choice(np.arange(edge_index.shape[-1]), size = random_sample_size, replace = False).tolist()\n",
    "        selected_edges = edge_index[:, edge_ids].transpose(-1, 0 )\n",
    "        start = time.time()\n",
    "        for selected_edge in tqdm(selected_edges):\n",
    "            source_id, target_id = selected_edge\n",
    "            np.random.seed(42)\n",
    "            new_target_id = int(np.random.randint(0, X_and_y.shape[0]))\n",
    "            sql_query = \"UPDATE edges SET target_id = %s WHERE source_id = %s AND target_id = %s;\"\n",
    "            values = (new_target_id, int(source_id), int(target_id))\n",
    "            cursor.execute(sql_query, values)\n",
    "        return time.time() - start\n",
    "\n",
    "def delete_database(conn, db_name):\n",
    "    \"\"\"Delete the specified database including all its schemas, tables, and indexes.\"\"\"\n",
    "    try:\n",
    "        conn.autocommit = True\n",
    "        with conn.cursor() as cursor:\n",
    "            cursor.execute(f\"DROP DATABASE IF EXISTS {db_name};\")\n",
    "            print(f\"Database '{db_name}' deleted successfully.\")\n",
    "    except Exception as e:\n",
    "        print(f\"Error deleting database: {e}\")\n",
    "        raise\n",
    "    finally:\n",
    "        conn.autocommit = False\n",
    "\n",
    "\n",
    "def delete(conn, new_db_name):\n",
    "    start = time.time()\n",
    "    if conn is not None:\n",
    "        conn.close()\n",
    "    conn = connect_to_mysql()\n",
    "    delete_database(conn, new_db_name)\n",
    "    conn.close()\n",
    "    return time.time() - start"
   ]
  },
  {
   "cell_type": "code",
   "execution_count": 174,
   "id": "3a5822d2-e0b0-4f8a-b2f3-b67cdf395604",
   "metadata": {
    "scrolled": true
   },
   "outputs": [
    {
     "name": "stdout",
     "output_type": "stream",
     "text": [
      "Index 'nodes_id_idx' created successfully.\n",
      "Index 'edges_target_id_idx' created successfully.\n"
     ]
    },
    {
     "data": {
      "application/vnd.jupyter.widget-view+json": {
       "model_id": "3e9f37a341854f01a935526bc7334450",
       "version_major": 2,
       "version_minor": 0
      },
      "text/plain": [
       "  0%|          | 0/1000 [00:00<?, ?it/s]"
      ]
     },
     "metadata": {},
     "output_type": "display_data"
    },
    {
     "name": "stdout",
     "output_type": "stream",
     "text": [
      "(15.897655487060547, 15.664829015731812)\n"
     ]
    },
    {
     "data": {
      "application/vnd.jupyter.widget-view+json": {
       "model_id": "ea1afd1a7e724ddaaa53556d976829e4",
       "version_major": 2,
       "version_minor": 0
      },
      "text/plain": [
       "  0%|          | 0/1000 [00:00<?, ?it/s]"
      ]
     },
     "metadata": {},
     "output_type": "display_data"
    },
    {
     "name": "stdout",
     "output_type": "stream",
     "text": [
      "(144.50897407531738, 19.664676666259766)\n"
     ]
    },
    {
     "data": {
      "application/vnd.jupyter.widget-view+json": {
       "model_id": "922fc2c5c8894cf7a8a0536ca0b0fcca",
       "version_major": 2,
       "version_minor": 0
      },
      "text/plain": [
       "  0%|          | 0/1000 [00:00<?, ?it/s]"
      ]
     },
     "metadata": {},
     "output_type": "display_data"
    },
    {
     "ename": "ProgrammingError",
     "evalue": "(2014, \"Commands out of sync; you can't run this command now\")",
     "output_type": "error",
     "traceback": [
      "\u001b[0;31m---------------------------------------------------------------------------\u001b[0m",
      "\u001b[0;31mKeyboardInterrupt\u001b[0m                         Traceback (most recent call last)",
      "Cell \u001b[0;32mIn[170], line 154\u001b[0m, in \u001b[0;36mread\u001b[0;34m(conn, hops, X_and_y, X, y, edge_index, random_sample_size)\u001b[0m\n\u001b[1;32m    153\u001b[0m             start \u001b[38;5;241m=\u001b[39m time\u001b[38;5;241m.\u001b[39mtime()\n\u001b[0;32m--> 154\u001b[0m             \u001b[43mcursor\u001b[49m\u001b[38;5;241;43m.\u001b[39;49m\u001b[43mexecute\u001b[49m\u001b[43m(\u001b[49m\u001b[38;5;124;43mf\u001b[39;49m\u001b[38;5;124;43m\"\"\"\u001b[39;49m\n\u001b[1;32m    155\u001b[0m \u001b[38;5;124;43m    WITH RECURSIVE NestedTargets AS (\u001b[39;49m\n\u001b[1;32m    156\u001b[0m \u001b[38;5;124;43m        SELECT 0 AS depth, source_id, target_id\u001b[39;49m\n\u001b[1;32m    157\u001b[0m \u001b[38;5;124;43m        FROM edges\u001b[39;49m\n\u001b[1;32m    158\u001b[0m \u001b[38;5;124;43m        WHERE target_id = \u001b[39;49m\u001b[38;5;132;43;01m{\u001b[39;49;00m\u001b[43mseed_node_id\u001b[49m\u001b[38;5;132;43;01m}\u001b[39;49;00m\n\u001b[1;32m    159\u001b[0m \u001b[38;5;124;43m        \u001b[39;49m\n\u001b[1;32m    160\u001b[0m \u001b[38;5;124;43m        UNION ALL\u001b[39;49m\n\u001b[1;32m    161\u001b[0m \u001b[38;5;124;43m        \u001b[39;49m\n\u001b[1;32m    162\u001b[0m \u001b[38;5;124;43m        SELECT nt.depth + 1, e.source_id, e.target_id\u001b[39;49m\n\u001b[1;32m    163\u001b[0m \u001b[38;5;124;43m        FROM edges e\u001b[39;49m\n\u001b[1;32m    164\u001b[0m \u001b[38;5;124;43m        INNER JOIN NestedTargets nt ON e.target_id = nt.source_id\u001b[39;49m\n\u001b[1;32m    165\u001b[0m \u001b[38;5;124;43m        WHERE nt.depth < \u001b[39;49m\u001b[38;5;132;43;01m{\u001b[39;49;00m\u001b[43mhops\u001b[49m\u001b[38;5;250;43m \u001b[39;49m\u001b[38;5;241;43m-\u001b[39;49m\u001b[38;5;250;43m \u001b[39;49m\u001b[38;5;241;43m1\u001b[39;49m\u001b[38;5;132;43;01m}\u001b[39;49;00m\n\u001b[1;32m    166\u001b[0m \u001b[38;5;124;43m    ),\u001b[39;49m\n\u001b[1;32m    167\u001b[0m \u001b[38;5;124;43m    \u001b[39;49m\n\u001b[1;32m    168\u001b[0m \u001b[38;5;124;43m    node_ids AS (\u001b[39;49m\n\u001b[1;32m    169\u001b[0m \u001b[38;5;124;43m        SELECT DISTINCT id FROM (\u001b[39;49m\n\u001b[1;32m    170\u001b[0m \u001b[38;5;124;43m            SELECT source_id AS id FROM NestedTargets\u001b[39;49m\n\u001b[1;32m    171\u001b[0m \u001b[38;5;124;43m            UNION\u001b[39;49m\n\u001b[1;32m    172\u001b[0m \u001b[38;5;124;43m            SELECT target_id AS id FROM NestedTargets\u001b[39;49m\n\u001b[1;32m    173\u001b[0m \u001b[38;5;124;43m        ) AS combined_ids\u001b[39;49m\n\u001b[1;32m    174\u001b[0m \u001b[38;5;124;43m    ),\u001b[39;49m\n\u001b[1;32m    175\u001b[0m \u001b[38;5;124;43m    \u001b[39;49m\n\u001b[1;32m    176\u001b[0m \u001b[38;5;124;43m    node_data AS (\u001b[39;49m\n\u001b[1;32m    177\u001b[0m \u001b[38;5;124;43m        SELECT \u001b[39;49m\n\u001b[1;32m    178\u001b[0m \u001b[38;5;124;43m            id, \u001b[39;49m\n\u001b[1;32m    179\u001b[0m \u001b[38;5;124;43m            \u001b[39;49m\u001b[38;5;132;43;01m{\u001b[39;49;00m\u001b[38;5;124;43m\"\u001b[39;49m\u001b[38;5;124;43m, \u001b[39;49m\u001b[38;5;124;43m\"\u001b[39;49m\u001b[38;5;241;43m.\u001b[39;49m\u001b[43mjoin\u001b[49m\u001b[43m(\u001b[49m\u001b[43mX_and_y\u001b[49m\u001b[38;5;241;43m.\u001b[39;49m\u001b[43mcolumns\u001b[49m\u001b[43m)\u001b[49m\u001b[38;5;132;43;01m}\u001b[39;49;00m\n\u001b[1;32m    180\u001b[0m \u001b[38;5;124;43m        FROM nodes\u001b[39;49m\n\u001b[1;32m    181\u001b[0m \u001b[38;5;124;43m        WHERE id IN (SELECT id FROM node_ids)\u001b[39;49m\n\u001b[1;32m    182\u001b[0m \u001b[38;5;124;43m    )\u001b[39;49m\n\u001b[1;32m    183\u001b[0m \u001b[38;5;124;43m    \u001b[39;49m\n\u001b[1;32m    184\u001b[0m \u001b[38;5;124;43m    SELECT\u001b[39;49m\n\u001b[1;32m    185\u001b[0m \u001b[38;5;124;43m    (SELECT JSON_ARRAYAGG(JSON_ARRAY(\u001b[39;49m\u001b[38;5;132;43;01m{\u001b[39;49;00m\u001b[38;5;124;43m\"\u001b[39;49m\u001b[38;5;124;43m, \u001b[39;49m\u001b[38;5;124;43m\"\u001b[39;49m\u001b[38;5;241;43m.\u001b[39;49m\u001b[43mjoin\u001b[49m\u001b[43m(\u001b[49m\u001b[43mfeature_columns\u001b[49m\u001b[43m)\u001b[49m\u001b[38;5;132;43;01m}\u001b[39;49;00m\u001b[38;5;124;43m)) FROM node_data) AS node_table,\u001b[39;49m\n\u001b[1;32m    186\u001b[0m \u001b[38;5;124;43m    (SELECT JSON_ARRAYAGG(JSON_ARRAY(\u001b[39;49m\u001b[38;5;132;43;01m{\u001b[39;49;00m\u001b[38;5;124;43m\"\u001b[39;49m\u001b[38;5;124;43m, \u001b[39;49m\u001b[38;5;124;43m\"\u001b[39;49m\u001b[38;5;241;43m.\u001b[39;49m\u001b[43mjoin\u001b[49m\u001b[43m(\u001b[49m\u001b[43mlabel_columns\u001b[49m\u001b[43m)\u001b[49m\u001b[38;5;132;43;01m}\u001b[39;49;00m\u001b[38;5;124;43m)) FROM node_data) AS label_table,\u001b[39;49m\n\u001b[1;32m    187\u001b[0m \u001b[38;5;124;43m    (SELECT JSON_ARRAYAGG(JSON_ARRAY(source_id, target_id))\u001b[39;49m\n\u001b[1;32m    188\u001b[0m \u001b[38;5;124;43m     FROM (SELECT DISTINCT source_id, target_id FROM NestedTargets) AS edges) AS edge_table,\u001b[39;49m\n\u001b[1;32m    189\u001b[0m \u001b[38;5;124;43m     (SELECT JSON_ARRAYAGG(id) FROM node_data) AS node_ids;\u001b[39;49m\n\u001b[1;32m    190\u001b[0m \u001b[38;5;124;43m\u001b[39;49m\u001b[38;5;124;43m\"\"\"\u001b[39;49m\u001b[43m)\u001b[49m\n\u001b[1;32m    191\u001b[0m             results \u001b[38;5;241m=\u001b[39m cursor\u001b[38;5;241m.\u001b[39mfetchall()[\u001b[38;5;241m0\u001b[39m]\n",
      "File \u001b[0;32m~/.local/lib/python3.10/site-packages/MySQLdb/cursors.py:179\u001b[0m, in \u001b[0;36mBaseCursor.execute\u001b[0;34m(self, query, args)\u001b[0m\n\u001b[1;32m    178\u001b[0m \u001b[38;5;28;01massert\u001b[39;00m \u001b[38;5;28misinstance\u001b[39m(mogrified_query, (\u001b[38;5;28mbytes\u001b[39m, \u001b[38;5;28mbytearray\u001b[39m))\n\u001b[0;32m--> 179\u001b[0m res \u001b[38;5;241m=\u001b[39m \u001b[38;5;28;43mself\u001b[39;49m\u001b[38;5;241;43m.\u001b[39;49m\u001b[43m_query\u001b[49m\u001b[43m(\u001b[49m\u001b[43mmogrified_query\u001b[49m\u001b[43m)\u001b[49m\n\u001b[1;32m    180\u001b[0m \u001b[38;5;28;01mreturn\u001b[39;00m res\n",
      "File \u001b[0;32m~/.local/lib/python3.10/site-packages/MySQLdb/cursors.py:330\u001b[0m, in \u001b[0;36mBaseCursor._query\u001b[0;34m(self, q)\u001b[0m\n\u001b[1;32m    329\u001b[0m \u001b[38;5;28mself\u001b[39m\u001b[38;5;241m.\u001b[39mlastrowid \u001b[38;5;241m=\u001b[39m \u001b[38;5;28;01mNone\u001b[39;00m\n\u001b[0;32m--> 330\u001b[0m \u001b[43mdb\u001b[49m\u001b[38;5;241;43m.\u001b[39;49m\u001b[43mquery\u001b[49m\u001b[43m(\u001b[49m\u001b[43mq\u001b[49m\u001b[43m)\u001b[49m\n\u001b[1;32m    331\u001b[0m \u001b[38;5;28mself\u001b[39m\u001b[38;5;241m.\u001b[39m_do_get_result(db)\n",
      "File \u001b[0;32m~/.local/lib/python3.10/site-packages/MySQLdb/connections.py:280\u001b[0m, in \u001b[0;36mConnection.query\u001b[0;34m(self, query)\u001b[0m\n\u001b[1;32m    279\u001b[0m     query \u001b[38;5;241m=\u001b[39m \u001b[38;5;28mbytes\u001b[39m(query)\n\u001b[0;32m--> 280\u001b[0m \u001b[43m_mysql\u001b[49m\u001b[38;5;241;43m.\u001b[39;49m\u001b[43mconnection\u001b[49m\u001b[38;5;241;43m.\u001b[39;49m\u001b[43mquery\u001b[49m\u001b[43m(\u001b[49m\u001b[38;5;28;43mself\u001b[39;49m\u001b[43m,\u001b[49m\u001b[43m \u001b[49m\u001b[43mquery\u001b[49m\u001b[43m)\u001b[49m\n",
      "\u001b[0;31mKeyboardInterrupt\u001b[0m: ",
      "\nDuring handling of the above exception, another exception occurred:\n",
      "\u001b[0;31mProgrammingError\u001b[0m                          Traceback (most recent call last)",
      "Cell \u001b[0;32mIn[174], line 4\u001b[0m\n\u001b[1;32m      2\u001b[0m create_time \u001b[38;5;241m=\u001b[39m create(conn, node_file_name, edge_file_name, X_and_y)\n\u001b[1;32m      3\u001b[0m \u001b[38;5;28;01mfor\u001b[39;00m hops \u001b[38;5;129;01min\u001b[39;00m \u001b[38;5;28mrange\u001b[39m(\u001b[38;5;241m1\u001b[39m,\u001b[38;5;241m4\u001b[39m):\n\u001b[0;32m----> 4\u001b[0m     read_time, read_time_mem \u001b[38;5;241m=\u001b[39m \u001b[43mread\u001b[49m\u001b[43m(\u001b[49m\u001b[43mconn\u001b[49m\u001b[43m,\u001b[49m\u001b[43m \u001b[49m\u001b[43mhops\u001b[49m\u001b[43m,\u001b[49m\u001b[43m \u001b[49m\u001b[43mX_and_y\u001b[49m\u001b[43m,\u001b[49m\u001b[43m \u001b[49m\u001b[43mX\u001b[49m\u001b[43m,\u001b[49m\u001b[43m \u001b[49m\u001b[43my\u001b[49m\u001b[43m,\u001b[49m\u001b[43m \u001b[49m\u001b[43medge_index\u001b[49m\u001b[43m,\u001b[49m\u001b[43m \u001b[49m\u001b[43mrandom_sample_size\u001b[49m\u001b[43m \u001b[49m\u001b[38;5;241;43m=\u001b[39;49m\u001b[43m \u001b[49m\u001b[38;5;241;43m1_000\u001b[39;49m\u001b[43m)\u001b[49m\n\u001b[1;32m      5\u001b[0m     \u001b[38;5;28mprint\u001b[39m((read_time, read_time_mem))\n\u001b[1;32m      6\u001b[0m update_node_time \u001b[38;5;241m=\u001b[39m update_nodes(conn, X_and_y, \u001b[38;5;241m1_000\u001b[39m)\n",
      "Cell \u001b[0;32mIn[170], line 146\u001b[0m, in \u001b[0;36mread\u001b[0;34m(conn, hops, X_and_y, X, y, edge_index, random_sample_size)\u001b[0m\n\u001b[1;32m    143\u001b[0m np\u001b[38;5;241m.\u001b[39mrandom\u001b[38;5;241m.\u001b[39mseed(\u001b[38;5;241m42\u001b[39m)\n\u001b[1;32m    144\u001b[0m seed_node_ids \u001b[38;5;241m=\u001b[39m np\u001b[38;5;241m.\u001b[39mrandom\u001b[38;5;241m.\u001b[39mchoice(np\u001b[38;5;241m.\u001b[39marange(X_and_y\u001b[38;5;241m.\u001b[39mshape[\u001b[38;5;241m0\u001b[39m]), size \u001b[38;5;241m=\u001b[39m random_sample_size, replace \u001b[38;5;241m=\u001b[39m \u001b[38;5;28;01mFalse\u001b[39;00m)\n\u001b[0;32m--> 146\u001b[0m \u001b[38;5;28;01mwith\u001b[39;00m conn\u001b[38;5;241m.\u001b[39mcursor() \u001b[38;5;28;01mas\u001b[39;00m cursor:\n\u001b[1;32m    147\u001b[0m     complete_time \u001b[38;5;241m=\u001b[39m \u001b[38;5;241m0\u001b[39m\n\u001b[1;32m    148\u001b[0m     complete_test_time \u001b[38;5;241m=\u001b[39m \u001b[38;5;241m0\u001b[39m\n",
      "File \u001b[0;32m~/.local/lib/python3.10/site-packages/MySQLdb/cursors.py:113\u001b[0m, in \u001b[0;36mBaseCursor.__exit__\u001b[0;34m(***failed resolving arguments***)\u001b[0m\n\u001b[1;32m    111\u001b[0m \u001b[38;5;28;01mdef\u001b[39;00m \u001b[38;5;21m__exit__\u001b[39m(\u001b[38;5;28mself\u001b[39m, \u001b[38;5;241m*\u001b[39mexc_info):\n\u001b[1;32m    112\u001b[0m     \u001b[38;5;28;01mdel\u001b[39;00m exc_info\n\u001b[0;32m--> 113\u001b[0m     \u001b[38;5;28;43mself\u001b[39;49m\u001b[38;5;241;43m.\u001b[39;49m\u001b[43mclose\u001b[49m\u001b[43m(\u001b[49m\u001b[43m)\u001b[49m\n",
      "File \u001b[0;32m~/.local/lib/python3.10/site-packages/MySQLdb/cursors.py:103\u001b[0m, in \u001b[0;36mBaseCursor.close\u001b[0;34m(self)\u001b[0m\n\u001b[1;32m    101\u001b[0m     \u001b[38;5;28;01mif\u001b[39;00m \u001b[38;5;28mself\u001b[39m\u001b[38;5;241m.\u001b[39mconnection \u001b[38;5;129;01mis\u001b[39;00m \u001b[38;5;28;01mNone\u001b[39;00m:\n\u001b[1;32m    102\u001b[0m         \u001b[38;5;28;01mreturn\u001b[39;00m\n\u001b[0;32m--> 103\u001b[0m     \u001b[38;5;28;43mself\u001b[39;49m\u001b[38;5;241;43m.\u001b[39;49m\u001b[43m_discard\u001b[49m\u001b[43m(\u001b[49m\u001b[43m)\u001b[49m\n\u001b[1;32m    104\u001b[0m \u001b[38;5;28;01mfinally\u001b[39;00m:\n\u001b[1;32m    105\u001b[0m     \u001b[38;5;28mself\u001b[39m\u001b[38;5;241m.\u001b[39mconnection \u001b[38;5;241m=\u001b[39m \u001b[38;5;28;01mNone\u001b[39;00m\n",
      "File \u001b[0;32m~/.local/lib/python3.10/site-packages/MySQLdb/cursors.py:95\u001b[0m, in \u001b[0;36mBaseCursor._discard\u001b[0;34m(self)\u001b[0m\n\u001b[1;32m     93\u001b[0m \u001b[38;5;28;01mif\u001b[39;00m con \u001b[38;5;129;01mis\u001b[39;00m \u001b[38;5;28;01mNone\u001b[39;00m:\n\u001b[1;32m     94\u001b[0m     \u001b[38;5;28;01mreturn\u001b[39;00m\n\u001b[0;32m---> 95\u001b[0m \u001b[38;5;28;01mwhile\u001b[39;00m \u001b[43mcon\u001b[49m\u001b[38;5;241;43m.\u001b[39;49m\u001b[43mnext_result\u001b[49m\u001b[43m(\u001b[49m\u001b[43m)\u001b[49m \u001b[38;5;241m==\u001b[39m \u001b[38;5;241m0\u001b[39m:  \u001b[38;5;66;03m# -1 means no more data.\u001b[39;00m\n\u001b[1;32m     96\u001b[0m     con\u001b[38;5;241m.\u001b[39mdiscard_result()\n",
      "\u001b[0;31mProgrammingError\u001b[0m: (2014, \"Commands out of sync; you can't run this command now\")"
     ]
    }
   ],
   "source": [
    "conn, db_name = create_database(node_file_name)\n",
    "create_time = create(conn, node_file_name, edge_file_name, X_and_y)\n",
    "for hops in range(1,4):\n",
    "    read_time, read_time_mem = read(conn, hops, X_and_y, X, y, edge_index, random_sample_size = 1_000)\n",
    "    print((read_time, read_time_mem))\n",
    "update_node_time = update_nodes(conn, X_and_y, 1_000)\n",
    "update_edge_time = update_edges(conn, edge_index, X_and_y, 1_000)\n",
    "delete_time= delete(conn,db_name )"
   ]
  },
  {
   "cell_type": "code",
   "execution_count": 193,
   "id": "b1b909a3-3238-481d-87c5-8204871717de",
   "metadata": {
    "scrolled": true
   },
   "outputs": [
    {
     "data": {
      "application/vnd.jupyter.widget-view+json": {
       "model_id": "81b67653a19e49b2906aaa6e16f8c6ec",
       "version_major": 2,
       "version_minor": 0
      },
      "text/plain": [
       "  0%|          | 0/3 [00:00<?, ?it/s]"
      ]
     },
     "metadata": {},
     "output_type": "display_data"
    },
    {
     "data": {
      "application/vnd.jupyter.widget-view+json": {
       "model_id": "127bd306997f43b4b4da2eb9d22efed2",
       "version_major": 2,
       "version_minor": 0
      },
      "text/plain": [
       "  0%|          | 0/4 [00:00<?, ?it/s]"
      ]
     },
     "metadata": {},
     "output_type": "display_data"
    },
    {
     "name": "stdout",
     "output_type": "stream",
     "text": [
      "Index 'nodes_id_idx' created successfully.\n",
      "Index 'edges_target_id_idx' created successfully.\n"
     ]
    },
    {
     "data": {
      "application/vnd.jupyter.widget-view+json": {
       "model_id": "39c444878344409385fb9589a27fc26c",
       "version_major": 2,
       "version_minor": 0
      },
      "text/plain": [
       "  0%|          | 0/3 [00:00<?, ?it/s]"
      ]
     },
     "metadata": {},
     "output_type": "display_data"
    },
    {
     "data": {
      "application/vnd.jupyter.widget-view+json": {
       "model_id": "25cf424636264212bd1e67b6ef27539e",
       "version_major": 2,
       "version_minor": 0
      },
      "text/plain": [
       "  0%|          | 0/1000 [00:00<?, ?it/s]"
      ]
     },
     "metadata": {},
     "output_type": "display_data"
    },
    {
     "data": {
      "application/vnd.jupyter.widget-view+json": {
       "model_id": "c18f34f5f9cd41498c9033d37ab8554d",
       "version_major": 2,
       "version_minor": 0
      },
      "text/plain": [
       "  0%|          | 0/1000 [00:00<?, ?it/s]"
      ]
     },
     "metadata": {},
     "output_type": "display_data"
    },
    {
     "data": {
      "application/vnd.jupyter.widget-view+json": {
       "model_id": "ea1f1a0f1a1f41199998fc7508e559da",
       "version_major": 2,
       "version_minor": 0
      },
      "text/plain": [
       "  0%|          | 0/1000 [00:00<?, ?it/s]"
      ]
     },
     "metadata": {},
     "output_type": "display_data"
    },
    {
     "data": {
      "application/vnd.jupyter.widget-view+json": {
       "model_id": "aa61131c0c9b44df8a7e38e0ef5134e5",
       "version_major": 2,
       "version_minor": 0
      },
      "text/plain": [
       "  0%|          | 0/1000 [00:00<?, ?it/s]"
      ]
     },
     "metadata": {},
     "output_type": "display_data"
    },
    {
     "data": {
      "application/vnd.jupyter.widget-view+json": {
       "model_id": "98edc5210ff247d88e1fee0935b389a9",
       "version_major": 2,
       "version_minor": 0
      },
      "text/plain": [
       "  0%|          | 0/1000 [00:00<?, ?it/s]"
      ]
     },
     "metadata": {},
     "output_type": "display_data"
    },
    {
     "name": "stdout",
     "output_type": "stream",
     "text": [
      "Database 'X_and_y_1000_nodes_5_edges_columns' deleted successfully.\n"
     ]
    },
    {
     "name": "stderr",
     "output_type": "stream",
     "text": [
      "/tmp/ipykernel_3567841/2086692155.py:46: FutureWarning: The behavior of DataFrame concatenation with empty or all-NA entries is deprecated. In a future version, this will no longer exclude empty or all-NA columns when determining the result dtypes. To retain the old behavior, exclude the relevant entries before the concat operation.\n",
      "  output_df = pd.concat((output_df, new_row), ignore_index=True)\n"
     ]
    },
    {
     "name": "stdout",
     "output_type": "stream",
     "text": [
      "Index 'nodes_id_idx' created successfully.\n",
      "Index 'edges_target_id_idx' created successfully.\n"
     ]
    },
    {
     "data": {
      "application/vnd.jupyter.widget-view+json": {
       "model_id": "1eceffa831894543af619b62cb45d223",
       "version_major": 2,
       "version_minor": 0
      },
      "text/plain": [
       "  0%|          | 0/3 [00:00<?, ?it/s]"
      ]
     },
     "metadata": {},
     "output_type": "display_data"
    },
    {
     "data": {
      "application/vnd.jupyter.widget-view+json": {
       "model_id": "4dfd506160134356b8e821829e487dc7",
       "version_major": 2,
       "version_minor": 0
      },
      "text/plain": [
       "  0%|          | 0/1000 [00:00<?, ?it/s]"
      ]
     },
     "metadata": {},
     "output_type": "display_data"
    },
    {
     "data": {
      "application/vnd.jupyter.widget-view+json": {
       "model_id": "788ad211a16a481a8f7a7c52841948af",
       "version_major": 2,
       "version_minor": 0
      },
      "text/plain": [
       "  0%|          | 0/1000 [00:00<?, ?it/s]"
      ]
     },
     "metadata": {},
     "output_type": "display_data"
    },
    {
     "data": {
      "application/vnd.jupyter.widget-view+json": {
       "model_id": "f6f61cc6f7a84cbf90e0ab7848750e14",
       "version_major": 2,
       "version_minor": 0
      },
      "text/plain": [
       "  0%|          | 0/1000 [00:00<?, ?it/s]"
      ]
     },
     "metadata": {},
     "output_type": "display_data"
    },
    {
     "data": {
      "application/vnd.jupyter.widget-view+json": {
       "model_id": "8f25a8254b404f4aaff1ce07e1119385",
       "version_major": 2,
       "version_minor": 0
      },
      "text/plain": [
       "  0%|          | 0/1000 [00:00<?, ?it/s]"
      ]
     },
     "metadata": {},
     "output_type": "display_data"
    },
    {
     "data": {
      "application/vnd.jupyter.widget-view+json": {
       "model_id": "e37e9b025dd447ae80e7b71acfd1ca54",
       "version_major": 2,
       "version_minor": 0
      },
      "text/plain": [
       "  0%|          | 0/1000 [00:00<?, ?it/s]"
      ]
     },
     "metadata": {},
     "output_type": "display_data"
    },
    {
     "name": "stdout",
     "output_type": "stream",
     "text": [
      "Database 'X_and_y_1000_nodes_10_edges_columns' deleted successfully.\n",
      "Index 'nodes_id_idx' created successfully.\n",
      "Index 'edges_target_id_idx' created successfully.\n"
     ]
    },
    {
     "data": {
      "application/vnd.jupyter.widget-view+json": {
       "model_id": "c9df21814f3f4d8988ddf0f8b1019b23",
       "version_major": 2,
       "version_minor": 0
      },
      "text/plain": [
       "  0%|          | 0/3 [00:00<?, ?it/s]"
      ]
     },
     "metadata": {},
     "output_type": "display_data"
    },
    {
     "data": {
      "application/vnd.jupyter.widget-view+json": {
       "model_id": "b00f156a98b24fe190d5d88bedede858",
       "version_major": 2,
       "version_minor": 0
      },
      "text/plain": [
       "  0%|          | 0/1000 [00:00<?, ?it/s]"
      ]
     },
     "metadata": {},
     "output_type": "display_data"
    },
    {
     "data": {
      "application/vnd.jupyter.widget-view+json": {
       "model_id": "24ab2b23ced744bf9943f804f3596df7",
       "version_major": 2,
       "version_minor": 0
      },
      "text/plain": [
       "  0%|          | 0/1000 [00:00<?, ?it/s]"
      ]
     },
     "metadata": {},
     "output_type": "display_data"
    },
    {
     "data": {
      "application/vnd.jupyter.widget-view+json": {
       "model_id": "ace4ac6c05434d81a0dd2a29e3a0b175",
       "version_major": 2,
       "version_minor": 0
      },
      "text/plain": [
       "  0%|          | 0/1000 [00:00<?, ?it/s]"
      ]
     },
     "metadata": {},
     "output_type": "display_data"
    },
    {
     "data": {
      "application/vnd.jupyter.widget-view+json": {
       "model_id": "21d728502b934ebe83de444209d7b76e",
       "version_major": 2,
       "version_minor": 0
      },
      "text/plain": [
       "  0%|          | 0/1000 [00:00<?, ?it/s]"
      ]
     },
     "metadata": {},
     "output_type": "display_data"
    },
    {
     "data": {
      "application/vnd.jupyter.widget-view+json": {
       "model_id": "a346b8392fbf45b3aec23ef24650abf6",
       "version_major": 2,
       "version_minor": 0
      },
      "text/plain": [
       "  0%|          | 0/1000 [00:00<?, ?it/s]"
      ]
     },
     "metadata": {},
     "output_type": "display_data"
    },
    {
     "name": "stdout",
     "output_type": "stream",
     "text": [
      "Database 'X_and_y_1000_nodes_20_edges_columns' deleted successfully.\n",
      "Index 'nodes_id_idx' created successfully.\n",
      "Index 'edges_target_id_idx' created successfully.\n"
     ]
    },
    {
     "data": {
      "application/vnd.jupyter.widget-view+json": {
       "model_id": "7819e3f9cc1d400e9b50887869bfcce2",
       "version_major": 2,
       "version_minor": 0
      },
      "text/plain": [
       "  0%|          | 0/3 [00:00<?, ?it/s]"
      ]
     },
     "metadata": {},
     "output_type": "display_data"
    },
    {
     "data": {
      "application/vnd.jupyter.widget-view+json": {
       "model_id": "a34b36d869d44c9e8e4c50eb1d53b3ea",
       "version_major": 2,
       "version_minor": 0
      },
      "text/plain": [
       "  0%|          | 0/1000 [00:00<?, ?it/s]"
      ]
     },
     "metadata": {},
     "output_type": "display_data"
    },
    {
     "data": {
      "application/vnd.jupyter.widget-view+json": {
       "model_id": "7a3302e68bc44b65b49991d9c12f357e",
       "version_major": 2,
       "version_minor": 0
      },
      "text/plain": [
       "  0%|          | 0/1000 [00:00<?, ?it/s]"
      ]
     },
     "metadata": {},
     "output_type": "display_data"
    },
    {
     "data": {
      "application/vnd.jupyter.widget-view+json": {
       "model_id": "c6f279cf781045a0b1525bdc0a97149d",
       "version_major": 2,
       "version_minor": 0
      },
      "text/plain": [
       "  0%|          | 0/1000 [00:00<?, ?it/s]"
      ]
     },
     "metadata": {},
     "output_type": "display_data"
    },
    {
     "data": {
      "application/vnd.jupyter.widget-view+json": {
       "model_id": "70e2bd1cece24a3d9353398975170c56",
       "version_major": 2,
       "version_minor": 0
      },
      "text/plain": [
       "  0%|          | 0/1000 [00:00<?, ?it/s]"
      ]
     },
     "metadata": {},
     "output_type": "display_data"
    },
    {
     "data": {
      "application/vnd.jupyter.widget-view+json": {
       "model_id": "02957d6a5dcb48a99fa6e001ff1ddb4e",
       "version_major": 2,
       "version_minor": 0
      },
      "text/plain": [
       "  0%|          | 0/1000 [00:00<?, ?it/s]"
      ]
     },
     "metadata": {},
     "output_type": "display_data"
    },
    {
     "name": "stdout",
     "output_type": "stream",
     "text": [
      "Database 'X_and_y_1000_nodes_scale_free_columns' deleted successfully.\n"
     ]
    },
    {
     "data": {
      "application/vnd.jupyter.widget-view+json": {
       "model_id": "470486dded98442ba9ef4e2a28336180",
       "version_major": 2,
       "version_minor": 0
      },
      "text/plain": [
       "  0%|          | 0/4 [00:00<?, ?it/s]"
      ]
     },
     "metadata": {},
     "output_type": "display_data"
    },
    {
     "name": "stdout",
     "output_type": "stream",
     "text": [
      "Index 'nodes_id_idx' created successfully.\n",
      "Index 'edges_target_id_idx' created successfully.\n"
     ]
    },
    {
     "data": {
      "application/vnd.jupyter.widget-view+json": {
       "model_id": "eedcb46fd0394307a00f7b3ecc8ef516",
       "version_major": 2,
       "version_minor": 0
      },
      "text/plain": [
       "  0%|          | 0/3 [00:00<?, ?it/s]"
      ]
     },
     "metadata": {},
     "output_type": "display_data"
    },
    {
     "data": {
      "application/vnd.jupyter.widget-view+json": {
       "model_id": "c588e2284892438c9518db62f5eb941b",
       "version_major": 2,
       "version_minor": 0
      },
      "text/plain": [
       "  0%|          | 0/1000 [00:00<?, ?it/s]"
      ]
     },
     "metadata": {},
     "output_type": "display_data"
    },
    {
     "data": {
      "application/vnd.jupyter.widget-view+json": {
       "model_id": "c4f818ad9c6b4e5ebbbd183c9cd4667f",
       "version_major": 2,
       "version_minor": 0
      },
      "text/plain": [
       "  0%|          | 0/1000 [00:00<?, ?it/s]"
      ]
     },
     "metadata": {},
     "output_type": "display_data"
    },
    {
     "data": {
      "application/vnd.jupyter.widget-view+json": {
       "model_id": "7be8bcbce93642bf88bd6d1a6df523e5",
       "version_major": 2,
       "version_minor": 0
      },
      "text/plain": [
       "  0%|          | 0/1000 [00:00<?, ?it/s]"
      ]
     },
     "metadata": {},
     "output_type": "display_data"
    },
    {
     "data": {
      "application/vnd.jupyter.widget-view+json": {
       "model_id": "12f03997d3624b62859a09edac8c5b3c",
       "version_major": 2,
       "version_minor": 0
      },
      "text/plain": [
       "  0%|          | 0/1000 [00:00<?, ?it/s]"
      ]
     },
     "metadata": {},
     "output_type": "display_data"
    },
    {
     "data": {
      "application/vnd.jupyter.widget-view+json": {
       "model_id": "9f5269a898df48c892ad21ae974f191f",
       "version_major": 2,
       "version_minor": 0
      },
      "text/plain": [
       "  0%|          | 0/1000 [00:00<?, ?it/s]"
      ]
     },
     "metadata": {},
     "output_type": "display_data"
    },
    {
     "name": "stdout",
     "output_type": "stream",
     "text": [
      "Database 'X_and_y_10000_nodes_5_edges_columns' deleted successfully.\n",
      "Index 'nodes_id_idx' created successfully.\n",
      "Index 'edges_target_id_idx' created successfully.\n"
     ]
    },
    {
     "data": {
      "application/vnd.jupyter.widget-view+json": {
       "model_id": "5c7b706b95f64c8993fac39c24bf79d3",
       "version_major": 2,
       "version_minor": 0
      },
      "text/plain": [
       "  0%|          | 0/3 [00:00<?, ?it/s]"
      ]
     },
     "metadata": {},
     "output_type": "display_data"
    },
    {
     "data": {
      "application/vnd.jupyter.widget-view+json": {
       "model_id": "3706b60e65f14e5e8e15b4af025eb627",
       "version_major": 2,
       "version_minor": 0
      },
      "text/plain": [
       "  0%|          | 0/1000 [00:00<?, ?it/s]"
      ]
     },
     "metadata": {},
     "output_type": "display_data"
    },
    {
     "data": {
      "application/vnd.jupyter.widget-view+json": {
       "model_id": "063e79bfdbcd44658e8834338cf7f76d",
       "version_major": 2,
       "version_minor": 0
      },
      "text/plain": [
       "  0%|          | 0/1000 [00:00<?, ?it/s]"
      ]
     },
     "metadata": {},
     "output_type": "display_data"
    },
    {
     "data": {
      "application/vnd.jupyter.widget-view+json": {
       "model_id": "9ad6e486cbfa4b6e8b6a418609f5135d",
       "version_major": 2,
       "version_minor": 0
      },
      "text/plain": [
       "  0%|          | 0/1000 [00:00<?, ?it/s]"
      ]
     },
     "metadata": {},
     "output_type": "display_data"
    },
    {
     "data": {
      "application/vnd.jupyter.widget-view+json": {
       "model_id": "aa7b9fdab9024e52bce4276ebf407301",
       "version_major": 2,
       "version_minor": 0
      },
      "text/plain": [
       "  0%|          | 0/1000 [00:00<?, ?it/s]"
      ]
     },
     "metadata": {},
     "output_type": "display_data"
    },
    {
     "data": {
      "application/vnd.jupyter.widget-view+json": {
       "model_id": "97cb2112a8cb4a22b9988eb094d0697b",
       "version_major": 2,
       "version_minor": 0
      },
      "text/plain": [
       "  0%|          | 0/1000 [00:00<?, ?it/s]"
      ]
     },
     "metadata": {},
     "output_type": "display_data"
    },
    {
     "name": "stdout",
     "output_type": "stream",
     "text": [
      "Database 'X_and_y_10000_nodes_10_edges_columns' deleted successfully.\n",
      "Index 'nodes_id_idx' created successfully.\n",
      "Index 'edges_target_id_idx' created successfully.\n"
     ]
    },
    {
     "data": {
      "application/vnd.jupyter.widget-view+json": {
       "model_id": "8e6e5ccf02fc47499611b4bbc666627c",
       "version_major": 2,
       "version_minor": 0
      },
      "text/plain": [
       "  0%|          | 0/3 [00:00<?, ?it/s]"
      ]
     },
     "metadata": {},
     "output_type": "display_data"
    },
    {
     "data": {
      "application/vnd.jupyter.widget-view+json": {
       "model_id": "f8abc43d9a52488cadbc9d7d08c19839",
       "version_major": 2,
       "version_minor": 0
      },
      "text/plain": [
       "  0%|          | 0/1000 [00:00<?, ?it/s]"
      ]
     },
     "metadata": {},
     "output_type": "display_data"
    },
    {
     "data": {
      "application/vnd.jupyter.widget-view+json": {
       "model_id": "8abad2a790544d15bc52df661bf2b969",
       "version_major": 2,
       "version_minor": 0
      },
      "text/plain": [
       "  0%|          | 0/1000 [00:00<?, ?it/s]"
      ]
     },
     "metadata": {},
     "output_type": "display_data"
    },
    {
     "data": {
      "application/vnd.jupyter.widget-view+json": {
       "model_id": "c52e92777f904bcaa0ce8049d99175e6",
       "version_major": 2,
       "version_minor": 0
      },
      "text/plain": [
       "  0%|          | 0/1000 [00:00<?, ?it/s]"
      ]
     },
     "metadata": {},
     "output_type": "display_data"
    },
    {
     "data": {
      "application/vnd.jupyter.widget-view+json": {
       "model_id": "f60b27e55e5c4fbebc35b020e4e9f81f",
       "version_major": 2,
       "version_minor": 0
      },
      "text/plain": [
       "  0%|          | 0/1000 [00:00<?, ?it/s]"
      ]
     },
     "metadata": {},
     "output_type": "display_data"
    },
    {
     "data": {
      "application/vnd.jupyter.widget-view+json": {
       "model_id": "ac19df11c29644dbb96c89b03571b735",
       "version_major": 2,
       "version_minor": 0
      },
      "text/plain": [
       "  0%|          | 0/1000 [00:00<?, ?it/s]"
      ]
     },
     "metadata": {},
     "output_type": "display_data"
    },
    {
     "name": "stdout",
     "output_type": "stream",
     "text": [
      "Database 'X_and_y_10000_nodes_20_edges_columns' deleted successfully.\n",
      "Index 'nodes_id_idx' created successfully.\n",
      "Index 'edges_target_id_idx' created successfully.\n"
     ]
    },
    {
     "data": {
      "application/vnd.jupyter.widget-view+json": {
       "model_id": "6eeef7ac8311473e80b98d00e3b8c421",
       "version_major": 2,
       "version_minor": 0
      },
      "text/plain": [
       "  0%|          | 0/3 [00:00<?, ?it/s]"
      ]
     },
     "metadata": {},
     "output_type": "display_data"
    },
    {
     "data": {
      "application/vnd.jupyter.widget-view+json": {
       "model_id": "c2a7f1d71b514f9392dc2db79ac3eb13",
       "version_major": 2,
       "version_minor": 0
      },
      "text/plain": [
       "  0%|          | 0/1000 [00:00<?, ?it/s]"
      ]
     },
     "metadata": {},
     "output_type": "display_data"
    },
    {
     "data": {
      "application/vnd.jupyter.widget-view+json": {
       "model_id": "4ea70a8a94454d2c9bc37d60626dca61",
       "version_major": 2,
       "version_minor": 0
      },
      "text/plain": [
       "  0%|          | 0/1000 [00:00<?, ?it/s]"
      ]
     },
     "metadata": {},
     "output_type": "display_data"
    },
    {
     "data": {
      "application/vnd.jupyter.widget-view+json": {
       "model_id": "03bff2266f5b4ed3951b49ae480811be",
       "version_major": 2,
       "version_minor": 0
      },
      "text/plain": [
       "  0%|          | 0/1000 [00:00<?, ?it/s]"
      ]
     },
     "metadata": {},
     "output_type": "display_data"
    },
    {
     "data": {
      "application/vnd.jupyter.widget-view+json": {
       "model_id": "b22a50f3f2ee4da586b41752f4c6fca6",
       "version_major": 2,
       "version_minor": 0
      },
      "text/plain": [
       "  0%|          | 0/1000 [00:00<?, ?it/s]"
      ]
     },
     "metadata": {},
     "output_type": "display_data"
    },
    {
     "data": {
      "application/vnd.jupyter.widget-view+json": {
       "model_id": "2739b57a7be448b59c4f67c97f94b8b1",
       "version_major": 2,
       "version_minor": 0
      },
      "text/plain": [
       "  0%|          | 0/1000 [00:00<?, ?it/s]"
      ]
     },
     "metadata": {},
     "output_type": "display_data"
    },
    {
     "name": "stdout",
     "output_type": "stream",
     "text": [
      "Database 'X_and_y_10000_nodes_scale_free_columns' deleted successfully.\n"
     ]
    },
    {
     "data": {
      "application/vnd.jupyter.widget-view+json": {
       "model_id": "0cd8fc22dfc14c4081605516c76a744b",
       "version_major": 2,
       "version_minor": 0
      },
      "text/plain": [
       "  0%|          | 0/4 [00:00<?, ?it/s]"
      ]
     },
     "metadata": {},
     "output_type": "display_data"
    },
    {
     "name": "stdout",
     "output_type": "stream",
     "text": [
      "Index 'nodes_id_idx' created successfully.\n",
      "Index 'edges_target_id_idx' created successfully.\n"
     ]
    },
    {
     "data": {
      "application/vnd.jupyter.widget-view+json": {
       "model_id": "83a198587b6347bb8d07c349eac36662",
       "version_major": 2,
       "version_minor": 0
      },
      "text/plain": [
       "  0%|          | 0/3 [00:00<?, ?it/s]"
      ]
     },
     "metadata": {},
     "output_type": "display_data"
    },
    {
     "data": {
      "application/vnd.jupyter.widget-view+json": {
       "model_id": "76fbd29e5e3e4ec4a77d5ba27e216f38",
       "version_major": 2,
       "version_minor": 0
      },
      "text/plain": [
       "  0%|          | 0/1000 [00:00<?, ?it/s]"
      ]
     },
     "metadata": {},
     "output_type": "display_data"
    },
    {
     "data": {
      "application/vnd.jupyter.widget-view+json": {
       "model_id": "b4a92906ce714d21921f8e0dc1f64f58",
       "version_major": 2,
       "version_minor": 0
      },
      "text/plain": [
       "  0%|          | 0/1000 [00:00<?, ?it/s]"
      ]
     },
     "metadata": {},
     "output_type": "display_data"
    },
    {
     "data": {
      "application/vnd.jupyter.widget-view+json": {
       "model_id": "684f1590044f4f05869559a6e54e9ed2",
       "version_major": 2,
       "version_minor": 0
      },
      "text/plain": [
       "  0%|          | 0/1000 [00:00<?, ?it/s]"
      ]
     },
     "metadata": {},
     "output_type": "display_data"
    },
    {
     "data": {
      "application/vnd.jupyter.widget-view+json": {
       "model_id": "df4a698929eb46a4a12f9282e8cd5e56",
       "version_major": 2,
       "version_minor": 0
      },
      "text/plain": [
       "  0%|          | 0/1000 [00:00<?, ?it/s]"
      ]
     },
     "metadata": {},
     "output_type": "display_data"
    },
    {
     "data": {
      "application/vnd.jupyter.widget-view+json": {
       "model_id": "a190a921e6d948d2b009cc173a3fb227",
       "version_major": 2,
       "version_minor": 0
      },
      "text/plain": [
       "  0%|          | 0/1000 [00:00<?, ?it/s]"
      ]
     },
     "metadata": {},
     "output_type": "display_data"
    },
    {
     "name": "stdout",
     "output_type": "stream",
     "text": [
      "Database 'X_and_y_100000_nodes_5_edges_columns' deleted successfully.\n",
      "Index 'nodes_id_idx' created successfully.\n",
      "Index 'edges_target_id_idx' created successfully.\n"
     ]
    },
    {
     "data": {
      "application/vnd.jupyter.widget-view+json": {
       "model_id": "0b1259f58b24421facd6b6ad64154085",
       "version_major": 2,
       "version_minor": 0
      },
      "text/plain": [
       "  0%|          | 0/3 [00:00<?, ?it/s]"
      ]
     },
     "metadata": {},
     "output_type": "display_data"
    },
    {
     "data": {
      "application/vnd.jupyter.widget-view+json": {
       "model_id": "9837d7e4536a4d049b8b7d4854c3a3c2",
       "version_major": 2,
       "version_minor": 0
      },
      "text/plain": [
       "  0%|          | 0/1000 [00:00<?, ?it/s]"
      ]
     },
     "metadata": {},
     "output_type": "display_data"
    },
    {
     "data": {
      "application/vnd.jupyter.widget-view+json": {
       "model_id": "62df0c57efd647b49ee0d01d0b5c93ca",
       "version_major": 2,
       "version_minor": 0
      },
      "text/plain": [
       "  0%|          | 0/1000 [00:00<?, ?it/s]"
      ]
     },
     "metadata": {},
     "output_type": "display_data"
    },
    {
     "data": {
      "application/vnd.jupyter.widget-view+json": {
       "model_id": "f0702d6432984fa1b13497d0a67c051a",
       "version_major": 2,
       "version_minor": 0
      },
      "text/plain": [
       "  0%|          | 0/1000 [00:00<?, ?it/s]"
      ]
     },
     "metadata": {},
     "output_type": "display_data"
    },
    {
     "data": {
      "application/vnd.jupyter.widget-view+json": {
       "model_id": "a4f0a44a46c24000b797b51f544a3afe",
       "version_major": 2,
       "version_minor": 0
      },
      "text/plain": [
       "  0%|          | 0/1000 [00:00<?, ?it/s]"
      ]
     },
     "metadata": {},
     "output_type": "display_data"
    },
    {
     "data": {
      "application/vnd.jupyter.widget-view+json": {
       "model_id": "ac4deca864a74646a70fc57c367043f3",
       "version_major": 2,
       "version_minor": 0
      },
      "text/plain": [
       "  0%|          | 0/1000 [00:00<?, ?it/s]"
      ]
     },
     "metadata": {},
     "output_type": "display_data"
    },
    {
     "name": "stdout",
     "output_type": "stream",
     "text": [
      "Database 'X_and_y_100000_nodes_10_edges_columns' deleted successfully.\n",
      "Index 'nodes_id_idx' created successfully.\n",
      "Index 'edges_target_id_idx' created successfully.\n"
     ]
    },
    {
     "data": {
      "application/vnd.jupyter.widget-view+json": {
       "model_id": "bb78f1b1fcb648999c835bdedd055998",
       "version_major": 2,
       "version_minor": 0
      },
      "text/plain": [
       "  0%|          | 0/3 [00:00<?, ?it/s]"
      ]
     },
     "metadata": {},
     "output_type": "display_data"
    },
    {
     "data": {
      "application/vnd.jupyter.widget-view+json": {
       "model_id": "5e2b6ef6e90c49b2815edb9562671e8c",
       "version_major": 2,
       "version_minor": 0
      },
      "text/plain": [
       "  0%|          | 0/1000 [00:00<?, ?it/s]"
      ]
     },
     "metadata": {},
     "output_type": "display_data"
    },
    {
     "data": {
      "application/vnd.jupyter.widget-view+json": {
       "model_id": "0453cdf1d6cf44c6b01d4a076cebb3dd",
       "version_major": 2,
       "version_minor": 0
      },
      "text/plain": [
       "  0%|          | 0/1000 [00:00<?, ?it/s]"
      ]
     },
     "metadata": {},
     "output_type": "display_data"
    },
    {
     "data": {
      "application/vnd.jupyter.widget-view+json": {
       "model_id": "c7f61977042547238466aced449464b5",
       "version_major": 2,
       "version_minor": 0
      },
      "text/plain": [
       "  0%|          | 0/1000 [00:00<?, ?it/s]"
      ]
     },
     "metadata": {},
     "output_type": "display_data"
    },
    {
     "data": {
      "application/vnd.jupyter.widget-view+json": {
       "model_id": "43ea0a0c1bbc4a668aa19184455d1e8e",
       "version_major": 2,
       "version_minor": 0
      },
      "text/plain": [
       "  0%|          | 0/1000 [00:00<?, ?it/s]"
      ]
     },
     "metadata": {},
     "output_type": "display_data"
    },
    {
     "data": {
      "application/vnd.jupyter.widget-view+json": {
       "model_id": "d9935c85808d41969804af7d372a880a",
       "version_major": 2,
       "version_minor": 0
      },
      "text/plain": [
       "  0%|          | 0/1000 [00:00<?, ?it/s]"
      ]
     },
     "metadata": {},
     "output_type": "display_data"
    },
    {
     "name": "stdout",
     "output_type": "stream",
     "text": [
      "Database 'X_and_y_100000_nodes_20_edges_columns' deleted successfully.\n",
      "Index 'nodes_id_idx' created successfully.\n",
      "Index 'edges_target_id_idx' created successfully.\n"
     ]
    },
    {
     "data": {
      "application/vnd.jupyter.widget-view+json": {
       "model_id": "b891ebd9a581416a8fa33601271eea38",
       "version_major": 2,
       "version_minor": 0
      },
      "text/plain": [
       "  0%|          | 0/3 [00:00<?, ?it/s]"
      ]
     },
     "metadata": {},
     "output_type": "display_data"
    },
    {
     "data": {
      "application/vnd.jupyter.widget-view+json": {
       "model_id": "c37580fdd72e49b58f8701bddb022e94",
       "version_major": 2,
       "version_minor": 0
      },
      "text/plain": [
       "  0%|          | 0/1000 [00:00<?, ?it/s]"
      ]
     },
     "metadata": {},
     "output_type": "display_data"
    },
    {
     "data": {
      "application/vnd.jupyter.widget-view+json": {
       "model_id": "97f05d1aae3245f69c46d49bf5101f33",
       "version_major": 2,
       "version_minor": 0
      },
      "text/plain": [
       "  0%|          | 0/1000 [00:00<?, ?it/s]"
      ]
     },
     "metadata": {},
     "output_type": "display_data"
    },
    {
     "data": {
      "application/vnd.jupyter.widget-view+json": {
       "model_id": "f52d332bdd35416ba1b74d0f381a5429",
       "version_major": 2,
       "version_minor": 0
      },
      "text/plain": [
       "  0%|          | 0/1000 [00:00<?, ?it/s]"
      ]
     },
     "metadata": {},
     "output_type": "display_data"
    },
    {
     "data": {
      "application/vnd.jupyter.widget-view+json": {
       "model_id": "16a16fbc2bc0489b9136d5e7abf5d0ca",
       "version_major": 2,
       "version_minor": 0
      },
      "text/plain": [
       "  0%|          | 0/1000 [00:00<?, ?it/s]"
      ]
     },
     "metadata": {},
     "output_type": "display_data"
    },
    {
     "data": {
      "application/vnd.jupyter.widget-view+json": {
       "model_id": "090c2c67a94b481eb3210072004ca6b1",
       "version_major": 2,
       "version_minor": 0
      },
      "text/plain": [
       "  0%|          | 0/1000 [00:00<?, ?it/s]"
      ]
     },
     "metadata": {},
     "output_type": "display_data"
    },
    {
     "name": "stdout",
     "output_type": "stream",
     "text": [
      "Database 'X_and_y_100000_nodes_scale_free_columns' deleted successfully.\n"
     ]
    }
   ],
   "source": [
    "output_df = pd.DataFrame(columns = [\"name\", \"create\", \"update_nodes\", \"update_edges\", \"delete\"])\n",
    "\n",
    "for num_nodes in tqdm([1_000, 10_000, 100_000]):\n",
    "    # if num_nodes<100_000: continue\n",
    "    for num_edges in tqdm([\"5_edges\", \"10_edges\", \"20_edges\", \"scale_free\"]):\n",
    "        # if num_edges != \"scale_free\": continue\n",
    "        feature_file_name = f\"X_{str(num_nodes)}_nodes_{num_edges}.csv\"\n",
    "        label_file_name = f\"y_{str(num_nodes)}_nodes_{num_edges}.csv\"\n",
    "        edge_file_name = f\"edge_index_{str(num_nodes)}_nodes_{num_edges}.csv\"\n",
    "        assert os.path.exists(f\"syn_data/{feature_file_name}\"), \"Feature file does not exist\"\n",
    "        assert os.path.exists(f\"syn_data/{label_file_name}\"), \"Label file does not exist\"\n",
    "        assert os.path.exists(f\"syn_data/{edge_file_name}\"), \"Edge file does not exist\"\n",
    "        \n",
    "        X = pd.read_csv(f\"syn_data/{feature_file_name}\")\n",
    "        y = pd.read_csv(f\"syn_data/{label_file_name}\")\n",
    "        y.columns = [f\"y_{col}\" for col in y.columns]\n",
    "        y = y.astype(np.int8)\n",
    "        edges = pd.read_csv(f\"syn_data/{edge_file_name}\")\n",
    "        edges.columns = [\"source_id\", \"target_id\"]\n",
    "        edge_index = edges.values.transpose(-1, 0)\n",
    "        node_file_name = f\"X_and_y_{str(num_nodes)}_nodes_{num_edges}_columns.csv\"\n",
    "        if not os.path.exists(f\"syn_data/{node_file_name}\"):\n",
    "            X_and_y = X.copy()\n",
    "            X_and_y.columns = list(map(lambda col: f\"f_{col}\", X_and_y.columns))\n",
    "            X_and_y = pd.concat((X_and_y, y), axis = 1)\n",
    "            X_and_y.to_csv(f\"syn_data/{node_file_name}\", sep = \",\", index = True)\n",
    "        else:\n",
    "            X_and_y = pd.read_csv(f\"syn_data/{node_file_name}\", sep = \",\", index_col = 0)\n",
    "        conn, db_name = create_database(node_file_name)\n",
    "        create_time = create(conn, node_file_name, edge_file_name, X_and_y)\n",
    "        read_times = dict()\n",
    "        read_times_mem = dict()\n",
    "        for hops in tqdm(range(1, 4)):\n",
    "            # if hops <3: continue\n",
    "            read_time, read_time_mem = read(conn, hops, X_and_y, X, y, edge_index, random_sample_size = 1_000)\n",
    "            read_times[hops] = read_time\n",
    "            read_times_mem[hops] = read_time_mem\n",
    "        update_time_nodes = update_nodes(conn, X_and_y, 1_000)\n",
    "        update_time_edges = update_edges(conn, edge_index, X_and_y, 1_000)\n",
    "        delete_time = delete(conn, db_name)\n",
    "        new_row_dict = {\"name\": f\"{str(num_nodes)}_nodes_{num_edges}\", \"create\": create_time, \"update_nodes\": update_time_nodes, \"update_edges\": update_time_edges, \"delete\": delete_time}\n",
    "        for hops in read_times:\n",
    "            new_row_dict[f\"read_{hops}\"] = read_times[hops]\n",
    "            new_row_dict[f\"read_in_mem_{hops}\"] = read_times_mem[hops]\n",
    "        new_row = pd.DataFrame([new_row_dict])\n",
    "        output_df = pd.concat((output_df, new_row), ignore_index=True)"
   ]
  },
  {
   "cell_type": "code",
   "execution_count": 189,
   "id": "da9fc391-4299-474b-b365-fb4ab4347574",
   "metadata": {},
   "outputs": [
    {
     "name": "stdout",
     "output_type": "stream",
     "text": [
      "Database 'X_and_y_100000_nodes_scale_free_columns' deleted successfully.\n"
     ]
    }
   ],
   "source": [
    "delete_time = delete(conn, db_name)"
   ]
  },
  {
   "cell_type": "code",
   "execution_count": 194,
   "id": "ded1c959-ebbe-45c5-9fad-cdea5f9fb4ca",
   "metadata": {},
   "outputs": [
    {
     "data": {
      "text/html": [
       "<div>\n",
       "<style scoped>\n",
       "    .dataframe tbody tr th:only-of-type {\n",
       "        vertical-align: middle;\n",
       "    }\n",
       "\n",
       "    .dataframe tbody tr th {\n",
       "        vertical-align: top;\n",
       "    }\n",
       "\n",
       "    .dataframe thead th {\n",
       "        text-align: right;\n",
       "    }\n",
       "</style>\n",
       "<table border=\"1\" class=\"dataframe\">\n",
       "  <thead>\n",
       "    <tr style=\"text-align: right;\">\n",
       "      <th></th>\n",
       "      <th>name</th>\n",
       "      <th>create</th>\n",
       "      <th>update_nodes</th>\n",
       "      <th>update_edges</th>\n",
       "      <th>delete</th>\n",
       "      <th>read_1</th>\n",
       "      <th>read_in_mem_1</th>\n",
       "      <th>read_2</th>\n",
       "      <th>read_in_mem_2</th>\n",
       "      <th>read_3</th>\n",
       "      <th>read_in_mem_3</th>\n",
       "    </tr>\n",
       "  </thead>\n",
       "  <tbody>\n",
       "    <tr>\n",
       "      <th>0</th>\n",
       "      <td>1000_nodes_5_edges</td>\n",
       "      <td>1.463043</td>\n",
       "      <td>2.184429</td>\n",
       "      <td>0.822046</td>\n",
       "      <td>0.210973</td>\n",
       "      <td>7.490119</td>\n",
       "      <td>1.741102</td>\n",
       "      <td>11.960992</td>\n",
       "      <td>2.521762</td>\n",
       "      <td>26.139085</td>\n",
       "      <td>3.214822</td>\n",
       "    </tr>\n",
       "    <tr>\n",
       "      <th>1</th>\n",
       "      <td>1000_nodes_10_edges</td>\n",
       "      <td>1.599948</td>\n",
       "      <td>2.108052</td>\n",
       "      <td>0.829818</td>\n",
       "      <td>0.212188</td>\n",
       "      <td>8.459323</td>\n",
       "      <td>1.843979</td>\n",
       "      <td>21.732071</td>\n",
       "      <td>2.984611</td>\n",
       "      <td>88.655786</td>\n",
       "      <td>2.787893</td>\n",
       "    </tr>\n",
       "    <tr>\n",
       "      <th>2</th>\n",
       "      <td>1000_nodes_20_edges</td>\n",
       "      <td>1.952791</td>\n",
       "      <td>2.141046</td>\n",
       "      <td>0.999122</td>\n",
       "      <td>0.211121</td>\n",
       "      <td>10.470124</td>\n",
       "      <td>2.059690</td>\n",
       "      <td>55.137766</td>\n",
       "      <td>3.628188</td>\n",
       "      <td>193.961638</td>\n",
       "      <td>4.006204</td>\n",
       "    </tr>\n",
       "    <tr>\n",
       "      <th>3</th>\n",
       "      <td>1000_nodes_scale_free</td>\n",
       "      <td>1.105995</td>\n",
       "      <td>2.333575</td>\n",
       "      <td>1.314339</td>\n",
       "      <td>0.176332</td>\n",
       "      <td>1.038987</td>\n",
       "      <td>0.379935</td>\n",
       "      <td>2.529759</td>\n",
       "      <td>0.484170</td>\n",
       "      <td>7.173735</td>\n",
       "      <td>0.535750</td>\n",
       "    </tr>\n",
       "    <tr>\n",
       "      <th>4</th>\n",
       "      <td>10000_nodes_5_edges</td>\n",
       "      <td>3.272926</td>\n",
       "      <td>2.360418</td>\n",
       "      <td>0.870492</td>\n",
       "      <td>0.280411</td>\n",
       "      <td>7.697648</td>\n",
       "      <td>2.495111</td>\n",
       "      <td>14.111896</td>\n",
       "      <td>5.847985</td>\n",
       "      <td>30.363154</td>\n",
       "      <td>8.381246</td>\n",
       "    </tr>\n",
       "    <tr>\n",
       "      <th>5</th>\n",
       "      <td>10000_nodes_10_edges</td>\n",
       "      <td>4.890435</td>\n",
       "      <td>2.043577</td>\n",
       "      <td>0.903109</td>\n",
       "      <td>0.236715</td>\n",
       "      <td>9.230950</td>\n",
       "      <td>3.372922</td>\n",
       "      <td>25.508189</td>\n",
       "      <td>8.758877</td>\n",
       "      <td>122.247805</td>\n",
       "      <td>6.468819</td>\n",
       "    </tr>\n",
       "    <tr>\n",
       "      <th>6</th>\n",
       "      <td>10000_nodes_20_edges</td>\n",
       "      <td>7.475756</td>\n",
       "      <td>1.973703</td>\n",
       "      <td>1.002952</td>\n",
       "      <td>0.267689</td>\n",
       "      <td>12.548093</td>\n",
       "      <td>5.182311</td>\n",
       "      <td>61.899794</td>\n",
       "      <td>11.630331</td>\n",
       "      <td>843.325377</td>\n",
       "      <td>8.390706</td>\n",
       "    </tr>\n",
       "    <tr>\n",
       "      <th>7</th>\n",
       "      <td>10000_nodes_scale_free</td>\n",
       "      <td>3.267220</td>\n",
       "      <td>2.339185</td>\n",
       "      <td>3.736287</td>\n",
       "      <td>0.209707</td>\n",
       "      <td>1.470426</td>\n",
       "      <td>0.488301</td>\n",
       "      <td>10.726944</td>\n",
       "      <td>0.694544</td>\n",
       "      <td>49.320275</td>\n",
       "      <td>0.799548</td>\n",
       "    </tr>\n",
       "    <tr>\n",
       "      <th>8</th>\n",
       "      <td>100000_nodes_5_edges</td>\n",
       "      <td>22.170522</td>\n",
       "      <td>2.249808</td>\n",
       "      <td>0.419322</td>\n",
       "      <td>0.422125</td>\n",
       "      <td>7.618810</td>\n",
       "      <td>8.622148</td>\n",
       "      <td>14.927297</td>\n",
       "      <td>20.054413</td>\n",
       "      <td>30.831640</td>\n",
       "      <td>28.481489</td>\n",
       "    </tr>\n",
       "    <tr>\n",
       "      <th>9</th>\n",
       "      <td>100000_nodes_10_edges</td>\n",
       "      <td>35.706320</td>\n",
       "      <td>2.119339</td>\n",
       "      <td>0.905093</td>\n",
       "      <td>1.317583</td>\n",
       "      <td>9.029296</td>\n",
       "      <td>11.169414</td>\n",
       "      <td>28.288627</td>\n",
       "      <td>30.194708</td>\n",
       "      <td>124.878268</td>\n",
       "      <td>40.261982</td>\n",
       "    </tr>\n",
       "    <tr>\n",
       "      <th>10</th>\n",
       "      <td>100000_nodes_20_edges</td>\n",
       "      <td>49.527643</td>\n",
       "      <td>1.890055</td>\n",
       "      <td>2.881593</td>\n",
       "      <td>1.286104</td>\n",
       "      <td>12.337222</td>\n",
       "      <td>17.759060</td>\n",
       "      <td>57.733765</td>\n",
       "      <td>46.452598</td>\n",
       "      <td>1364.629440</td>\n",
       "      <td>59.709420</td>\n",
       "    </tr>\n",
       "    <tr>\n",
       "      <th>11</th>\n",
       "      <td>100000_nodes_scale_free</td>\n",
       "      <td>16.899729</td>\n",
       "      <td>2.069592</td>\n",
       "      <td>12.543702</td>\n",
       "      <td>0.254234</td>\n",
       "      <td>1.388310</td>\n",
       "      <td>1.158449</td>\n",
       "      <td>52.890747</td>\n",
       "      <td>2.399482</td>\n",
       "      <td>755.485921</td>\n",
       "      <td>2.503854</td>\n",
       "    </tr>\n",
       "  </tbody>\n",
       "</table>\n",
       "</div>"
      ],
      "text/plain": [
       "                       name     create  update_nodes  update_edges    delete  \\\n",
       "0        1000_nodes_5_edges   1.463043      2.184429      0.822046  0.210973   \n",
       "1       1000_nodes_10_edges   1.599948      2.108052      0.829818  0.212188   \n",
       "2       1000_nodes_20_edges   1.952791      2.141046      0.999122  0.211121   \n",
       "3     1000_nodes_scale_free   1.105995      2.333575      1.314339  0.176332   \n",
       "4       10000_nodes_5_edges   3.272926      2.360418      0.870492  0.280411   \n",
       "5      10000_nodes_10_edges   4.890435      2.043577      0.903109  0.236715   \n",
       "6      10000_nodes_20_edges   7.475756      1.973703      1.002952  0.267689   \n",
       "7    10000_nodes_scale_free   3.267220      2.339185      3.736287  0.209707   \n",
       "8      100000_nodes_5_edges  22.170522      2.249808      0.419322  0.422125   \n",
       "9     100000_nodes_10_edges  35.706320      2.119339      0.905093  1.317583   \n",
       "10    100000_nodes_20_edges  49.527643      1.890055      2.881593  1.286104   \n",
       "11  100000_nodes_scale_free  16.899729      2.069592     12.543702  0.254234   \n",
       "\n",
       "       read_1  read_in_mem_1     read_2  read_in_mem_2       read_3  \\\n",
       "0    7.490119       1.741102  11.960992       2.521762    26.139085   \n",
       "1    8.459323       1.843979  21.732071       2.984611    88.655786   \n",
       "2   10.470124       2.059690  55.137766       3.628188   193.961638   \n",
       "3    1.038987       0.379935   2.529759       0.484170     7.173735   \n",
       "4    7.697648       2.495111  14.111896       5.847985    30.363154   \n",
       "5    9.230950       3.372922  25.508189       8.758877   122.247805   \n",
       "6   12.548093       5.182311  61.899794      11.630331   843.325377   \n",
       "7    1.470426       0.488301  10.726944       0.694544    49.320275   \n",
       "8    7.618810       8.622148  14.927297      20.054413    30.831640   \n",
       "9    9.029296      11.169414  28.288627      30.194708   124.878268   \n",
       "10  12.337222      17.759060  57.733765      46.452598  1364.629440   \n",
       "11   1.388310       1.158449  52.890747       2.399482   755.485921   \n",
       "\n",
       "    read_in_mem_3  \n",
       "0        3.214822  \n",
       "1        2.787893  \n",
       "2        4.006204  \n",
       "3        0.535750  \n",
       "4        8.381246  \n",
       "5        6.468819  \n",
       "6        8.390706  \n",
       "7        0.799548  \n",
       "8       28.481489  \n",
       "9       40.261982  \n",
       "10      59.709420  \n",
       "11       2.503854  "
      ]
     },
     "execution_count": 194,
     "metadata": {},
     "output_type": "execute_result"
    }
   ],
   "source": [
    "output_df"
   ]
  },
  {
   "cell_type": "code",
   "execution_count": 195,
   "id": "a67b127b-cc5b-4fe4-abf2-7ea6845a9ea4",
   "metadata": {},
   "outputs": [],
   "source": [
    "output_df.to_csv(\"mysql_col_first_res.csv\")"
   ]
  },
  {
   "cell_type": "code",
   "execution_count": null,
   "id": "cf6cb3c3-9bbd-43f6-933c-7d2358b57491",
   "metadata": {},
   "outputs": [],
   "source": [
    "## TODO try JSON as list and then aggregated concat with JSON_ARRAYAGG (json loads anyways)"
   ]
  }
 ],
 "metadata": {
  "kernelspec": {
   "display_name": "Python 3 (ipykernel)",
   "language": "python",
   "name": "python3"
  },
  "language_info": {
   "codemirror_mode": {
    "name": "ipython",
    "version": 3
   },
   "file_extension": ".py",
   "mimetype": "text/x-python",
   "name": "python",
   "nbconvert_exporter": "python",
   "pygments_lexer": "ipython3",
   "version": "3.10.12"
  }
 },
 "nbformat": 4,
 "nbformat_minor": 5
}
